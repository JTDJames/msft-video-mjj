{
 "cells": [
  {
   "cell_type": "markdown",
   "metadata": {},
   "source": [
    "# Microsoft Original Video Content"
   ]
  },
  {
   "cell_type": "markdown",
   "metadata": {},
   "source": [
    "# Table of Contents\n",
    "*[Overvdiew](#over)<br>\n",
    "\n",
    "*[Business Understanding](#bizund)<br>\n",
    "*[Data Understanding](#dataund)<br>\n",
    "*[Data Preperation](#dataprep)<br>\n",
    "*[Data Import](#dataimport)<br>\n",
    "\n",
    "*[Data Cleaning](#datacleaning)<br>\n",
    "*[IMDB Cleaning](#imdbclean)<br>\n",
    "*[The Numbers (TN) Cleaning](#imdbclean)<br>\n",
    "*[Data Mergeing](#merge)<br>\n",
    "\n",
    "*[Analysis](#explore)<br>\n",
    "*[Average Rating IMDB](#rat)<br>\n",
    "*[Studios to Hire From](#stud)<br>\n",
    "*[Allocation of Budget](#bud)<br>\n",
    "*[Successful Genres](#gen)<br>\n",
    "*[Direcotrs to Work With](#dir)<br>\n",
    "\n",
    "*[Conslusion](#con)<br>\n",
    "*[Nest Steps](#steps)<br>\n"
   ]
  },
  {
   "cell_type": "markdown",
   "metadata": {},
   "source": [
    "# Overview <a class=\"anchor\" id=\"over\"></a>"
   ]
  },
  {
   "cell_type": "markdown",
   "metadata": {},
   "source": [
    "This project analyzes the success of movies based on data gathered from multiple sources: https://www.imdb.com/, https://www.the-numbers.com/, and https://www.boxofficemojo.com/. We've come to the conclusion that genre type, the production budget, and the director play a most noticable role in profits. While it is important to get a good rating, we've found that it is not as important when trying to build capital."
   ]
  },
  {
   "cell_type": "markdown",
   "metadata": {},
   "source": [
    "# Business Problem <a class=\"anchor\" id=\"bizund\"></a>"
   ]
  },
  {
   "cell_type": "markdown",
   "metadata": {},
   "source": [
    "Microsoft is planning on expanding their company developing an original content studio. We believe it best to start with a comprehensive understanding of the current market. Doing so will allow for the best opportunity for success, longevity, and great content."
   ]
  },
  {
   "cell_type": "markdown",
   "metadata": {},
   "source": [
    "We've created bar charts and scatter plots that have been a useful practice while coming to our conclusions. Doing so has allowed us to gain an understanding of trends and specific methods we can use to bring in profits. The information we are displaying is from 2012 to 2019."
   ]
  },
  {
   "cell_type": "markdown",
   "metadata": {},
   "source": [
    "# Data Understanding <a class=\"anchor\" id=\"dataund\"></a>"
   ]
  },
  {
   "cell_type": "code",
   "execution_count": 2,
   "metadata": {},
   "outputs": [],
   "source": [
    "# Import linraries and modules\n",
    "\n",
    "import pandas as pd\n",
    "import matplotlib.pyplot as plt\n",
    "import seaborn as sns\n",
    "import sqlite3 "
   ]
  },
  {
   "cell_type": "code",
   "execution_count": 3,
   "metadata": {},
   "outputs": [],
   "source": [
    "#Access IMDB data through sqlite3\n",
    "\n",
    "# Connect to sqlite3\n",
    "conn = sqlite3.connect('../data/im.db')\n",
    "\n",
    "# Query and join IMDB tables movie_basics, movie_ratings and director information (joined tables directors and perons)\n",
    "\n",
    "df_imdb = pd.read_sql(\"\"\"\n",
    "    SELECT *\n",
    "    FROM \n",
    "    movie_basics AS mb\n",
    "        LEFT JOIN movie_ratings AS mr\n",
    "            ON mb.movie_id = mr.movie_id\n",
    "        LEFT JOIN\n",
    "            (SELECT *\n",
    "            FROM directors GROUP BY movie_id) AS dr\n",
    "            ON mb.movie_id = dr.movie_id\n",
    "        LEFT JOIN persons AS ps\n",
    "            ON dr.person_id = ps.person_id\n",
    "\"\"\", conn)"
   ]
  },
  {
   "cell_type": "code",
   "execution_count": 4,
   "metadata": {},
   "outputs": [],
   "source": [
    "# Import The Numbers dataset\n",
    "df_tn = pd.read_csv('../data/tn.movie_budgets.csv')"
   ]
  },
  {
   "cell_type": "code",
   "execution_count": 5,
   "metadata": {},
   "outputs": [],
   "source": [
    "# Import The Numbers dataset\n",
    "df_bom = pd.read_csv('../data/bom.movie_gross.csv')"
   ]
  },
  {
   "cell_type": "code",
   "execution_count": 6,
   "metadata": {},
   "outputs": [
    {
     "name": "stdout",
     "output_type": "stream",
     "text": [
      "<class 'pandas.core.frame.DataFrame'>\n",
      "RangeIndex: 146144 entries, 0 to 146143\n",
      "Data columns (total 16 columns):\n",
      " #   Column              Non-Null Count   Dtype  \n",
      "---  ------              --------------   -----  \n",
      " 0   movie_id            146144 non-null  object \n",
      " 1   primary_title       146144 non-null  object \n",
      " 2   original_title      146123 non-null  object \n",
      " 3   start_year          146144 non-null  int64  \n",
      " 4   runtime_minutes     114405 non-null  float64\n",
      " 5   genres              140736 non-null  object \n",
      " 6   movie_id            73856 non-null   object \n",
      " 7   averagerating       73856 non-null   float64\n",
      " 8   numvotes            73856 non-null   float64\n",
      " 9   movie_id            140417 non-null  object \n",
      " 10  person_id           140417 non-null  object \n",
      " 11  person_id           140416 non-null  object \n",
      " 12  primary_name        140416 non-null  object \n",
      " 13  birth_year          30609 non-null   float64\n",
      " 14  death_year          856 non-null     float64\n",
      " 15  primary_profession  139887 non-null  object \n",
      "dtypes: float64(5), int64(1), object(10)\n",
      "memory usage: 17.8+ MB\n"
     ]
    }
   ],
   "source": [
    "df_imdb.info()"
   ]
  },
  {
   "cell_type": "code",
   "execution_count": 7,
   "metadata": {},
   "outputs": [
    {
     "name": "stdout",
     "output_type": "stream",
     "text": [
      "<class 'pandas.core.frame.DataFrame'>\n",
      "RangeIndex: 5782 entries, 0 to 5781\n",
      "Data columns (total 6 columns):\n",
      " #   Column             Non-Null Count  Dtype \n",
      "---  ------             --------------  ----- \n",
      " 0   id                 5782 non-null   int64 \n",
      " 1   release_date       5782 non-null   object\n",
      " 2   movie              5782 non-null   object\n",
      " 3   production_budget  5782 non-null   object\n",
      " 4   domestic_gross     5782 non-null   object\n",
      " 5   worldwide_gross    5782 non-null   object\n",
      "dtypes: int64(1), object(5)\n",
      "memory usage: 271.2+ KB\n"
     ]
    }
   ],
   "source": [
    "df_tn.info()"
   ]
  },
  {
   "cell_type": "code",
   "execution_count": 8,
   "metadata": {},
   "outputs": [
    {
     "name": "stdout",
     "output_type": "stream",
     "text": [
      "<class 'pandas.core.frame.DataFrame'>\n",
      "RangeIndex: 3387 entries, 0 to 3386\n",
      "Data columns (total 5 columns):\n",
      " #   Column          Non-Null Count  Dtype  \n",
      "---  ------          --------------  -----  \n",
      " 0   title           3387 non-null   object \n",
      " 1   studio          3382 non-null   object \n",
      " 2   domestic_gross  3359 non-null   float64\n",
      " 3   foreign_gross   2037 non-null   object \n",
      " 4   year            3387 non-null   int64  \n",
      "dtypes: float64(1), int64(1), object(3)\n",
      "memory usage: 132.4+ KB\n"
     ]
    }
   ],
   "source": [
    "df_bom.info()"
   ]
  },
  {
   "cell_type": "markdown",
   "metadata": {},
   "source": [
    "# Data Preperation <a class=\"anchor\" id=\"dataprep\"></a>"
   ]
  },
  {
   "cell_type": "markdown",
   "metadata": {},
   "source": [
    "## Data Cleaning <a class=\"anchor\" id=\"datacleaning\"></a>"
   ]
  },
  {
   "cell_type": "markdown",
   "metadata": {},
   "source": [
    "### IMDB Cleaning <a class=\"anchor\" id=\"imdbclean\"></a>"
   ]
  },
  {
   "cell_type": "code",
   "execution_count": 9,
   "metadata": {},
   "outputs": [],
   "source": [
    "# Split genres from IMDB data into spereate columns\n",
    "df_imdb[['Genre_1','Genre_2', 'Genre_3']] = df_imdb[\"genres\"].str.split(\",\",expand=True)\n",
    "\n",
    "# Add colum of avrage rating relative to mean of overall average rating\n",
    "df_imdb['rating_relative_to_avg'] = df_imdb['averagerating'] - df_imdb['averagerating'].mean()\n",
    "\n",
    "\n",
    "# Create dataframe of counts of genres\n",
    "# Count genres by column\n",
    "df_gen_cnt = df_imdb[['Genre_1', 'Genre_2', 'Genre_3']].apply(pd.Series.value_counts)\n",
    "# Make NaNs 0\n",
    "df_gen_cnt = df_gen_cnt.fillna(0)\n",
    "\n",
    "# Get total count per genre and add to total counts column\n",
    "df_gen_cnt['total_gen_cnt'] = df_gen_cnt['Genre_1'] + df_gen_cnt['Genre_2'] + df_gen_cnt['Genre_3']\n",
    "\n",
    "# Create a datafram of genre combinations and their averagerating\n",
    "df_genres = df_imdb.loc[:, [\"Genre_1\",\"Genre_2\",\"Genre_3\", \"averagerating\", \"numvotes\", 'start_year']]\n",
    "\n",
    "# A dataframe of genre value counts\n",
    "df_gen_cnt = df_imdb[['Genre_1', 'Genre_2', 'Genre_3']].apply(pd.Series.value_counts)\n",
    "df_gen_cnt = df_gen_cnt.fillna(0)\n",
    "df_gen_cnt['total_gen_cnt'] = df_gen_cnt['Genre_1'] + df_gen_cnt['Genre_2'] + df_gen_cnt['Genre_3']\n",
    "df_genres = df_genres.dropna(subset=['averagerating'])\n"
   ]
  },
  {
   "cell_type": "code",
   "execution_count": 10,
   "metadata": {},
   "outputs": [
    {
     "data": {
      "text/html": [
       "<div>\n",
       "<style scoped>\n",
       "    .dataframe tbody tr th:only-of-type {\n",
       "        vertical-align: middle;\n",
       "    }\n",
       "\n",
       "    .dataframe tbody tr th {\n",
       "        vertical-align: top;\n",
       "    }\n",
       "\n",
       "    .dataframe thead th {\n",
       "        text-align: right;\n",
       "    }\n",
       "</style>\n",
       "<table border=\"1\" class=\"dataframe\">\n",
       "  <thead>\n",
       "    <tr style=\"text-align: right;\">\n",
       "      <th></th>\n",
       "      <th>Genre_1</th>\n",
       "      <th>Genre_2</th>\n",
       "      <th>Genre_3</th>\n",
       "      <th>total_gen_cnt</th>\n",
       "    </tr>\n",
       "  </thead>\n",
       "  <tbody>\n",
       "    <tr>\n",
       "      <th>Action</th>\n",
       "      <td>10335</td>\n",
       "      <td>0.0</td>\n",
       "      <td>0.0</td>\n",
       "      <td>10335.0</td>\n",
       "    </tr>\n",
       "    <tr>\n",
       "      <th>Adult</th>\n",
       "      <td>23</td>\n",
       "      <td>2.0</td>\n",
       "      <td>0.0</td>\n",
       "      <td>25.0</td>\n",
       "    </tr>\n",
       "    <tr>\n",
       "      <th>Adventure</th>\n",
       "      <td>4760</td>\n",
       "      <td>1705.0</td>\n",
       "      <td>0.0</td>\n",
       "      <td>6465.0</td>\n",
       "    </tr>\n",
       "    <tr>\n",
       "      <th>Animation</th>\n",
       "      <td>1839</td>\n",
       "      <td>763.0</td>\n",
       "      <td>197.0</td>\n",
       "      <td>2799.0</td>\n",
       "    </tr>\n",
       "    <tr>\n",
       "      <th>Biography</th>\n",
       "      <td>8021</td>\n",
       "      <td>656.0</td>\n",
       "      <td>45.0</td>\n",
       "      <td>8722.0</td>\n",
       "    </tr>\n",
       "    <tr>\n",
       "      <th>Comedy</th>\n",
       "      <td>21514</td>\n",
       "      <td>3092.0</td>\n",
       "      <td>706.0</td>\n",
       "      <td>25312.0</td>\n",
       "    </tr>\n",
       "    <tr>\n",
       "      <th>Crime</th>\n",
       "      <td>3919</td>\n",
       "      <td>2369.0</td>\n",
       "      <td>465.0</td>\n",
       "      <td>6753.0</td>\n",
       "    </tr>\n",
       "    <tr>\n",
       "      <th>Documentary</th>\n",
       "      <td>41609</td>\n",
       "      <td>8737.0</td>\n",
       "      <td>1294.0</td>\n",
       "      <td>51640.0</td>\n",
       "    </tr>\n",
       "    <tr>\n",
       "      <th>Drama</th>\n",
       "      <td>31343</td>\n",
       "      <td>14559.0</td>\n",
       "      <td>3981.0</td>\n",
       "      <td>49883.0</td>\n",
       "    </tr>\n",
       "    <tr>\n",
       "      <th>Family</th>\n",
       "      <td>1108</td>\n",
       "      <td>2980.0</td>\n",
       "      <td>2139.0</td>\n",
       "      <td>6227.0</td>\n",
       "    </tr>\n",
       "    <tr>\n",
       "      <th>Fantasy</th>\n",
       "      <td>905</td>\n",
       "      <td>1512.0</td>\n",
       "      <td>1099.0</td>\n",
       "      <td>3516.0</td>\n",
       "    </tr>\n",
       "    <tr>\n",
       "      <th>Game-Show</th>\n",
       "      <td>3</td>\n",
       "      <td>1.0</td>\n",
       "      <td>0.0</td>\n",
       "      <td>4.0</td>\n",
       "    </tr>\n",
       "    <tr>\n",
       "      <th>History</th>\n",
       "      <td>468</td>\n",
       "      <td>3046.0</td>\n",
       "      <td>2711.0</td>\n",
       "      <td>6225.0</td>\n",
       "    </tr>\n",
       "    <tr>\n",
       "      <th>Horror</th>\n",
       "      <td>6650</td>\n",
       "      <td>3110.0</td>\n",
       "      <td>1045.0</td>\n",
       "      <td>10805.0</td>\n",
       "    </tr>\n",
       "    <tr>\n",
       "      <th>Music</th>\n",
       "      <td>741</td>\n",
       "      <td>2082.0</td>\n",
       "      <td>1491.0</td>\n",
       "      <td>4314.0</td>\n",
       "    </tr>\n",
       "    <tr>\n",
       "      <th>Musical</th>\n",
       "      <td>423</td>\n",
       "      <td>524.0</td>\n",
       "      <td>483.0</td>\n",
       "      <td>1430.0</td>\n",
       "    </tr>\n",
       "    <tr>\n",
       "      <th>Mystery</th>\n",
       "      <td>866</td>\n",
       "      <td>2247.0</td>\n",
       "      <td>1546.0</td>\n",
       "      <td>4659.0</td>\n",
       "    </tr>\n",
       "    <tr>\n",
       "      <th>News</th>\n",
       "      <td>17</td>\n",
       "      <td>706.0</td>\n",
       "      <td>828.0</td>\n",
       "      <td>1551.0</td>\n",
       "    </tr>\n",
       "    <tr>\n",
       "      <th>Reality-TV</th>\n",
       "      <td>54</td>\n",
       "      <td>22.0</td>\n",
       "      <td>22.0</td>\n",
       "      <td>98.0</td>\n",
       "    </tr>\n",
       "    <tr>\n",
       "      <th>Romance</th>\n",
       "      <td>1555</td>\n",
       "      <td>4417.0</td>\n",
       "      <td>3400.0</td>\n",
       "      <td>9372.0</td>\n",
       "    </tr>\n",
       "    <tr>\n",
       "      <th>Sci-Fi</th>\n",
       "      <td>851</td>\n",
       "      <td>1204.0</td>\n",
       "      <td>1310.0</td>\n",
       "      <td>3365.0</td>\n",
       "    </tr>\n",
       "    <tr>\n",
       "      <th>Short</th>\n",
       "      <td>1</td>\n",
       "      <td>6.0</td>\n",
       "      <td>4.0</td>\n",
       "      <td>11.0</td>\n",
       "    </tr>\n",
       "    <tr>\n",
       "      <th>Sport</th>\n",
       "      <td>363</td>\n",
       "      <td>985.0</td>\n",
       "      <td>886.0</td>\n",
       "      <td>2234.0</td>\n",
       "    </tr>\n",
       "    <tr>\n",
       "      <th>Talk-Show</th>\n",
       "      <td>39</td>\n",
       "      <td>11.0</td>\n",
       "      <td>0.0</td>\n",
       "      <td>50.0</td>\n",
       "    </tr>\n",
       "    <tr>\n",
       "      <th>Thriller</th>\n",
       "      <td>3055</td>\n",
       "      <td>4036.0</td>\n",
       "      <td>4792.0</td>\n",
       "      <td>11883.0</td>\n",
       "    </tr>\n",
       "    <tr>\n",
       "      <th>War</th>\n",
       "      <td>132</td>\n",
       "      <td>471.0</td>\n",
       "      <td>802.0</td>\n",
       "      <td>1405.0</td>\n",
       "    </tr>\n",
       "    <tr>\n",
       "      <th>Western</th>\n",
       "      <td>142</td>\n",
       "      <td>135.0</td>\n",
       "      <td>190.0</td>\n",
       "      <td>467.0</td>\n",
       "    </tr>\n",
       "  </tbody>\n",
       "</table>\n",
       "</div>"
      ],
      "text/plain": [
       "             Genre_1  Genre_2  Genre_3  total_gen_cnt\n",
       "Action         10335      0.0      0.0        10335.0\n",
       "Adult             23      2.0      0.0           25.0\n",
       "Adventure       4760   1705.0      0.0         6465.0\n",
       "Animation       1839    763.0    197.0         2799.0\n",
       "Biography       8021    656.0     45.0         8722.0\n",
       "Comedy         21514   3092.0    706.0        25312.0\n",
       "Crime           3919   2369.0    465.0         6753.0\n",
       "Documentary    41609   8737.0   1294.0        51640.0\n",
       "Drama          31343  14559.0   3981.0        49883.0\n",
       "Family          1108   2980.0   2139.0         6227.0\n",
       "Fantasy          905   1512.0   1099.0         3516.0\n",
       "Game-Show          3      1.0      0.0            4.0\n",
       "History          468   3046.0   2711.0         6225.0\n",
       "Horror          6650   3110.0   1045.0        10805.0\n",
       "Music            741   2082.0   1491.0         4314.0\n",
       "Musical          423    524.0    483.0         1430.0\n",
       "Mystery          866   2247.0   1546.0         4659.0\n",
       "News              17    706.0    828.0         1551.0\n",
       "Reality-TV        54     22.0     22.0           98.0\n",
       "Romance         1555   4417.0   3400.0         9372.0\n",
       "Sci-Fi           851   1204.0   1310.0         3365.0\n",
       "Short              1      6.0      4.0           11.0\n",
       "Sport            363    985.0    886.0         2234.0\n",
       "Talk-Show         39     11.0      0.0           50.0\n",
       "Thriller        3055   4036.0   4792.0        11883.0\n",
       "War              132    471.0    802.0         1405.0\n",
       "Western          142    135.0    190.0          467.0"
      ]
     },
     "execution_count": 10,
     "metadata": {},
     "output_type": "execute_result"
    }
   ],
   "source": [
    "df_gen_cnt"
   ]
  },
  {
   "cell_type": "markdown",
   "metadata": {},
   "source": [
    "### TN Cleaning <a class=\"anchor\" id=\"tnclean\"></a>"
   ]
  },
  {
   "cell_type": "code",
   "execution_count": 11,
   "metadata": {},
   "outputs": [],
   "source": [
    "# Remove non-numerical characters from strings that will be converted to numerics\n",
    "df_tn['production_budget'] = df_tn['production_budget'].str.replace(\",\",\"\")\n",
    "df_tn['production_budget'] = df_tn['production_budget'].str.replace(\"$\",\"\")\n",
    "\n",
    "df_tn['worldwide_gross'] = df_tn['worldwide_gross'].str.replace(\",\",\"\")\n",
    "df_tn['worldwide_gross'] = df_tn['worldwide_gross'].str.replace(\"$\",\"\")\n",
    "\n",
    "df_tn['domestic_gross'] = df_tn['worldwide_gross'].str.replace(\",\",\"\")\n",
    "df_tn['domestic_gross'] = df_tn['worldwide_gross'].str.replace(\"$\",\"\")"
   ]
  },
  {
   "cell_type": "code",
   "execution_count": 12,
   "metadata": {},
   "outputs": [],
   "source": [
    "# Convert strings representing money values to numeric\n",
    "df_tn['worldwide_gross'] = df_tn['worldwide_gross'].astype('int64')\n",
    "df_tn['production_budget'] = df_tn['production_budget'].astype('int64')\n",
    "df_tn['domestic_gross'] = df_tn['domestic_gross'].astype('int64')"
   ]
  },
  {
   "cell_type": "code",
   "execution_count": 13,
   "metadata": {},
   "outputs": [],
   "source": [
    "# Convert the data type of the 'release_date' column to a date\n",
    "df_tn['release_date'] = pd.to_datetime(df_tn['release_date'],format=\"%b %d, %Y\")\n",
    "\n",
    "# Add a new columns 'year'\n",
    "df_tn['release_year'] = df_tn['release_date'].dt.year\n",
    "\n",
    "# Create key column movie + year\n",
    "df_tn['release_year'] = df_tn['release_year'].astype(str)\n",
    "df_tn['mov_yr_key'] = df_tn['movie'] + \"-\" + df_tn['release_year']"
   ]
  },
  {
   "cell_type": "code",
   "execution_count": 14,
   "metadata": {},
   "outputs": [],
   "source": [
    "# Create a column of wordwide profit by sibtracting production budget from worldwide gross\n",
    "df_tn['worldwide_profit'] = df_tn['worldwide_gross'] - df_tn['production_budget']"
   ]
  },
  {
   "cell_type": "markdown",
   "metadata": {},
   "source": [
    "### BOM"
   ]
  },
  {
   "cell_type": "code",
   "execution_count": 15,
   "metadata": {},
   "outputs": [],
   "source": [
    "# # Remove non-numerical characters from strings that will be converted to numerics\n",
    "df_bom['foreign_gross'] = df_bom['foreign_gross'].str.replace(\",\",\"\")\n",
    "\n",
    "# Convert strings representing money values to numeric\n",
    "df_bom['foreign_gross'] = df_bom['foreign_gross'].astype(float)\n",
    "\n",
    "# Create a column of total gross by adding together foreign gross and domesitc gross\n",
    "df_bom['total_gross'] = df_bom['foreign_gross'] + df_bom['domestic_gross']"
   ]
  },
  {
   "cell_type": "markdown",
   "metadata": {},
   "source": [
    "### Data Merging <a class=\"anchor\" id=\"merge\"></a>"
   ]
  },
  {
   "cell_type": "markdown",
   "metadata": {},
   "source": [
    "Before merging the datasets, we created new column in both the IMDB and TN datasets 'mov_yr_key' a conbination of the title and year string columns of each data set.\n",
    "\n",
    "We originally tried merging on only columns that contained the movei titles, however, the same title can apply to multiple movies, causing data mixup. As an example, when we first merged the dataframes, the left dataframe row with data on James Cameron's 2009 \"Avatar\" was merged with Atsushi Wada's 2011 movie by the same name from the right dataframe."
   ]
  },
  {
   "cell_type": "code",
   "execution_count": 16,
   "metadata": {},
   "outputs": [],
   "source": [
    "df_imdb['year_str'] = df_imdb['start_year'].astype(str)\n",
    "df_imdb['mov_yr_key'] = df_imdb['primary_title'] + \"-\" + df_imdb['year_str']"
   ]
  },
  {
   "cell_type": "code",
   "execution_count": 17,
   "metadata": {},
   "outputs": [],
   "source": [
    "# Merge the imdb and tn datasets on 'mov_yr_key'\n",
    "df_tn_imdb = df_tn.merge(df_imdb,how='inner',left_on='mov_yr_key', right_on='mov_yr_key',suffixes=('_tn', '_imdb'))"
   ]
  },
  {
   "cell_type": "markdown",
   "metadata": {},
   "source": [
    "To focus on recent trend and successes in the indiustry, we will focus on movies made no older than 2012."
   ]
  },
  {
   "cell_type": "code",
   "execution_count": 18,
   "metadata": {},
   "outputs": [
    {
     "name": "stderr",
     "output_type": "stream",
     "text": [
      "<ipython-input-18-c1ded018ef5d>:2: UserWarning: Boolean Series key will be reindexed to match DataFrame index.\n",
      "  df_tn_imdb_filt_year = df_tn_imdb[df_imdb['start_year'] >= 2012]\n",
      "<ipython-input-18-c1ded018ef5d>:9: UserWarning: Boolean Series key will be reindexed to match DataFrame index.\n",
      "  df_tn_imdb_filt = df_tn_imdb[(df_tn_imdb['numvotes'] >= 100000) & (df_imdb['start_year'] >= 2012)]\n"
     ]
    }
   ],
   "source": [
    "# Create filtered dataFrame of merged data to only include movies made since 2012\n",
    "df_tn_imdb_filt_year = df_tn_imdb[df_imdb['start_year'] >= 2012]\n",
    "\n",
    "# Create filtered dataFrame of merged data to only include movies made since 2012 \n",
    "#and made a worldwide profit of at least $50,000,000\n",
    "df_tn_imdb_filt_year_5hunthou = df_tn_imdb_filt_year[df_tn_imdb_filt_year['worldwide_profit'] > 50000000]\n",
    "\n",
    "# Create filtered dataFrame of merged data to only include movies with at leaste 100000 votes and made since 2012\n",
    "df_tn_imdb_filt = df_tn_imdb[(df_tn_imdb['numvotes'] >= 100000) & (df_imdb['start_year'] >= 2012)]\n",
    "df_bom_filt = df_bom[df_bom['year'] >= 2012]"
   ]
  },
  {
   "cell_type": "markdown",
   "metadata": {},
   "source": [
    "# Analysis <a class=\"anchor\" id=\"explore\"></a>"
   ]
  },
  {
   "cell_type": "markdown",
   "metadata": {},
   "source": [
    "## Average User Rating on IMDB <a class=\"anchor\" id=\"rat\"></a>"
   ]
  },
  {
   "cell_type": "markdown",
   "metadata": {},
   "source": [
    "To start to understand the data and movie related data in general, we first looked at the average IMDB user rating for top rated films. We then wanted to see if there was a relation between number of votes and avg rating, to see if more popular (measured by number of votes) or less popular movies had an advantage in recieving high average ratings. Next, we checked on a relationship between average rating and profit. Does an higher average score on IMDB incrrease the likelihood of higher profit?"
   ]
  },
  {
   "cell_type": "code",
   "execution_count": 88,
   "metadata": {},
   "outputs": [
    {
     "name": "stderr",
     "output_type": "stream",
     "text": [
      "<ipython-input-88-29e549a3c223>:15: UserWarning: FixedFormatter should only be used together with FixedLocator\n",
      "  ax1.set_xticklabels(x1, rotation=45, ha = 'right', rotation_mode = 'anchor')\n",
      "<ipython-input-88-29e549a3c223>:16: UserWarning: FixedFormatter should only be used together with FixedLocator\n",
      "  ax2.set_xticklabels(x2, rotation=45, ha = 'right', rotation_mode = 'anchor')\n"
     ]
    },
    {
     "data": {
      "image/png": "[encoded data removed]",
      "text/plain": [
       "<Figure size 1080x360 with 2 Axes>"
      ]
     },
     "metadata": {
      "needs_background": "light"
     },
     "output_type": "display_data"
    }
   ],
   "source": [
    "# Viz of Top 10 movies by rating with at least 100,000 votes and released no later than 2012\n",
    "df_top10_rat = df_top50_rat[0:10]\n",
    "\n",
    "fig, (ax1, ax2) = plt.subplots(nrows=1, ncols=2, figsize=(15,5))\n",
    "\n",
    "x1 = df_top10_rat['primary_title']\n",
    "y1 = df_top10_rat['averagerating']\n",
    "\n",
    "x2 = df_top10_rat['primary_title']\n",
    "y2 = df_top10_rat['rating_relative_to_avg']\n",
    "\n",
    "ax1.axhline(6.332729, c=\"black\")\n",
    "ax1.text(0,5.75,\"Overall Avg Rating\", backgroundcolor=\"White\")\n",
    "\n",
    "ax1.set_xticklabels(x1, rotation=45, ha = 'right', rotation_mode = 'anchor')\n",
    "ax2.set_xticklabels(x2, rotation=45, ha = 'right', rotation_mode = 'anchor')\n",
    "\n",
    "ax1.set_xlabel(\"Top 10 Rated Films\")\n",
    "ax1.set_ylabel(\"Avg. Rating\")\n",
    "\n",
    "ax2.set_xlabel(\"Top 10 Rated Films\")\n",
    "ax.set_ylabel(\"Avg. Rating Above Avg. Avg. Rating\")\n",
    "\n",
    "ax1.set_title(\"Average Rating\")\n",
    "ax2.set_title(\"Average Rating Above Overall Average\")\n",
    "\n",
    "ax1.bar(x1,y1)\n",
    "ax2.bar(x2,y2)\n",
    "\n",
    "plt.savefig('../images/avg_rat_bmov', bbox_inches='tight')"
   ]
  },
  {
   "cell_type": "code",
   "execution_count": 51,
   "metadata": {},
   "outputs": [
    {
     "data": {
      "text/plain": [
       "<matplotlib.collections.PathCollection at 0x206a812e8b0>"
      ]
     },
     "execution_count": 51,
     "metadata": {},
     "output_type": "execute_result"
    },
    {
     "data": {
      "image/png": "[encoded data removed]",
      "text/plain": [
       "<Figure size 1080x360 with 2 Axes>"
      ]
     },
     "metadata": {
      "needs_background": "light"
     },
     "output_type": "display_data"
    }
   ],
   "source": [
    "# Viz of comparison of number of votes and average rating\n",
    "\n",
    "fig, (ax1, ax2) = plt.subplots(nrows=1, ncols=2, figsize=(15,5))\n",
    "\n",
    "x1 = df_imdb['averagerating']\n",
    "y1 = df_imdb['numvotes']/1000\n",
    "\n",
    "x2 = df_top50_rat['averagerating']\n",
    "y2 = df_top50_rat['numvotes']/1000\n",
    "\n",
    "\n",
    "ax1.set_xlabel(\"Average Rating\")\n",
    "ax1.set_ylabel(\"Number of Votes (thousands)\")\n",
    "ax1.set_title(\"Average Rating by Number of Votes\")\n",
    "\n",
    "ax2.set_xlabel(\"Average Rating\")\n",
    "ax2.set_ylabel(\"Number of Votes (thousands)\")\n",
    "ax2.set_title(\"Average Rating by Number of Votes for Top 50 Rated\")\n",
    "\n",
    "ax1.scatter(x1,y1)\n",
    "ax2.scatter(x2,y2)"
   ]
  },
  {
   "cell_type": "code",
   "execution_count": 19,
   "metadata": {},
   "outputs": [
    {
     "data": {
      "text/plain": [
       "0.49613474170077504"
      ]
     },
     "execution_count": 19,
     "metadata": {},
     "output_type": "execute_result"
    }
   ],
   "source": [
    "# Get correlation average rating and number of votes\n",
    "df_tn_imdb_filt['averagerating'].corr(df_tn_imdb_filt['numvotes'])"
   ]
  },
  {
   "cell_type": "code",
   "execution_count": 53,
   "metadata": {},
   "outputs": [
    {
     "data": {
      "text/plain": [
       "<matplotlib.collections.PathCollection at 0x206a97372b0>"
      ]
     },
     "execution_count": 53,
     "metadata": {},
     "output_type": "execute_result"
    },
    {
     "data": {
      "image/png": "[encoded data removed]",
      "text/plain": [
       "<Figure size 432x288 with 1 Axes>"
      ]
     },
     "metadata": {
      "needs_background": "light"
     },
     "output_type": "display_data"
    }
   ],
   "source": [
    "# Vizualize Average Rating by Profit\n",
    "fig, ax = plt.subplots()\n",
    "\n",
    "x = df_tn_imdb_filt['averagerating']\n",
    "y = df_tn_imdb_filt['worldwide_profit']/1000000\n",
    "\n",
    "ax.set_xlabel(\"Avg Rating\")\n",
    "ax.set_ylabel(\"Profit (millions)\")\n",
    "ax.set_title(\"Avg Rating by Profit\")\n",
    "\n",
    "\n",
    "\n",
    "ax.scatter(x,y)"
   ]
  },
  {
   "cell_type": "code",
   "execution_count": 54,
   "metadata": {},
   "outputs": [
    {
     "data": {
      "text/plain": [
       "0.14375206103201144"
      ]
     },
     "execution_count": 54,
     "metadata": {},
     "output_type": "execute_result"
    }
   ],
   "source": [
    "# Get correlation average rating and worldwide profit\n",
    "df_tn_imdb_filt['averagerating'].corr(df_tn_imdb_filt['worldwide_profit'])"
   ]
  },
  {
   "cell_type": "markdown",
   "metadata": {},
   "source": [
    "Average rating does not have a strong correlation to profit, and therefor we only use it as a measure of possible \"industry credit\" and not for a successful finacial indicator."
   ]
  },
  {
   "cell_type": "markdown",
   "metadata": {},
   "source": [
    "### Studios to Hire From <a class=\"anchor\" id=\"stud\"></a>"
   ]
  },
  {
   "cell_type": "markdown",
   "metadata": {},
   "source": [
    "Microsoft will need to staff the new movie studio with successful and experienced persons. We identified the top movie studios since 2012 by movies made and total gross to create a list of the studios where Microsoft should look to hire from."
   ]
  },
  {
   "cell_type": "code",
   "execution_count": 22,
   "metadata": {},
   "outputs": [
    {
     "data": {
      "text/html": [
       "<div>\n",
       "<style scoped>\n",
       "    .dataframe tbody tr th:only-of-type {\n",
       "        vertical-align: middle;\n",
       "    }\n",
       "\n",
       "    .dataframe tbody tr th {\n",
       "        vertical-align: top;\n",
       "    }\n",
       "\n",
       "    .dataframe thead th {\n",
       "        text-align: right;\n",
       "    }\n",
       "</style>\n",
       "<table border=\"1\" class=\"dataframe\">\n",
       "  <thead>\n",
       "    <tr style=\"text-align: right;\">\n",
       "      <th></th>\n",
       "      <th>domestic_gross</th>\n",
       "      <th>foreign_gross</th>\n",
       "      <th>year</th>\n",
       "      <th>total_gross</th>\n",
       "    </tr>\n",
       "    <tr>\n",
       "      <th>studio</th>\n",
       "      <th></th>\n",
       "      <th></th>\n",
       "      <th></th>\n",
       "      <th></th>\n",
       "    </tr>\n",
       "  </thead>\n",
       "  <tbody>\n",
       "    <tr>\n",
       "      <th>BV</th>\n",
       "      <td>1.570240e+10</td>\n",
       "      <td>2.117251e+10</td>\n",
       "      <td>157157</td>\n",
       "      <td>3.686251e+10</td>\n",
       "    </tr>\n",
       "    <tr>\n",
       "      <th>Fox</th>\n",
       "      <td>8.967700e+09</td>\n",
       "      <td>1.702962e+10</td>\n",
       "      <td>209547</td>\n",
       "      <td>2.597232e+10</td>\n",
       "    </tr>\n",
       "    <tr>\n",
       "      <th>Uni.</th>\n",
       "      <td>1.105189e+10</td>\n",
       "      <td>1.457537e+10</td>\n",
       "      <td>235767</td>\n",
       "      <td>2.561691e+10</td>\n",
       "    </tr>\n",
       "    <tr>\n",
       "      <th>WB</th>\n",
       "      <td>9.073773e+09</td>\n",
       "      <td>1.416202e+10</td>\n",
       "      <td>209564</td>\n",
       "      <td>2.319382e+10</td>\n",
       "    </tr>\n",
       "    <tr>\n",
       "      <th>Sony</th>\n",
       "      <td>6.550983e+09</td>\n",
       "      <td>1.149014e+10</td>\n",
       "      <td>175332</td>\n",
       "      <td>1.804092e+10</td>\n",
       "    </tr>\n",
       "    <tr>\n",
       "      <th>...</th>\n",
       "      <td>...</td>\n",
       "      <td>...</td>\n",
       "      <td>...</td>\n",
       "      <td>...</td>\n",
       "    </tr>\n",
       "    <tr>\n",
       "      <th>Gaatri</th>\n",
       "      <td>8.980000e+05</td>\n",
       "      <td>0.000000e+00</td>\n",
       "      <td>2016</td>\n",
       "      <td>0.000000e+00</td>\n",
       "    </tr>\n",
       "    <tr>\n",
       "      <th>Fathom</th>\n",
       "      <td>1.144700e+07</td>\n",
       "      <td>0.000000e+00</td>\n",
       "      <td>20177</td>\n",
       "      <td>0.000000e+00</td>\n",
       "    </tr>\n",
       "    <tr>\n",
       "      <th>FOR</th>\n",
       "      <td>1.020000e+04</td>\n",
       "      <td>0.000000e+00</td>\n",
       "      <td>2015</td>\n",
       "      <td>0.000000e+00</td>\n",
       "    </tr>\n",
       "    <tr>\n",
       "      <th>FEF</th>\n",
       "      <td>6.130000e+05</td>\n",
       "      <td>0.000000e+00</td>\n",
       "      <td>2013</td>\n",
       "      <td>0.000000e+00</td>\n",
       "    </tr>\n",
       "    <tr>\n",
       "      <th>Jampa</th>\n",
       "      <td>2.670000e+04</td>\n",
       "      <td>0.000000e+00</td>\n",
       "      <td>2016</td>\n",
       "      <td>0.000000e+00</td>\n",
       "    </tr>\n",
       "  </tbody>\n",
       "</table>\n",
       "<p>219 rows × 4 columns</p>\n",
       "</div>"
      ],
      "text/plain": [
       "        domestic_gross  foreign_gross    year   total_gross\n",
       "studio                                                     \n",
       "BV        1.570240e+10   2.117251e+10  157157  3.686251e+10\n",
       "Fox       8.967700e+09   1.702962e+10  209547  2.597232e+10\n",
       "Uni.      1.105189e+10   1.457537e+10  235767  2.561691e+10\n",
       "WB        9.073773e+09   1.416202e+10  209564  2.319382e+10\n",
       "Sony      6.550983e+09   1.149014e+10  175332  1.804092e+10\n",
       "...                ...            ...     ...           ...\n",
       "Gaatri    8.980000e+05   0.000000e+00    2016  0.000000e+00\n",
       "Fathom    1.144700e+07   0.000000e+00   20177  0.000000e+00\n",
       "FOR       1.020000e+04   0.000000e+00    2015  0.000000e+00\n",
       "FEF       6.130000e+05   0.000000e+00    2013  0.000000e+00\n",
       "Jampa     2.670000e+04   0.000000e+00    2016  0.000000e+00\n",
       "\n",
       "[219 rows x 4 columns]"
      ]
     },
     "execution_count": 22,
     "metadata": {},
     "output_type": "execute_result"
    }
   ],
   "source": [
    "# Group by studio and examine largest sums of total gross\n",
    "df_bom_filt.groupby('studio').sum().sort_values('total_gross', ascending=False)"
   ]
  },
  {
   "cell_type": "code",
   "execution_count": 23,
   "metadata": {},
   "outputs": [
    {
     "data": {
      "text/html": [
       "<div>\n",
       "<style scoped>\n",
       "    .dataframe tbody tr th:only-of-type {\n",
       "        vertical-align: middle;\n",
       "    }\n",
       "\n",
       "    .dataframe tbody tr th {\n",
       "        vertical-align: top;\n",
       "    }\n",
       "\n",
       "    .dataframe thead th {\n",
       "        text-align: right;\n",
       "    }\n",
       "</style>\n",
       "<table border=\"1\" class=\"dataframe\">\n",
       "  <thead>\n",
       "    <tr style=\"text-align: right;\">\n",
       "      <th></th>\n",
       "      <th>domestic_gross</th>\n",
       "      <th>foreign_gross</th>\n",
       "      <th>year</th>\n",
       "      <th>total_gross</th>\n",
       "    </tr>\n",
       "    <tr>\n",
       "      <th>studio</th>\n",
       "      <th></th>\n",
       "      <th></th>\n",
       "      <th></th>\n",
       "      <th></th>\n",
       "    </tr>\n",
       "  </thead>\n",
       "  <tbody>\n",
       "    <tr>\n",
       "      <th>BV</th>\n",
       "      <td>1.570240e+10</td>\n",
       "      <td>2.117251e+10</td>\n",
       "      <td>157157</td>\n",
       "      <td>3.686251e+10</td>\n",
       "    </tr>\n",
       "    <tr>\n",
       "      <th>Fox</th>\n",
       "      <td>8.967700e+09</td>\n",
       "      <td>1.702962e+10</td>\n",
       "      <td>209547</td>\n",
       "      <td>2.597232e+10</td>\n",
       "    </tr>\n",
       "    <tr>\n",
       "      <th>Uni.</th>\n",
       "      <td>1.105189e+10</td>\n",
       "      <td>1.457537e+10</td>\n",
       "      <td>235767</td>\n",
       "      <td>2.561691e+10</td>\n",
       "    </tr>\n",
       "    <tr>\n",
       "      <th>WB</th>\n",
       "      <td>9.073773e+09</td>\n",
       "      <td>1.416202e+10</td>\n",
       "      <td>209564</td>\n",
       "      <td>2.319382e+10</td>\n",
       "    </tr>\n",
       "    <tr>\n",
       "      <th>Sony</th>\n",
       "      <td>6.550983e+09</td>\n",
       "      <td>1.149014e+10</td>\n",
       "      <td>175332</td>\n",
       "      <td>1.804092e+10</td>\n",
       "    </tr>\n",
       "    <tr>\n",
       "      <th>Par.</th>\n",
       "      <td>5.298605e+09</td>\n",
       "      <td>9.049485e+09</td>\n",
       "      <td>159185</td>\n",
       "      <td>1.424340e+10</td>\n",
       "    </tr>\n",
       "    <tr>\n",
       "      <th>WB (NL)</th>\n",
       "      <td>3.416300e+09</td>\n",
       "      <td>5.567200e+09</td>\n",
       "      <td>72549</td>\n",
       "      <td>8.962900e+09</td>\n",
       "    </tr>\n",
       "    <tr>\n",
       "      <th>LGF</th>\n",
       "      <td>3.427902e+09</td>\n",
       "      <td>3.811285e+09</td>\n",
       "      <td>161198</td>\n",
       "      <td>7.106475e+09</td>\n",
       "    </tr>\n",
       "    <tr>\n",
       "      <th>LG/S</th>\n",
       "      <td>2.078200e+09</td>\n",
       "      <td>3.353724e+09</td>\n",
       "      <td>82599</td>\n",
       "      <td>5.318924e+09</td>\n",
       "    </tr>\n",
       "    <tr>\n",
       "      <th>Wein.</th>\n",
       "      <td>1.242996e+09</td>\n",
       "      <td>2.063821e+09</td>\n",
       "      <td>122850</td>\n",
       "      <td>3.266239e+09</td>\n",
       "    </tr>\n",
       "  </tbody>\n",
       "</table>\n",
       "</div>"
      ],
      "text/plain": [
       "         domestic_gross  foreign_gross    year   total_gross\n",
       "studio                                                      \n",
       "BV         1.570240e+10   2.117251e+10  157157  3.686251e+10\n",
       "Fox        8.967700e+09   1.702962e+10  209547  2.597232e+10\n",
       "Uni.       1.105189e+10   1.457537e+10  235767  2.561691e+10\n",
       "WB         9.073773e+09   1.416202e+10  209564  2.319382e+10\n",
       "Sony       6.550983e+09   1.149014e+10  175332  1.804092e+10\n",
       "Par.       5.298605e+09   9.049485e+09  159185  1.424340e+10\n",
       "WB (NL)    3.416300e+09   5.567200e+09   72549  8.962900e+09\n",
       "LGF        3.427902e+09   3.811285e+09  161198  7.106475e+09\n",
       "LG/S       2.078200e+09   3.353724e+09   82599  5.318924e+09\n",
       "Wein.      1.242996e+09   2.063821e+09  122850  3.266239e+09"
      ]
     },
     "execution_count": 23,
     "metadata": {},
     "output_type": "execute_result"
    }
   ],
   "source": [
    "# Select the top 10 studios by sum of total gross and save to a variable\n",
    "top10_stud_filt = df_bom_filt.groupby('studio').sum().sort_values('total_gross', ascending=False)[:10]\n",
    "top10_stud_filt"
   ]
  },
  {
   "cell_type": "code",
   "execution_count": 99,
   "metadata": {},
   "outputs": [
    {
     "data": {
      "image/png": "[encoded data removed]",
      "text/plain": [
       "<Figure size 432x288 with 1 Axes>"
      ]
     },
     "metadata": {
      "needs_background": "light"
     },
     "output_type": "display_data"
    }
   ],
   "source": [
    "# Vizualize top 10 studios by sum of total gross since 2012\n",
    "fig, ax = plt.subplots()\n",
    "\n",
    "x = top10_stud_filt.index\n",
    "y = top10_stud_filt['total_gross']/1000000\n",
    "\n",
    "ax.set_xlabel(\"Studio\")\n",
    "ax.set_ylabel(\"Total Gross (millions)\")\n",
    "ax.set_title(\"Studios With Greatest Total Gross\")\n",
    "\n",
    "ha = ['right', 'center', 'left']\n",
    "\n",
    "plt.xticks(rotation=45, ha = 'right', rotation_mode = 'anchor')\n",
    "\n",
    "ax.bar(x,y)\n",
    "\n",
    "plt.savefig('../images/top_studios_filt_gross.png', bbox_inches='tight')"
   ]
  },
  {
   "cell_type": "code",
   "execution_count": 25,
   "metadata": {},
   "outputs": [
    {
     "data": {
      "text/plain": [
       "studio\n",
       "Uni.     117\n",
       "IFC      111\n",
       "Fox      104\n",
       "WB       104\n",
       "Magn.     99\n",
       "SPC       88\n",
       "Sony      87\n",
       "LGF       80\n",
       "Par.      79\n",
       "BV        78\n",
       "dtype: int64"
      ]
     },
     "execution_count": 25,
     "metadata": {},
     "output_type": "execute_result"
    }
   ],
   "source": [
    "# Select the top 10 studios by number of movies released\n",
    "stud_top_num_mov = df_bom_filt.value_counts(subset='studio')[:10]\n",
    "stud_top_num_mov"
   ]
  },
  {
   "cell_type": "code",
   "execution_count": 98,
   "metadata": {},
   "outputs": [
    {
     "data": {
      "image/png": "[encoded data removed]",
      "text/plain": [
       "<Figure size 432x288 with 1 Axes>"
      ]
     },
     "metadata": {
      "needs_background": "light"
     },
     "output_type": "display_data"
    }
   ],
   "source": [
    "# Vizualize top 10 studios by number of movies released\n",
    "fig, ax = plt.subplots()\n",
    "\n",
    "x = stud_top_num_mov.index\n",
    "y = stud_top_num_mov.values\n",
    "\n",
    "ax.set_xlabel(\"Studio\")\n",
    "ax.set_ylabel(\"Number of Movies Sinse 2012\")\n",
    "ax.set_title(\"Studios With Most Movies Made\")\n",
    "\n",
    "ha = ['right', 'center', 'left']\n",
    "\n",
    "plt.xticks(rotation=45, ha = 'right', rotation_mode = 'anchor')\n",
    "\n",
    "ax.bar(x,y, color=\"green\")\n",
    "plt.savefig('../images/top_studios_filt_num_movs', bbox_inches='tight')"
   ]
  },
  {
   "cell_type": "markdown",
   "metadata": {},
   "source": [
    "## Allocation of Budget<a class=\"anchor\" id=\"bud\"></a>"
   ]
  },
  {
   "cell_type": "markdown",
   "metadata": {},
   "source": [
    "Microsoft will need to knwo how much budget to allocate to it's new movies. We looked at the relationship between production budget and average rating and worldwide profit."
   ]
  },
  {
   "cell_type": "code",
   "execution_count": 87,
   "metadata": {
    "scrolled": false
   },
   "outputs": [
    {
     "data": {
      "image/png": "[encoded data removed]",
      "text/plain": [
       "<Figure size 1080x360 with 2 Axes>"
      ]
     },
     "metadata": {
      "needs_background": "light"
     },
     "output_type": "display_data"
    }
   ],
   "source": [
    "# Vizualize produciton budget vs average rating & production budget vs worldwide profit\n",
    "fig, (ax1, ax2) = plt.subplots(nrows=1, ncols=2, figsize=(15,5))\n",
    "\n",
    "plt.suptitle(\"Production Budget of Movies Since 2012\")\n",
    "\n",
    "x1 = df_tn_imdb_filt['production_budget']\n",
    "y1 = df_tn_imdb_filt['averagerating']\n",
    "\n",
    "x2 = df_tn_imdb_filt['production_budget']\n",
    "y2 = df_tn_imdb_filt['worldwide_profit']/1000000\n",
    "\n",
    "\n",
    "ax1.set_xlabel(\"Production Budget\")\n",
    "ax1.set_ylabel(\"Average Rating\")\n",
    "ax1.set_title(\"by Average Rating\")\n",
    "\n",
    "ax2.set_xlabel(\"Production Budget\")\n",
    "ax2.set_ylabel(\"Worldwide Profit (millions)\")\n",
    "ax2.set_title(\"by Worldwide Profit\")\n",
    "\n",
    "ax1.scatter(x1, y1)\n",
    "ax2.scatter(x2, y2)\n",
    "\n",
    "plt.savefig('../images/bud_filt_avgrat_wwprofit', bbox_inches='tight')"
   ]
  },
  {
   "cell_type": "code",
   "execution_count": 97,
   "metadata": {
    "scrolled": false
   },
   "outputs": [
    {
     "data": {
      "image/png": "[encoded data removed]",
      "text/plain": [
       "<Figure size 432x288 with 1 Axes>"
      ]
     },
     "metadata": {
      "needs_background": "light"
     },
     "output_type": "display_data"
    }
   ],
   "source": [
    "# Singling out production budget vs worldwide profit since 2012\n",
    "fig, ax = plt.subplots()\n",
    "\n",
    "x = df_tn_imdb_filt['production_budget']\n",
    "y = df_tn_imdb_filt['worldwide_profit']/1000000\n",
    "\n",
    "\n",
    "ax.set_xlabel(\"Production Budget\")\n",
    "ax.set_ylabel(\"Worldwide Profit (millions)\")\n",
    "ax.set_title(\"Production Budget and Profit\")\n",
    "\n",
    "ax.scatter(x, y)\n",
    "\n",
    "plt.savefig('../images/bud_filt_wwprofit', bbox_inches='tight')"
   ]
  },
  {
   "cell_type": "code",
   "execution_count": 28,
   "metadata": {},
   "outputs": [
    {
     "data": {
      "text/plain": [
       "-0.09842752224249707"
      ]
     },
     "execution_count": 28,
     "metadata": {},
     "output_type": "execute_result"
    }
   ],
   "source": [
    "# Get correlation of produciton budget vand average rating\n",
    "df_tn_imdb_filt['production_budget'].corr(df_tn_imdb_filt['averagerating'])"
   ]
  },
  {
   "cell_type": "code",
   "execution_count": 29,
   "metadata": {},
   "outputs": [
    {
     "data": {
      "text/plain": [
       "0.6237389744636805"
      ]
     },
     "execution_count": 29,
     "metadata": {},
     "output_type": "execute_result"
    }
   ],
   "source": [
    "# Get correlation of production budget and worldwide profit\n",
    "df_tn_imdb_filt['production_budget'].corr(df_tn_imdb_filt['worldwide_profit'])"
   ]
  },
  {
   "cell_type": "code",
   "execution_count": 30,
   "metadata": {},
   "outputs": [
    {
     "data": {
      "text/plain": [
       "0.2225609389897727"
      ]
     },
     "execution_count": 30,
     "metadata": {},
     "output_type": "execute_result"
    }
   ],
   "source": [
    "# Get all time correlation of produciton budget vand average rating\n",
    "df_tn_imdb['production_budget'].corr(df_tn_imdb['averagerating'])"
   ]
  },
  {
   "cell_type": "code",
   "execution_count": 31,
   "metadata": {
    "scrolled": true
   },
   "outputs": [
    {
     "data": {
      "text/plain": [
       "0.6622588394897604"
      ]
     },
     "execution_count": 31,
     "metadata": {},
     "output_type": "execute_result"
    }
   ],
   "source": [
    "# Get all time correlation of production budget and worldwide profit\n",
    "df_tn_imdb['production_budget'].corr(df_tn_imdb['worldwide_profit'])"
   ]
  },
  {
   "cell_type": "code",
   "execution_count": 32,
   "metadata": {},
   "outputs": [
    {
     "data": {
      "text/plain": [
       "69161538.46153846"
      ]
     },
     "execution_count": 32,
     "metadata": {},
     "output_type": "execute_result"
    }
   ],
   "source": [
    "# Mean Budget for films since 2012 that made at least 50,000,000 in profit worldwide\n",
    "df_tn_imdb_filt_year_5hunthou['production_budget'].mean()"
   ]
  },
  {
   "cell_type": "code",
   "execution_count": 53,
   "metadata": {},
   "outputs": [
    {
     "data": {
      "text/html": [
       "<div>\n",
       "<style scoped>\n",
       "    .dataframe tbody tr th:only-of-type {\n",
       "        vertical-align: middle;\n",
       "    }\n",
       "\n",
       "    .dataframe tbody tr th {\n",
       "        vertical-align: top;\n",
       "    }\n",
       "\n",
       "    .dataframe thead th {\n",
       "        text-align: right;\n",
       "    }\n",
       "</style>\n",
       "<table border=\"1\" class=\"dataframe\">\n",
       "  <thead>\n",
       "    <tr style=\"text-align: right;\">\n",
       "      <th></th>\n",
       "      <th>id</th>\n",
       "      <th>production_budget</th>\n",
       "      <th>domestic_gross</th>\n",
       "      <th>worldwide_gross</th>\n",
       "      <th>worldwide_profit</th>\n",
       "      <th>start_year</th>\n",
       "      <th>runtime_minutes</th>\n",
       "      <th>averagerating</th>\n",
       "      <th>numvotes</th>\n",
       "      <th>birth_year</th>\n",
       "      <th>death_year</th>\n",
       "      <th>rating_relative_to_avg</th>\n",
       "    </tr>\n",
       "    <tr>\n",
       "      <th>primary_title</th>\n",
       "      <th></th>\n",
       "      <th></th>\n",
       "      <th></th>\n",
       "      <th></th>\n",
       "      <th></th>\n",
       "      <th></th>\n",
       "      <th></th>\n",
       "      <th></th>\n",
       "      <th></th>\n",
       "      <th></th>\n",
       "      <th></th>\n",
       "      <th></th>\n",
       "    </tr>\n",
       "  </thead>\n",
       "  <tbody>\n",
       "    <tr>\n",
       "      <th>Avengers: Infinity War</th>\n",
       "      <td>7.0</td>\n",
       "      <td>300000000.0</td>\n",
       "      <td>2.048134e+09</td>\n",
       "      <td>2.048134e+09</td>\n",
       "      <td>1.748134e+09</td>\n",
       "      <td>2018.0</td>\n",
       "      <td>149.0</td>\n",
       "      <td>8.5</td>\n",
       "      <td>670926.0</td>\n",
       "      <td>1970.0</td>\n",
       "      <td>NaN</td>\n",
       "      <td>2.167271</td>\n",
       "    </tr>\n",
       "    <tr>\n",
       "      <th>Jurassic World</th>\n",
       "      <td>34.0</td>\n",
       "      <td>215000000.0</td>\n",
       "      <td>1.648855e+09</td>\n",
       "      <td>1.648855e+09</td>\n",
       "      <td>1.433855e+09</td>\n",
       "      <td>2015.0</td>\n",
       "      <td>124.0</td>\n",
       "      <td>7.0</td>\n",
       "      <td>539338.0</td>\n",
       "      <td>1976.0</td>\n",
       "      <td>NaN</td>\n",
       "      <td>0.667271</td>\n",
       "    </tr>\n",
       "    <tr>\n",
       "      <th>Black Panther</th>\n",
       "      <td>42.0</td>\n",
       "      <td>200000000.0</td>\n",
       "      <td>1.348258e+09</td>\n",
       "      <td>1.348258e+09</td>\n",
       "      <td>1.148258e+09</td>\n",
       "      <td>2018.0</td>\n",
       "      <td>134.0</td>\n",
       "      <td>7.3</td>\n",
       "      <td>516148.0</td>\n",
       "      <td>1986.0</td>\n",
       "      <td>NaN</td>\n",
       "      <td>0.967271</td>\n",
       "    </tr>\n",
       "    <tr>\n",
       "      <th>Jurassic World: Fallen Kingdom</th>\n",
       "      <td>13.0</td>\n",
       "      <td>170000000.0</td>\n",
       "      <td>1.305773e+09</td>\n",
       "      <td>1.305773e+09</td>\n",
       "      <td>1.135773e+09</td>\n",
       "      <td>2018.0</td>\n",
       "      <td>128.0</td>\n",
       "      <td>6.2</td>\n",
       "      <td>219125.0</td>\n",
       "      <td>1975.0</td>\n",
       "      <td>NaN</td>\n",
       "      <td>-0.132729</td>\n",
       "    </tr>\n",
       "    <tr>\n",
       "      <th>Minions</th>\n",
       "      <td>73.0</td>\n",
       "      <td>74000000.0</td>\n",
       "      <td>1.160336e+09</td>\n",
       "      <td>1.160336e+09</td>\n",
       "      <td>1.086336e+09</td>\n",
       "      <td>2015.0</td>\n",
       "      <td>91.0</td>\n",
       "      <td>6.4</td>\n",
       "      <td>193917.0</td>\n",
       "      <td>1967.0</td>\n",
       "      <td>NaN</td>\n",
       "      <td>0.067271</td>\n",
       "    </tr>\n",
       "    <tr>\n",
       "      <th>Avengers: Age of Ultron</th>\n",
       "      <td>4.0</td>\n",
       "      <td>330600000.0</td>\n",
       "      <td>1.403014e+09</td>\n",
       "      <td>1.403014e+09</td>\n",
       "      <td>1.072414e+09</td>\n",
       "      <td>2015.0</td>\n",
       "      <td>141.0</td>\n",
       "      <td>7.3</td>\n",
       "      <td>665594.0</td>\n",
       "      <td>1964.0</td>\n",
       "      <td>NaN</td>\n",
       "      <td>0.967271</td>\n",
       "    </tr>\n",
       "    <tr>\n",
       "      <th>Incredibles 2</th>\n",
       "      <td>44.0</td>\n",
       "      <td>200000000.0</td>\n",
       "      <td>1.242521e+09</td>\n",
       "      <td>1.242521e+09</td>\n",
       "      <td>1.042521e+09</td>\n",
       "      <td>2018.0</td>\n",
       "      <td>118.0</td>\n",
       "      <td>7.7</td>\n",
       "      <td>203510.0</td>\n",
       "      <td>1957.0</td>\n",
       "      <td>NaN</td>\n",
       "      <td>1.367271</td>\n",
       "    </tr>\n",
       "    <tr>\n",
       "      <th>Iron Man 3</th>\n",
       "      <td>48.0</td>\n",
       "      <td>200000000.0</td>\n",
       "      <td>1.215392e+09</td>\n",
       "      <td>1.215392e+09</td>\n",
       "      <td>1.015392e+09</td>\n",
       "      <td>2013.0</td>\n",
       "      <td>130.0</td>\n",
       "      <td>7.2</td>\n",
       "      <td>692794.0</td>\n",
       "      <td>1961.0</td>\n",
       "      <td>NaN</td>\n",
       "      <td>0.867271</td>\n",
       "    </tr>\n",
       "    <tr>\n",
       "      <th>Despicable Me 3</th>\n",
       "      <td>30.0</td>\n",
       "      <td>75000000.0</td>\n",
       "      <td>1.034728e+09</td>\n",
       "      <td>1.034728e+09</td>\n",
       "      <td>9.597278e+08</td>\n",
       "      <td>2017.0</td>\n",
       "      <td>89.0</td>\n",
       "      <td>6.3</td>\n",
       "      <td>92580.0</td>\n",
       "      <td>1971.0</td>\n",
       "      <td>NaN</td>\n",
       "      <td>-0.032729</td>\n",
       "    </tr>\n",
       "    <tr>\n",
       "      <th>Captain Marvel</th>\n",
       "      <td>96.0</td>\n",
       "      <td>175000000.0</td>\n",
       "      <td>1.123062e+09</td>\n",
       "      <td>1.123062e+09</td>\n",
       "      <td>9.480616e+08</td>\n",
       "      <td>2019.0</td>\n",
       "      <td>123.0</td>\n",
       "      <td>7.0</td>\n",
       "      <td>296225.0</td>\n",
       "      <td>1976.0</td>\n",
       "      <td>NaN</td>\n",
       "      <td>0.667271</td>\n",
       "    </tr>\n",
       "    <tr>\n",
       "      <th>Transformers: Dark of the Moon</th>\n",
       "      <td>64.0</td>\n",
       "      <td>195000000.0</td>\n",
       "      <td>1.123791e+09</td>\n",
       "      <td>1.123791e+09</td>\n",
       "      <td>9.287905e+08</td>\n",
       "      <td>2011.0</td>\n",
       "      <td>154.0</td>\n",
       "      <td>6.2</td>\n",
       "      <td>366409.0</td>\n",
       "      <td>1965.0</td>\n",
       "      <td>NaN</td>\n",
       "      <td>-0.132729</td>\n",
       "    </tr>\n",
       "    <tr>\n",
       "      <th>Skyfall</th>\n",
       "      <td>52.0</td>\n",
       "      <td>200000000.0</td>\n",
       "      <td>1.110527e+09</td>\n",
       "      <td>1.110527e+09</td>\n",
       "      <td>9.105270e+08</td>\n",
       "      <td>2012.0</td>\n",
       "      <td>143.0</td>\n",
       "      <td>7.8</td>\n",
       "      <td>592221.0</td>\n",
       "      <td>1965.0</td>\n",
       "      <td>NaN</td>\n",
       "      <td>1.467271</td>\n",
       "    </tr>\n",
       "    <tr>\n",
       "      <th>Transformers: Age of Extinction</th>\n",
       "      <td>37.0</td>\n",
       "      <td>210000000.0</td>\n",
       "      <td>1.104039e+09</td>\n",
       "      <td>1.104039e+09</td>\n",
       "      <td>8.940391e+08</td>\n",
       "      <td>2014.0</td>\n",
       "      <td>165.0</td>\n",
       "      <td>5.7</td>\n",
       "      <td>283486.0</td>\n",
       "      <td>1965.0</td>\n",
       "      <td>NaN</td>\n",
       "      <td>-0.632729</td>\n",
       "    </tr>\n",
       "    <tr>\n",
       "      <th>Jumanji: Welcome to the Jungle</th>\n",
       "      <td>38.0</td>\n",
       "      <td>90000000.0</td>\n",
       "      <td>9.644962e+08</td>\n",
       "      <td>9.644962e+08</td>\n",
       "      <td>8.744962e+08</td>\n",
       "      <td>2017.0</td>\n",
       "      <td>119.0</td>\n",
       "      <td>7.0</td>\n",
       "      <td>242735.0</td>\n",
       "      <td>1974.0</td>\n",
       "      <td>NaN</td>\n",
       "      <td>0.667271</td>\n",
       "    </tr>\n",
       "    <tr>\n",
       "      <th>Zootopia</th>\n",
       "      <td>57.0</td>\n",
       "      <td>150000000.0</td>\n",
       "      <td>1.019430e+09</td>\n",
       "      <td>1.019430e+09</td>\n",
       "      <td>8.694296e+08</td>\n",
       "      <td>2016.0</td>\n",
       "      <td>108.0</td>\n",
       "      <td>8.0</td>\n",
       "      <td>383446.0</td>\n",
       "      <td>1974.0</td>\n",
       "      <td>NaN</td>\n",
       "      <td>1.667271</td>\n",
       "    </tr>\n",
       "  </tbody>\n",
       "</table>\n",
       "</div>"
      ],
      "text/plain": [
       "                                   id  production_budget  domestic_gross  \\\n",
       "primary_title                                                              \n",
       "Avengers: Infinity War            7.0        300000000.0    2.048134e+09   \n",
       "Jurassic World                   34.0        215000000.0    1.648855e+09   \n",
       "Black Panther                    42.0        200000000.0    1.348258e+09   \n",
       "Jurassic World: Fallen Kingdom   13.0        170000000.0    1.305773e+09   \n",
       "Minions                          73.0         74000000.0    1.160336e+09   \n",
       "Avengers: Age of Ultron           4.0        330600000.0    1.403014e+09   \n",
       "Incredibles 2                    44.0        200000000.0    1.242521e+09   \n",
       "Iron Man 3                       48.0        200000000.0    1.215392e+09   \n",
       "Despicable Me 3                  30.0         75000000.0    1.034728e+09   \n",
       "Captain Marvel                   96.0        175000000.0    1.123062e+09   \n",
       "Transformers: Dark of the Moon   64.0        195000000.0    1.123791e+09   \n",
       "Skyfall                          52.0        200000000.0    1.110527e+09   \n",
       "Transformers: Age of Extinction  37.0        210000000.0    1.104039e+09   \n",
       "Jumanji: Welcome to the Jungle   38.0         90000000.0    9.644962e+08   \n",
       "Zootopia                         57.0        150000000.0    1.019430e+09   \n",
       "\n",
       "                                 worldwide_gross  worldwide_profit  \\\n",
       "primary_title                                                        \n",
       "Avengers: Infinity War              2.048134e+09      1.748134e+09   \n",
       "Jurassic World                      1.648855e+09      1.433855e+09   \n",
       "Black Panther                       1.348258e+09      1.148258e+09   \n",
       "Jurassic World: Fallen Kingdom      1.305773e+09      1.135773e+09   \n",
       "Minions                             1.160336e+09      1.086336e+09   \n",
       "Avengers: Age of Ultron             1.403014e+09      1.072414e+09   \n",
       "Incredibles 2                       1.242521e+09      1.042521e+09   \n",
       "Iron Man 3                          1.215392e+09      1.015392e+09   \n",
       "Despicable Me 3                     1.034728e+09      9.597278e+08   \n",
       "Captain Marvel                      1.123062e+09      9.480616e+08   \n",
       "Transformers: Dark of the Moon      1.123791e+09      9.287905e+08   \n",
       "Skyfall                             1.110527e+09      9.105270e+08   \n",
       "Transformers: Age of Extinction     1.104039e+09      8.940391e+08   \n",
       "Jumanji: Welcome to the Jungle      9.644962e+08      8.744962e+08   \n",
       "Zootopia                            1.019430e+09      8.694296e+08   \n",
       "\n",
       "                                 start_year  runtime_minutes  averagerating  \\\n",
       "primary_title                                                                 \n",
       "Avengers: Infinity War               2018.0            149.0            8.5   \n",
       "Jurassic World                       2015.0            124.0            7.0   \n",
       "Black Panther                        2018.0            134.0            7.3   \n",
       "Jurassic World: Fallen Kingdom       2018.0            128.0            6.2   \n",
       "Minions                              2015.0             91.0            6.4   \n",
       "Avengers: Age of Ultron              2015.0            141.0            7.3   \n",
       "Incredibles 2                        2018.0            118.0            7.7   \n",
       "Iron Man 3                           2013.0            130.0            7.2   \n",
       "Despicable Me 3                      2017.0             89.0            6.3   \n",
       "Captain Marvel                       2019.0            123.0            7.0   \n",
       "Transformers: Dark of the Moon       2011.0            154.0            6.2   \n",
       "Skyfall                              2012.0            143.0            7.8   \n",
       "Transformers: Age of Extinction      2014.0            165.0            5.7   \n",
       "Jumanji: Welcome to the Jungle       2017.0            119.0            7.0   \n",
       "Zootopia                             2016.0            108.0            8.0   \n",
       "\n",
       "                                 numvotes  birth_year  death_year  \\\n",
       "primary_title                                                       \n",
       "Avengers: Infinity War           670926.0      1970.0         NaN   \n",
       "Jurassic World                   539338.0      1976.0         NaN   \n",
       "Black Panther                    516148.0      1986.0         NaN   \n",
       "Jurassic World: Fallen Kingdom   219125.0      1975.0         NaN   \n",
       "Minions                          193917.0      1967.0         NaN   \n",
       "Avengers: Age of Ultron          665594.0      1964.0         NaN   \n",
       "Incredibles 2                    203510.0      1957.0         NaN   \n",
       "Iron Man 3                       692794.0      1961.0         NaN   \n",
       "Despicable Me 3                   92580.0      1971.0         NaN   \n",
       "Captain Marvel                   296225.0      1976.0         NaN   \n",
       "Transformers: Dark of the Moon   366409.0      1965.0         NaN   \n",
       "Skyfall                          592221.0      1965.0         NaN   \n",
       "Transformers: Age of Extinction  283486.0      1965.0         NaN   \n",
       "Jumanji: Welcome to the Jungle   242735.0      1974.0         NaN   \n",
       "Zootopia                         383446.0      1974.0         NaN   \n",
       "\n",
       "                                 rating_relative_to_avg  \n",
       "primary_title                                            \n",
       "Avengers: Infinity War                         2.167271  \n",
       "Jurassic World                                 0.667271  \n",
       "Black Panther                                  0.967271  \n",
       "Jurassic World: Fallen Kingdom                -0.132729  \n",
       "Minions                                        0.067271  \n",
       "Avengers: Age of Ultron                        0.967271  \n",
       "Incredibles 2                                  1.367271  \n",
       "Iron Man 3                                     0.867271  \n",
       "Despicable Me 3                               -0.032729  \n",
       "Captain Marvel                                 0.667271  \n",
       "Transformers: Dark of the Moon                -0.132729  \n",
       "Skyfall                                        1.467271  \n",
       "Transformers: Age of Extinction               -0.632729  \n",
       "Jumanji: Welcome to the Jungle                 0.667271  \n",
       "Zootopia                                       1.667271  "
      ]
     },
     "execution_count": 53,
     "metadata": {},
     "output_type": "execute_result"
    }
   ],
   "source": [
    "# Filter data to find the top movies by worldwide profit since 2012\n",
    "top15_movs_profit = df_tn_imdb_filt_year.groupby('primary_title').mean().sort_values('worldwide_profit', ascending=False)[0:15]"
   ]
  },
  {
   "cell_type": "code",
   "execution_count": 58,
   "metadata": {},
   "outputs": [],
   "source": [
    "# Find the average production budget of the top 15 films\n",
    "top15_movs_profit_avg_probud = top15_movs_profit['production_budget'].mean()"
   ]
  },
  {
   "cell_type": "code",
   "execution_count": 66,
   "metadata": {},
   "outputs": [
    {
     "data": {
      "image/png": "[encoded data removed]",
      "text/plain": [
       "<Figure size 432x288 with 1 Axes>"
      ]
     },
     "metadata": {
      "needs_background": "light"
     },
     "output_type": "display_data"
    }
   ],
   "source": [
    "fig, ax = plt.subplots()\n",
    "\n",
    "x = top15_movs_profit.index\n",
    "y = top15_movs_profit['worldwide_profit']/1000000\n",
    "\n",
    "ha = ['right', 'center', 'left']\n",
    "\n",
    "plt.xticks(rotation=45, ha = 'right', rotation_mode = 'anchor')\n",
    "\n",
    "ax.set_xlabel('Movie')\n",
    "ax.set_ylabel('Worldwide Profit (millions)')\n",
    "ax.set_title('Top 15 Movies Profit')\n",
    "\n",
    "ax.bar(x,y)\n",
    "\n",
    "plt.savefig('../images/top_profit_movies_budget_profit', bbox_inches='tight')"
   ]
  },
  {
   "cell_type": "code",
   "execution_count": 65,
   "metadata": {},
   "outputs": [
    {
     "data": {
      "image/png": "[encoded data removed]",
      "text/plain": [
       "<Figure size 432x288 with 1 Axes>"
      ]
     },
     "metadata": {
      "needs_background": "light"
     },
     "output_type": "display_data"
    }
   ],
   "source": [
    "fig, ax = plt.subplots()\n",
    "\n",
    "x = top15_movs_profit.index\n",
    "y = top15_movs_profit['production_budget']/1000000\n",
    "\n",
    "ax.axhline(top15_movs_profit_avg_probud/1000000, c=\"black\")\n",
    "ax.text(-.5,160,\"Avg Budget\", backgroundcolor=\"White\")\n",
    "\n",
    "ha = ['right', 'center', 'left']\n",
    "\n",
    "plt.xticks(rotation=45, ha = 'right', rotation_mode = 'anchor')\n",
    "\n",
    "ax.set_xlabel('Movie')\n",
    "ax.set_ylabel('Production Budget (millions)')\n",
    "ax.set_title('Top 15 Movies Production Budget')\n",
    "\n",
    "ax.bar(x,y, color=\"green\")\n",
    "\n",
    "plt.savefig('../images/top_profit_movies_budget', bbox_inches='tight')"
   ]
  },
  {
   "cell_type": "markdown",
   "metadata": {},
   "source": [
    "## Successful Genre Combinations <a class=\"anchor\" id=\"gen\"></a>"
   ]
  },
  {
   "cell_type": "markdown",
   "metadata": {},
   "source": [
    "After hiring staff and allocating budget, the new studio will need to knwo what kinds of movies to make and focus on. We used the data of genre combinations to see what kinds of movies performed best. Future analysis should break down generes combinatiosn into their single genres and their success."
   ]
  },
  {
   "cell_type": "code",
   "execution_count": 33,
   "metadata": {},
   "outputs": [
    {
     "data": {
      "text/html": [
       "<div>\n",
       "<style scoped>\n",
       "    .dataframe tbody tr th:only-of-type {\n",
       "        vertical-align: middle;\n",
       "    }\n",
       "\n",
       "    .dataframe tbody tr th {\n",
       "        vertical-align: top;\n",
       "    }\n",
       "\n",
       "    .dataframe thead th {\n",
       "        text-align: right;\n",
       "    }\n",
       "</style>\n",
       "<table border=\"1\" class=\"dataframe\">\n",
       "  <thead>\n",
       "    <tr style=\"text-align: right;\">\n",
       "      <th></th>\n",
       "      <th></th>\n",
       "      <th></th>\n",
       "      <th>averagerating</th>\n",
       "      <th>numvotes</th>\n",
       "      <th>start_year</th>\n",
       "    </tr>\n",
       "    <tr>\n",
       "      <th>Genre_1</th>\n",
       "      <th>Genre_2</th>\n",
       "      <th>Genre_3</th>\n",
       "      <th></th>\n",
       "      <th></th>\n",
       "      <th></th>\n",
       "    </tr>\n",
       "  </thead>\n",
       "  <tbody>\n",
       "    <tr>\n",
       "      <th>Action</th>\n",
       "      <th>Drama</th>\n",
       "      <th>War</th>\n",
       "      <td>8.450</td>\n",
       "      <td>241280.50</td>\n",
       "      <td>2015.00</td>\n",
       "    </tr>\n",
       "    <tr>\n",
       "      <th>Animation</th>\n",
       "      <th>Drama</th>\n",
       "      <th>Fantasy</th>\n",
       "      <td>8.400</td>\n",
       "      <td>134084.00</td>\n",
       "      <td>2016.00</td>\n",
       "    </tr>\n",
       "    <tr>\n",
       "      <th>Adventure</th>\n",
       "      <th>Drama</th>\n",
       "      <th>Sci-Fi</th>\n",
       "      <td>8.300</td>\n",
       "      <td>989725.00</td>\n",
       "      <td>2014.50</td>\n",
       "    </tr>\n",
       "    <tr>\n",
       "      <th rowspan=\"2\" valign=\"top\">Comedy</th>\n",
       "      <th rowspan=\"2\" valign=\"top\">Drama</th>\n",
       "      <th>Thriller</th>\n",
       "      <td>8.100</td>\n",
       "      <td>151123.00</td>\n",
       "      <td>2014.00</td>\n",
       "    </tr>\n",
       "    <tr>\n",
       "      <th>Fantasy</th>\n",
       "      <td>8.000</td>\n",
       "      <td>200574.00</td>\n",
       "      <td>2013.50</td>\n",
       "    </tr>\n",
       "    <tr>\n",
       "      <th>Biography</th>\n",
       "      <th>Drama</th>\n",
       "      <th>Music</th>\n",
       "      <td>8.000</td>\n",
       "      <td>345466.00</td>\n",
       "      <td>2018.00</td>\n",
       "    </tr>\n",
       "    <tr>\n",
       "      <th>Action</th>\n",
       "      <th>Biography</th>\n",
       "      <th>Drama</th>\n",
       "      <td>7.850</td>\n",
       "      <td>291407.75</td>\n",
       "      <td>2014.00</td>\n",
       "    </tr>\n",
       "    <tr>\n",
       "      <th rowspan=\"2\" valign=\"top\">Drama</th>\n",
       "      <th>Music</th>\n",
       "      <th>Romance</th>\n",
       "      <td>7.800</td>\n",
       "      <td>249245.00</td>\n",
       "      <td>2018.00</td>\n",
       "    </tr>\n",
       "    <tr>\n",
       "      <th>Mystery</th>\n",
       "      <th>Sci-Fi</th>\n",
       "      <td>7.775</td>\n",
       "      <td>385403.75</td>\n",
       "      <td>2015.25</td>\n",
       "    </tr>\n",
       "    <tr>\n",
       "      <th>Biography</th>\n",
       "      <th>Drama</th>\n",
       "      <th>Thriller</th>\n",
       "      <td>7.700</td>\n",
       "      <td>415517.00</td>\n",
       "      <td>2013.75</td>\n",
       "    </tr>\n",
       "  </tbody>\n",
       "</table>\n",
       "</div>"
      ],
      "text/plain": [
       "                              averagerating   numvotes  start_year\n",
       "Genre_1   Genre_2   Genre_3                                       \n",
       "Action    Drama     War               8.450  241280.50     2015.00\n",
       "Animation Drama     Fantasy           8.400  134084.00     2016.00\n",
       "Adventure Drama     Sci-Fi            8.300  989725.00     2014.50\n",
       "Comedy    Drama     Thriller          8.100  151123.00     2014.00\n",
       "                    Fantasy           8.000  200574.00     2013.50\n",
       "Biography Drama     Music             8.000  345466.00     2018.00\n",
       "Action    Biography Drama             7.850  291407.75     2014.00\n",
       "Drama     Music     Romance           7.800  249245.00     2018.00\n",
       "          Mystery   Sci-Fi            7.775  385403.75     2015.25\n",
       "Biography Drama     Thriller          7.700  415517.00     2013.75"
      ]
     },
     "execution_count": 33,
     "metadata": {},
     "output_type": "execute_result"
    }
   ],
   "source": [
    "# Looking at the top 10 rated genre combinations with > 100000 votes since 2012\n",
    "df_top10_gen_comb_rat = df_genres[(df_genres['numvotes'] >= 100000) & (df_genres['start_year'] >= 2012)].groupby(['Genre_1', 'Genre_2', 'Genre_3']).mean().sort_values('averagerating', ascending=False)[:10]\n",
    "df_top10_gen_comb_rat"
   ]
  },
  {
   "cell_type": "code",
   "execution_count": 34,
   "metadata": {},
   "outputs": [],
   "source": [
    "#Top 50 movies by rating with at least 100,000 votes and released no later than 2012\n",
    "df_top50_rat = df_imdb[(df_imdb['numvotes'] >= 100000) & (df_imdb['start_year'] >= 2012)] .sort_values('averagerating', ascending=False)[0:50]"
   ]
  },
  {
   "cell_type": "code",
   "execution_count": 63,
   "metadata": {},
   "outputs": [
    {
     "data": {
      "text/plain": [
       "<BarContainer object of 10 artists>"
      ]
     },
     "execution_count": 63,
     "metadata": {},
     "output_type": "execute_result"
    },
    {
     "data": {
      "image/png": "[encoded data removed]",
      "text/plain": [
       "<Figure size 432x288 with 1 Axes>"
      ]
     },
     "metadata": {
      "needs_background": "light"
     },
     "output_type": "display_data"
    }
   ],
   "source": [
    "# Viz of genre counts\n",
    "top10_gen_cnt = df_gen_cnt.sort_values('total_gen_cnt', ascending=False)[0:10]\n",
    "\n",
    "fig, ax = plt.subplots()\n",
    "\n",
    "x = top10_gen_cnt.index\n",
    "y = top10_gen_cnt['total_gen_cnt']\n",
    "\n",
    "ha = ['right', 'center', 'left']\n",
    "\n",
    "plt.xticks(rotation=45, ha = \"right\", rotation_mode = 'anchor')\n",
    "\n",
    "ax.bar(x,y)"
   ]
  },
  {
   "cell_type": "code",
   "execution_count": 36,
   "metadata": {},
   "outputs": [],
   "source": [
    "df_com_yr_sr_rat = df_tn_imdb_filt_year.sort_values('averagerating', ascending=False)\n",
    "top_gen_s_2012 = df_com_yr_sr_rat.loc[:,['genres', 'averagerating', 'worldwide_gross']]\n",
    "top_gen_s_2012['genres'] = top_gen_s_2012['genres'].str.replace(',', ' - ')\n",
    "top_gen_s_2012_grp = top_gen_s_2012.groupby('genres').mean()"
   ]
  },
  {
   "cell_type": "code",
   "execution_count": 37,
   "metadata": {},
   "outputs": [
    {
     "data": {
      "text/html": [
       "<div>\n",
       "<style scoped>\n",
       "    .dataframe tbody tr th:only-of-type {\n",
       "        vertical-align: middle;\n",
       "    }\n",
       "\n",
       "    .dataframe tbody tr th {\n",
       "        vertical-align: top;\n",
       "    }\n",
       "\n",
       "    .dataframe thead th {\n",
       "        text-align: right;\n",
       "    }\n",
       "</style>\n",
       "<table border=\"1\" class=\"dataframe\">\n",
       "  <thead>\n",
       "    <tr style=\"text-align: right;\">\n",
       "      <th></th>\n",
       "      <th>averagerating</th>\n",
       "      <th>worldwide_gross</th>\n",
       "    </tr>\n",
       "    <tr>\n",
       "      <th>genres</th>\n",
       "      <th></th>\n",
       "      <th></th>\n",
       "    </tr>\n",
       "  </thead>\n",
       "  <tbody>\n",
       "    <tr>\n",
       "      <th>Adventure - Drama - Sci-Fi</th>\n",
       "      <td>8.6</td>\n",
       "      <td>666379375.0</td>\n",
       "    </tr>\n",
       "    <tr>\n",
       "      <th>Documentary - Sport</th>\n",
       "      <td>8.4</td>\n",
       "      <td>314444.0</td>\n",
       "    </tr>\n",
       "    <tr>\n",
       "      <th>Drama - Mystery - War</th>\n",
       "      <td>8.3</td>\n",
       "      <td>16038343.0</td>\n",
       "    </tr>\n",
       "    <tr>\n",
       "      <th>Crime - Documentary</th>\n",
       "      <td>8.3</td>\n",
       "      <td>7799257.0</td>\n",
       "    </tr>\n",
       "    <tr>\n",
       "      <th>Documentary - Drama - History</th>\n",
       "      <td>8.1</td>\n",
       "      <td>176262.0</td>\n",
       "    </tr>\n",
       "    <tr>\n",
       "      <th>Action - Sci-Fi</th>\n",
       "      <td>7.9</td>\n",
       "      <td>370541256.0</td>\n",
       "    </tr>\n",
       "    <tr>\n",
       "      <th>Comedy - Mystery - Thriller</th>\n",
       "      <td>7.9</td>\n",
       "      <td>0.0</td>\n",
       "    </tr>\n",
       "    <tr>\n",
       "      <th>Documentary - Drama</th>\n",
       "      <td>7.7</td>\n",
       "      <td>0.0</td>\n",
       "    </tr>\n",
       "    <tr>\n",
       "      <th>Biography - Drama - Musical</th>\n",
       "      <td>7.6</td>\n",
       "      <td>386665550.0</td>\n",
       "    </tr>\n",
       "    <tr>\n",
       "      <th>Adventure - Drama - Western</th>\n",
       "      <td>7.6</td>\n",
       "      <td>252276928.0</td>\n",
       "    </tr>\n",
       "  </tbody>\n",
       "</table>\n",
       "</div>"
      ],
      "text/plain": [
       "                               averagerating  worldwide_gross\n",
       "genres                                                       \n",
       "Adventure - Drama - Sci-Fi               8.6      666379375.0\n",
       "Documentary - Sport                      8.4         314444.0\n",
       "Drama - Mystery - War                    8.3       16038343.0\n",
       "Crime - Documentary                      8.3        7799257.0\n",
       "Documentary - Drama - History            8.1         176262.0\n",
       "Action - Sci-Fi                          7.9      370541256.0\n",
       "Comedy - Mystery - Thriller              7.9              0.0\n",
       "Documentary - Drama                      7.7              0.0\n",
       "Biography - Drama - Musical              7.6      386665550.0\n",
       "Adventure - Drama - Western              7.6      252276928.0"
      ]
     },
     "execution_count": 37,
     "metadata": {},
     "output_type": "execute_result"
    }
   ],
   "source": [
    "top10_gen_s2012_brat = top_gen_s_2012_grp.sort_values('averagerating', ascending=False)[0:10]\n",
    "top10_gen_s2012_brat"
   ]
  },
  {
   "cell_type": "code",
   "execution_count": 38,
   "metadata": {},
   "outputs": [
    {
     "data": {
      "text/html": [
       "<div>\n",
       "<style scoped>\n",
       "    .dataframe tbody tr th:only-of-type {\n",
       "        vertical-align: middle;\n",
       "    }\n",
       "\n",
       "    .dataframe tbody tr th {\n",
       "        vertical-align: top;\n",
       "    }\n",
       "\n",
       "    .dataframe thead th {\n",
       "        text-align: right;\n",
       "    }\n",
       "</style>\n",
       "<table border=\"1\" class=\"dataframe\">\n",
       "  <thead>\n",
       "    <tr style=\"text-align: right;\">\n",
       "      <th></th>\n",
       "      <th>averagerating</th>\n",
       "      <th>worldwide_gross</th>\n",
       "    </tr>\n",
       "    <tr>\n",
       "      <th>genres</th>\n",
       "      <th></th>\n",
       "      <th></th>\n",
       "    </tr>\n",
       "  </thead>\n",
       "  <tbody>\n",
       "    <tr>\n",
       "      <th>Fantasy - Musical</th>\n",
       "      <td>6.500000</td>\n",
       "      <td>1.025491e+09</td>\n",
       "    </tr>\n",
       "    <tr>\n",
       "      <th>Action - Adventure - Sci-Fi</th>\n",
       "      <td>6.703333</td>\n",
       "      <td>7.405735e+08</td>\n",
       "    </tr>\n",
       "    <tr>\n",
       "      <th>Adventure - Drama - Sci-Fi</th>\n",
       "      <td>8.600000</td>\n",
       "      <td>6.663794e+08</td>\n",
       "    </tr>\n",
       "    <tr>\n",
       "      <th>Adventure - Fantasy</th>\n",
       "      <td>7.050000</td>\n",
       "      <td>5.790272e+08</td>\n",
       "    </tr>\n",
       "    <tr>\n",
       "      <th>Drama - Family - Fantasy</th>\n",
       "      <td>6.900000</td>\n",
       "      <td>5.345514e+08</td>\n",
       "    </tr>\n",
       "    <tr>\n",
       "      <th>Action - Adventure - Animation</th>\n",
       "      <td>7.212500</td>\n",
       "      <td>5.310212e+08</td>\n",
       "    </tr>\n",
       "    <tr>\n",
       "      <th>Action - Adventure - Thriller</th>\n",
       "      <td>6.342857</td>\n",
       "      <td>4.540020e+08</td>\n",
       "    </tr>\n",
       "    <tr>\n",
       "      <th>Action - Adventure - Fantasy</th>\n",
       "      <td>6.250000</td>\n",
       "      <td>4.303633e+08</td>\n",
       "    </tr>\n",
       "    <tr>\n",
       "      <th>Adventure - Animation - Comedy</th>\n",
       "      <td>6.390000</td>\n",
       "      <td>4.027423e+08</td>\n",
       "    </tr>\n",
       "    <tr>\n",
       "      <th>Adventure - Mystery - Sci-Fi</th>\n",
       "      <td>7.000000</td>\n",
       "      <td>4.024483e+08</td>\n",
       "    </tr>\n",
       "  </tbody>\n",
       "</table>\n",
       "</div>"
      ],
      "text/plain": [
       "                                averagerating  worldwide_gross\n",
       "genres                                                        \n",
       "Fantasy - Musical                    6.500000     1.025491e+09\n",
       "Action - Adventure - Sci-Fi          6.703333     7.405735e+08\n",
       "Adventure - Drama - Sci-Fi           8.600000     6.663794e+08\n",
       "Adventure - Fantasy                  7.050000     5.790272e+08\n",
       "Drama - Family - Fantasy             6.900000     5.345514e+08\n",
       "Action - Adventure - Animation       7.212500     5.310212e+08\n",
       "Action - Adventure - Thriller        6.342857     4.540020e+08\n",
       "Action - Adventure - Fantasy         6.250000     4.303633e+08\n",
       "Adventure - Animation - Comedy       6.390000     4.027423e+08\n",
       "Adventure - Mystery - Sci-Fi         7.000000     4.024483e+08"
      ]
     },
     "execution_count": 38,
     "metadata": {},
     "output_type": "execute_result"
    }
   ],
   "source": [
    "top10_gen_s2012_bwrgr = top_gen_s_2012_grp.sort_values('worldwide_gross', ascending=False)[0:10]\n",
    "top10_gen_s2012_bwrgr"
   ]
  },
  {
   "cell_type": "code",
   "execution_count": 96,
   "metadata": {},
   "outputs": [
    {
     "data": {
      "image/png": "[encoded data removed]",
      "text/plain": [
       "<Figure size 432x288 with 1 Axes>"
      ]
     },
     "metadata": {
      "needs_background": "light"
     },
     "output_type": "display_data"
    }
   ],
   "source": [
    "fig, ax = plt.subplots()\n",
    "\n",
    "x = top10_gen_s2012_brat.index\n",
    "y = top10_gen_s2012_brat['averagerating']\n",
    "\n",
    "ax.set_xlabel(\"Average Rating\")\n",
    "ax.set_ylabel(\"Genre Combination\")\n",
    "ax.set_title(\"Top Genre Combinations, Rating\")\n",
    "\n",
    "plt.gca().invert_yaxis()\n",
    "\n",
    "ax.barh(x,y)\n",
    "plt.savefig('../images/top_gen_s_2012_b_avg_rat', bbox_inches='tight')"
   ]
  },
  {
   "cell_type": "code",
   "execution_count": 95,
   "metadata": {},
   "outputs": [
    {
     "data": {
      "image/png": "[encoded data removed]",
      "text/plain": [
       "<Figure size 432x288 with 1 Axes>"
      ]
     },
     "metadata": {
      "needs_background": "light"
     },
     "output_type": "display_data"
    }
   ],
   "source": [
    "fig, ax = plt.subplots()\n",
    "\n",
    "x = top10_gen_s2012_bwrgr.index\n",
    "y = top10_gen_s2012_bwrgr['worldwide_gross']/1000000\n",
    "\n",
    "ax.set_xlabel(\"Average Worldwide Gross (millions)\")\n",
    "ax.set_ylabel(\"Genre Combination\")\n",
    "ax.set_title(\"Top Genre Combinations, Gross\")\n",
    "\n",
    "plt.gca().invert_yaxis()\n",
    "\n",
    "ax.barh(x,y)\n",
    "plt.savefig('../images/top_gen_s_2012_b_avg_wwgr', bbox_inches='tight')"
   ]
  },
  {
   "cell_type": "markdown",
   "metadata": {},
   "source": [
    "## Directors to Work With <a class=\"anchor\" id=\"dir\"></a>"
   ]
  },
  {
   "cell_type": "markdown",
   "metadata": {},
   "source": [
    "In addition to the most successful genres, we looked into the most succesfull directors since 2012 so Microsoft will know who to build relationships with and hire onto movies. We looked at director success through the lenses of being in the top 50 user rated movies (for industry acceptance and awareness) and average profit per movie."
   ]
  },
  {
   "cell_type": "code",
   "execution_count": 91,
   "metadata": {},
   "outputs": [
    {
     "data": {
      "image/png": "[encoded data removed]",
      "text/plain": [
       "<Figure size 432x288 with 1 Axes>"
      ]
     },
     "metadata": {
      "needs_background": "light"
     },
     "output_type": "display_data"
    }
   ],
   "source": [
    "# Viz of the directors who have more than one film in the top 50 rated movies since 2012 with more than 100000 votes\n",
    "\n",
    "# Create a series of directors who have more than one film in the top 50 rated movies since 2012 with more than 100000 votes\n",
    "dir_mul_top50 = df_top50_rat.value_counts('primary_name')[0:7]\n",
    "\n",
    "fig, ax = plt.subplots()\n",
    "\n",
    "x = dir_mul_top50.index\n",
    "y = dir_mul_top50.values\n",
    "\n",
    "ha = ['right', 'center', 'left']\n",
    "\n",
    "plt.xticks(rotation=45, ha = 'right', rotation_mode = 'anchor')\n",
    "\n",
    "ax.set_xlabel('Director')\n",
    "ax.set_ylabel('Movies in Top 50')\n",
    "ax.set_title('Directors With More Than One Movie in Top 50')\n",
    "\n",
    "ax.bar(x,y)\n",
    "plt.savefig('../images/top_studios_all_data', bbox_inches='tight')"
   ]
  },
  {
   "cell_type": "code",
   "execution_count": 45,
   "metadata": {},
   "outputs": [],
   "source": [
    "# Filter data to find the top ten directors by total profit since 2012 who's movies have at least 100000 votes\n",
    "top10_dirs_profit = df_tn_imdb_filt_year.groupby('primary_name').mean().sort_values('worldwide_profit', ascending=False)[0:10]"
   ]
  },
  {
   "cell_type": "code",
   "execution_count": 100,
   "metadata": {},
   "outputs": [
    {
     "data": {
      "image/png": "[encoded data removed]",
      "text/plain": [
       "<Figure size 432x288 with 1 Axes>"
      ]
     },
     "metadata": {
      "needs_background": "light"
     },
     "output_type": "display_data"
    }
   ],
   "source": [
    "# Vizualize top 10 directors by average worldwide profit per movie\n",
    "fig, ax = plt.subplots()\n",
    "\n",
    "x = top10_dirs_profit.index\n",
    "y = top10_dirs_profit['worldwide_profit']/1000000\n",
    "\n",
    "ax.set_xlabel(\"Director\")\n",
    "ax.set_ylabel(\"Avg Profit per Movie (millions)\")\n",
    "ax.set_title(\"Top 10 Directors by Profit\")\n",
    "\n",
    "ha = ['right', 'center', 'left']\n",
    "plt.xticks(rotation=45, ha = 'right', rotation_mode = 'anchor')\n",
    "\n",
    "ax.bar(x,y, color=\"green\")\n",
    "plt.savefig('../images/top_dirs_profit_s_2012', bbox_inches='tight')"
   ]
  },
  {
   "cell_type": "markdown",
   "metadata": {},
   "source": [
    "# Conclusions <a class=\"anchor\" id=\"con\"></a>"
   ]
  },
  {
   "cell_type": "markdown",
   "metadata": {},
   "source": [
    "# Nest Steps <a class=\"anchor\" id=\"steps\"></a>"
   ]
  },
  {
   "cell_type": "code",
   "execution_count": null,
   "metadata": {},
   "outputs": [],
   "source": []
  }
 ],
 "metadata": {
  "kernelspec": {
   "display_name": "Python (learn-env)",
   "language": "python",
   "name": "learn-env"
  },
  "language_info": {
   "codemirror_mode": {
    "name": "ipython",
    "version": 3
   },
   "file_extension": ".py",
   "mimetype": "text/x-python",
   "name": "python",
   "nbconvert_exporter": "python",
   "pygments_lexer": "ipython3",
   "version": "3.8.5"
  }
 },
 "nbformat": 4,
 "nbformat_minor": 4
}
