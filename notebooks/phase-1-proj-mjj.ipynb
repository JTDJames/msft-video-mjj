{
 "cells": [
  {
   "cell_type": "markdown",
   "metadata": {},
   "source": [
    "## Title"
   ]
  },
  {
   "cell_type": "markdown",
   "metadata": {},
   "source": [
    "## Table of Contents"
   ]
  },
  {
   "cell_type": "code",
   "execution_count": null,
   "metadata": {},
   "outputs": [],
   "source": [
    "# Import linraries and modules\n",
    "\n",
    "import pandas as pd\n",
    "import matplotlib.pyplot as plt\n",
    "import seaborn as sns\n",
    "import sqlite3 "
   ]
  },
  {
   "cell_type": "markdown",
   "metadata": {},
   "source": [
    "# Data Import"
   ]
  },
  {
   "cell_type": "code",
   "execution_count": null,
   "metadata": {},
   "outputs": [],
   "source": [
    "#Access IMDB data through sqlite3\n",
    "\n",
    "# Connect to sqlite3\n",
    "conn = sqlite3.connect('../data/im.db')\n",
    "\n",
    "# Query and join IMDB tables movie_basics and movie_ratings\n",
    "\n",
    "df_imdb = pd.read_sql(\"\"\"\n",
    "    SELECT *\n",
    "    FROM \n",
    "    movie_basics AS mb\n",
    "        LEFT JOIN movie_ratings AS mr\n",
    "            ON mb.movie_id = mr.movie_id\n",
    "\"\"\", conn)"
   ]
  },
  {
   "cell_type": "markdown",
   "metadata": {},
   "source": [
    "# Data Cleaning"
   ]
  },
  {
   "cell_type": "markdown",
   "metadata": {},
   "source": [
    "# IMDB"
   ]
  },
  {
   "cell_type": "code",
   "execution_count": null,
   "metadata": {},
   "outputs": [],
   "source": [
    "# Split genres from IMDB data into spereate columns\n",
    "df_imdb[['Genre_1','Genre_2', 'Genre_3']] = df_imdb[\"genres\"].str.split(\",\",expand=True)\n",
    "\n",
    "# Add colum of avrage rating relative to mean of overall average rating\n",
    "df_imdb['rating_relative_to_avg'] = df_imdb['averagerating'] - df_imdb['averagerating'].mean()\n",
    "\n",
    "\n",
    "# Create dataframe of counts of genres\n",
    "\n",
    "# Count genres by column\n",
    "df_gen_cnt = df_imdb[['Genre_1', 'Genre_2', 'Genre_3']].apply(pd.Series.value_counts)\n",
    "\n",
    "# Make NaNs 0\n",
    "df_gen_cnt = df_gen_cnt.fillna(0)\n",
    "\n",
    "# Get total count per genre and add to total counts column\n",
    "df_gen_cnt['total_gen_cnt'] = df_gen_cnt['Genre_1'] + df_gen_cnt['Genre_2'] + df_gen_cnt['Genre_3']"
   ]
  },
  {
   "cell_type": "markdown",
   "metadata": {},
   "source": [
    "# Exploratory Data Analysis"
   ]
  }
 ],
 "metadata": {
  "kernelspec": {
   "display_name": "Python (learn-env)",
   "language": "python",
   "name": "learn-env"
  },
  "language_info": {
   "codemirror_mode": {
    "name": "ipython",
    "version": 3
   },
   "file_extension": ".py",
   "mimetype": "text/x-python",
   "name": "python",
   "nbconvert_exporter": "python",
   "pygments_lexer": "ipython3",
   "version": "3.8.5"
  }
 },
 "nbformat": 4,
 "nbformat_minor": 4
}
