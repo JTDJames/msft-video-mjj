{
 "cells": [
  {
   "cell_type": "markdown",
   "metadata": {},
   "source": [
    "# Microsoft Original Video Content"
   ]
  },
  {
   "cell_type": "markdown",
   "metadata": {},
   "source": [
    "# Table of Contents\n",
    "*[Overvdiew](#over)<br>\n",
    "*[Business Understanding](#bizund)<br>\n",
    "*[Data Understanding](#dataund)<br>\n",
    "*[Data Preperation](#dataprep)<br>\n",
    "*[Data Import](#dataimport)<br>\n",
    "    *[Data Cleaning](#datacleaning)<br>\n",
    "        *[IMDB Cleaning](#imdbclean)<br>\n",
    "        *[The Numbers (TN) Cleaning](#imdbclean)<br>\n",
    "        *[Data Mergeing](#merge)<br>\n",
    "*[Analysis](#explore)<br>\n",
    "    *[Studios to Hire From](#stud)<br>\n",
    "    *[Allocation of Budget](#bud)<br>\n",
    "    *[Successful Genres](#gen)<br>\n",
    "    *[Direcotrs to Work With](#dir)<br>\n",
    "    *[Average Rating IMDB](#rat)<br>\n",
    "*[Conslusion](#con)<br>\n",
    "*[Nest Steps](#steps)<br>\n"
   ]
  },
  {
   "cell_type": "markdown",
   "metadata": {},
   "source": [
    "# Overview <a class=\"anchor\" id=\"over\"></a>"
   ]
  },
  {
   "cell_type": "markdown",
   "metadata": {},
   "source": [
    "# Business Problem <a class=\"anchor\" id=\"bizund\"></a>"
   ]
  },
  {
   "cell_type": "markdown",
   "metadata": {},
   "source": [
    "# Data Understanding <a class=\"anchor\" id=\"dataund\"></a>"
   ]
  },
  {
   "cell_type": "markdown",
   "metadata": {},
   "source": [
    "# Data Preperation <a class=\"anchor\" id=\"dataprep\"></a>"
   ]
  },
  {
   "cell_type": "markdown",
   "metadata": {},
   "source": [
    "## Data Import <a class=\"anchor\" id=\"dataimport\"></a>"
   ]
  },
  {
   "cell_type": "code",
   "execution_count": 1,
   "metadata": {},
   "outputs": [],
   "source": [
    "# Import linraries and modules\n",
    "\n",
    "import pandas as pd\n",
    "import matplotlib.pyplot as plt\n",
    "import seaborn as sns\n",
    "import sqlite3 "
   ]
  },
  {
   "cell_type": "code",
   "execution_count": 2,
   "metadata": {},
   "outputs": [],
   "source": [
    "#Access IMDB data through sqlite3\n",
    "\n",
    "# Connect to sqlite3\n",
    "conn = sqlite3.connect('../data/im.db')\n",
    "\n",
    "# Query and join IMDB tables movie_basics, movie_ratings and direcotr information (tables directors and perons)\n",
    "\n",
    "df_imdb = pd.read_sql(\"\"\"\n",
    "    SELECT *\n",
    "    FROM \n",
    "    movie_basics AS mb\n",
    "        LEFT JOIN movie_ratings AS mr\n",
    "            ON mb.movie_id = mr.movie_id\n",
    "        LEFT JOIN\n",
    "            (SELECT *\n",
    "            FROM directors GROUP BY movie_id) AS dr\n",
    "            ON mb.movie_id = dr.movie_id\n",
    "        LEFT JOIN persons AS ps\n",
    "            ON dr.person_id = ps.person_id\n",
    "\"\"\", conn)"
   ]
  },
  {
   "cell_type": "code",
   "execution_count": 3,
   "metadata": {},
   "outputs": [],
   "source": [
    "df_tn = pd.read_csv('../data/tn.movie_budgets.csv')"
   ]
  },
  {
   "cell_type": "code",
   "execution_count": 4,
   "metadata": {},
   "outputs": [],
   "source": [
    "df_bom = pd.read_csv('../data/bom.movie_gross.csv')"
   ]
  },
  {
   "cell_type": "markdown",
   "metadata": {},
   "source": [
    "## Data Cleaning <a class=\"anchor\" id=\"datacleaning\"></a>"
   ]
  },
  {
   "cell_type": "markdown",
   "metadata": {},
   "source": [
    "### IMDB Cleaning <a class=\"anchor\" id=\"imdbclean\"></a>"
   ]
  },
  {
   "cell_type": "code",
   "execution_count": 5,
   "metadata": {},
   "outputs": [],
   "source": [
    "# Split genres from IMDB data into spereate columns\n",
    "df_imdb[['Genre_1','Genre_2', 'Genre_3']] = df_imdb[\"genres\"].str.split(\",\",expand=True)\n",
    "\n",
    "# Add colum of avrage rating relative to mean of overall average rating\n",
    "df_imdb['rating_relative_to_avg'] = df_imdb['averagerating'] - df_imdb['averagerating'].mean()\n",
    "\n",
    "\n",
    "# Create dataframe of counts of genres\n",
    "# Count genres by column\n",
    "df_gen_cnt = df_imdb[['Genre_1', 'Genre_2', 'Genre_3']].apply(pd.Series.value_counts)\n",
    "\n",
    "# Make NaNs 0\n",
    "df_gen_cnt = df_gen_cnt.fillna(0)\n",
    "\n",
    "# Get total count per genre and add to total counts column\n",
    "df_gen_cnt['total_gen_cnt'] = df_gen_cnt['Genre_1'] + df_gen_cnt['Genre_2'] + df_gen_cnt['Genre_3']\n",
    "\n",
    "# Create a datafram of genre combinations and their averagerating\n",
    "df_genres = df_imdb.loc[:, [\"Genre_1\",\"Genre_2\",\"Genre_3\", \"averagerating\", \"numvotes\", 'start_year']]\n",
    "\n",
    "# A dataframe of genre value counts\n",
    "df_gen_cnt = df_imdb[['Genre_1', 'Genre_2', 'Genre_3']].apply(pd.Series.value_counts)\n",
    "df_gen_cnt = df_gen_cnt.fillna(0)\n",
    "df_gen_cnt['total_gen_cnt'] = df_gen_cnt['Genre_1'] + df_gen_cnt['Genre_2'] + df_gen_cnt['Genre_3']\n",
    "df_genres = df_genres.dropna(subset=['averagerating'])\n"
   ]
  },
  {
   "cell_type": "markdown",
   "metadata": {},
   "source": [
    "### TN Cleaning <a class=\"anchor\" id=\"tnclean\"></a>"
   ]
  },
  {
   "cell_type": "code",
   "execution_count": 6,
   "metadata": {},
   "outputs": [],
   "source": [
    "df_tn['production_budget'] = df_tn['production_budget'].str.replace(\",\",\"\")\n",
    "df_tn['production_budget'] = df_tn['production_budget'].str.replace(\"$\",\"\")\n",
    "\n",
    "df_tn['worldwide_gross'] = df_tn['worldwide_gross'].str.replace(\",\",\"\")\n",
    "df_tn['worldwide_gross'] = df_tn['worldwide_gross'].str.replace(\"$\",\"\")\n",
    "\n",
    "df_tn['domestic_gross'] = df_tn['worldwide_gross'].str.replace(\",\",\"\")\n",
    "df_tn['domestic_gross'] = df_tn['worldwide_gross'].str.replace(\"$\",\"\")"
   ]
  },
  {
   "cell_type": "code",
   "execution_count": 7,
   "metadata": {},
   "outputs": [],
   "source": [
    "# Convert the data type of the 'release_date' column to a date\n",
    "df_tn['release_date'] = pd.to_datetime(df_tn['release_date'],format=\"%b %d, %Y\")\n",
    "\n",
    "# Add a new columns 'year'\n",
    "df_tn['release_year'] = df_tn['release_date'].dt.year\n",
    "\n",
    "# Create key column movie + year\n",
    "df_tn['release_year'] = df_tn['release_year'].astype(str)\n",
    "df_tn['mov_yr_key'] = df_tn['movie'] + \"-\" + df_tn['release_year']"
   ]
  },
  {
   "cell_type": "code",
   "execution_count": 8,
   "metadata": {},
   "outputs": [],
   "source": [
    "df_tn['worldwide_gross'] = df_tn['worldwide_gross'].astype('int64')\n",
    "df_tn['production_budget'] = df_tn['production_budget'].astype('int64')\n",
    "df_tn['domestic_gross'] = df_tn['domestic_gross'].astype('int64')"
   ]
  },
  {
   "cell_type": "code",
   "execution_count": 9,
   "metadata": {},
   "outputs": [],
   "source": [
    "df_tn_dna = df_tn.dropna(subset=['worldwide_gross'])\n",
    "df_tn_dna = df_tn_dna.dropna(subset=['production_budget'])"
   ]
  },
  {
   "cell_type": "code",
   "execution_count": 10,
   "metadata": {},
   "outputs": [],
   "source": [
    "df_tn_dna['worldwide_profit'] = df_tn_dna['worldwide_gross'] - df_tn_dna['production_budget']"
   ]
  },
  {
   "cell_type": "markdown",
   "metadata": {},
   "source": [
    "### BOM"
   ]
  },
  {
   "cell_type": "code",
   "execution_count": 11,
   "metadata": {},
   "outputs": [],
   "source": [
    "df_bom['foreign_gross'] = df_bom['foreign_gross'].str.replace(\",\",\"\")\n",
    "df_bom['foreign_gross'] = df_bom['foreign_gross'].astype(float)\n",
    "\n",
    "df_bom['total_gross'] = df_bom['foreign_gross'] + df_bom['domestic_gross']"
   ]
  },
  {
   "cell_type": "markdown",
   "metadata": {},
   "source": [
    "### Data Merging <a class=\"anchor\" id=\"merge\"></a>"
   ]
  },
  {
   "cell_type": "markdown",
   "metadata": {},
   "source": [
    "Before merging the datasets, we created new column in both the IMDB and TN datasets 'mov_yr_key' a conbination of the title and year string columns of each data set. "
   ]
  },
  {
   "cell_type": "code",
   "execution_count": 12,
   "metadata": {},
   "outputs": [],
   "source": [
    "df_imdb['year_str'] = df_imdb['start_year'].astype(str)\n",
    "df_imdb['mov_yr_key'] = df_imdb['primary_title'] + \"-\" + df_imdb['year_str']"
   ]
  },
  {
   "cell_type": "code",
   "execution_count": 13,
   "metadata": {},
   "outputs": [],
   "source": [
    "# Merge the imdb and tn datasets on 'mov_yr_key'\n",
    "df_tn_imdb = df_tn_dna.merge(df_imdb,how='inner',left_on='mov_yr_key', right_on='mov_yr_key',suffixes=('_tn', '_imdb'))"
   ]
  },
  {
   "cell_type": "code",
   "execution_count": 14,
   "metadata": {},
   "outputs": [
    {
     "name": "stderr",
     "output_type": "stream",
     "text": [
      "<ipython-input-14-b8e5cc9ac497>:2: UserWarning: Boolean Series key will be reindexed to match DataFrame index.\n",
      "  df_tn_imdb_filt_year = df_tn_imdb[df_imdb['start_year'] >= 2012]\n",
      "<ipython-input-14-b8e5cc9ac497>:9: UserWarning: Boolean Series key will be reindexed to match DataFrame index.\n",
      "  df_tn_imdb_filt = df_tn_imdb[(df_tn_imdb['numvotes'] >= 100000) & (df_imdb['start_year'] >= 2012)]\n"
     ]
    }
   ],
   "source": [
    "# Create filtered dataFrame of merged data to only include movies made since 2012\n",
    "df_tn_imdb_filt_year = df_tn_imdb[df_imdb['start_year'] >= 2012]\n",
    "\n",
    "# Create filtered dataFrame of merged data to only include movies made since 2012 \n",
    "#and made a worldwide profit of at least $50,000,000\n",
    "df_tn_imdb_filt_year_5hunthou = df_tn_imdb_filt_year[df_tn_imdb_filt_year['worldwide_profit'] > 50000000]\n",
    "\n",
    "# Create filtered dataFrame of merged data to only include movies with at leaste 100000 votes and made since 2012\n",
    "df_tn_imdb_filt = df_tn_imdb[(df_tn_imdb['numvotes'] >= 100000) & (df_imdb['start_year'] >= 2012)]"
   ]
  },
  {
   "cell_type": "markdown",
   "metadata": {},
   "source": [
    "# Analysis <a class=\"anchor\" id=\"explore\"></a>"
   ]
  },
  {
   "cell_type": "markdown",
   "metadata": {},
   "source": [
    "### Studios to Hire From <a class=\"anchor\" id=\"stud\"></a>"
   ]
  },
  {
   "cell_type": "code",
   "execution_count": 15,
   "metadata": {},
   "outputs": [],
   "source": [
    "df_bom_filt = df_bom[df_bom['year'] >= 2012]"
   ]
  },
  {
   "cell_type": "code",
   "execution_count": 16,
   "metadata": {},
   "outputs": [
    {
     "data": {
      "text/html": [
       "<div>\n",
       "<style scoped>\n",
       "    .dataframe tbody tr th:only-of-type {\n",
       "        vertical-align: middle;\n",
       "    }\n",
       "\n",
       "    .dataframe tbody tr th {\n",
       "        vertical-align: top;\n",
       "    }\n",
       "\n",
       "    .dataframe thead th {\n",
       "        text-align: right;\n",
       "    }\n",
       "</style>\n",
       "<table border=\"1\" class=\"dataframe\">\n",
       "  <thead>\n",
       "    <tr style=\"text-align: right;\">\n",
       "      <th></th>\n",
       "      <th>domestic_gross</th>\n",
       "      <th>foreign_gross</th>\n",
       "      <th>year</th>\n",
       "      <th>total_gross</th>\n",
       "    </tr>\n",
       "    <tr>\n",
       "      <th>studio</th>\n",
       "      <th></th>\n",
       "      <th></th>\n",
       "      <th></th>\n",
       "      <th></th>\n",
       "    </tr>\n",
       "  </thead>\n",
       "  <tbody>\n",
       "    <tr>\n",
       "      <th>BV</th>\n",
       "      <td>1.570240e+10</td>\n",
       "      <td>2.117251e+10</td>\n",
       "      <td>157157</td>\n",
       "      <td>3.686251e+10</td>\n",
       "    </tr>\n",
       "    <tr>\n",
       "      <th>Fox</th>\n",
       "      <td>8.967700e+09</td>\n",
       "      <td>1.702962e+10</td>\n",
       "      <td>209547</td>\n",
       "      <td>2.597232e+10</td>\n",
       "    </tr>\n",
       "    <tr>\n",
       "      <th>Uni.</th>\n",
       "      <td>1.105189e+10</td>\n",
       "      <td>1.457537e+10</td>\n",
       "      <td>235767</td>\n",
       "      <td>2.561691e+10</td>\n",
       "    </tr>\n",
       "    <tr>\n",
       "      <th>WB</th>\n",
       "      <td>9.073773e+09</td>\n",
       "      <td>1.416202e+10</td>\n",
       "      <td>209564</td>\n",
       "      <td>2.319382e+10</td>\n",
       "    </tr>\n",
       "    <tr>\n",
       "      <th>Sony</th>\n",
       "      <td>6.550983e+09</td>\n",
       "      <td>1.149014e+10</td>\n",
       "      <td>175332</td>\n",
       "      <td>1.804092e+10</td>\n",
       "    </tr>\n",
       "    <tr>\n",
       "      <th>...</th>\n",
       "      <td>...</td>\n",
       "      <td>...</td>\n",
       "      <td>...</td>\n",
       "      <td>...</td>\n",
       "    </tr>\n",
       "    <tr>\n",
       "      <th>Gaatri</th>\n",
       "      <td>8.980000e+05</td>\n",
       "      <td>0.000000e+00</td>\n",
       "      <td>2016</td>\n",
       "      <td>0.000000e+00</td>\n",
       "    </tr>\n",
       "    <tr>\n",
       "      <th>Fathom</th>\n",
       "      <td>1.144700e+07</td>\n",
       "      <td>0.000000e+00</td>\n",
       "      <td>20177</td>\n",
       "      <td>0.000000e+00</td>\n",
       "    </tr>\n",
       "    <tr>\n",
       "      <th>FOR</th>\n",
       "      <td>1.020000e+04</td>\n",
       "      <td>0.000000e+00</td>\n",
       "      <td>2015</td>\n",
       "      <td>0.000000e+00</td>\n",
       "    </tr>\n",
       "    <tr>\n",
       "      <th>FEF</th>\n",
       "      <td>6.130000e+05</td>\n",
       "      <td>0.000000e+00</td>\n",
       "      <td>2013</td>\n",
       "      <td>0.000000e+00</td>\n",
       "    </tr>\n",
       "    <tr>\n",
       "      <th>Jampa</th>\n",
       "      <td>2.670000e+04</td>\n",
       "      <td>0.000000e+00</td>\n",
       "      <td>2016</td>\n",
       "      <td>0.000000e+00</td>\n",
       "    </tr>\n",
       "  </tbody>\n",
       "</table>\n",
       "<p>219 rows × 4 columns</p>\n",
       "</div>"
      ],
      "text/plain": [
       "        domestic_gross  foreign_gross    year   total_gross\n",
       "studio                                                     \n",
       "BV        1.570240e+10   2.117251e+10  157157  3.686251e+10\n",
       "Fox       8.967700e+09   1.702962e+10  209547  2.597232e+10\n",
       "Uni.      1.105189e+10   1.457537e+10  235767  2.561691e+10\n",
       "WB        9.073773e+09   1.416202e+10  209564  2.319382e+10\n",
       "Sony      6.550983e+09   1.149014e+10  175332  1.804092e+10\n",
       "...                ...            ...     ...           ...\n",
       "Gaatri    8.980000e+05   0.000000e+00    2016  0.000000e+00\n",
       "Fathom    1.144700e+07   0.000000e+00   20177  0.000000e+00\n",
       "FOR       1.020000e+04   0.000000e+00    2015  0.000000e+00\n",
       "FEF       6.130000e+05   0.000000e+00    2013  0.000000e+00\n",
       "Jampa     2.670000e+04   0.000000e+00    2016  0.000000e+00\n",
       "\n",
       "[219 rows x 4 columns]"
      ]
     },
     "execution_count": 16,
     "metadata": {},
     "output_type": "execute_result"
    }
   ],
   "source": [
    "df_bom_filt.groupby('studio').sum().sort_values('total_gross', ascending=False)"
   ]
  },
  {
   "cell_type": "code",
   "execution_count": 17,
   "metadata": {},
   "outputs": [
    {
     "data": {
      "text/html": [
       "<div>\n",
       "<style scoped>\n",
       "    .dataframe tbody tr th:only-of-type {\n",
       "        vertical-align: middle;\n",
       "    }\n",
       "\n",
       "    .dataframe tbody tr th {\n",
       "        vertical-align: top;\n",
       "    }\n",
       "\n",
       "    .dataframe thead th {\n",
       "        text-align: right;\n",
       "    }\n",
       "</style>\n",
       "<table border=\"1\" class=\"dataframe\">\n",
       "  <thead>\n",
       "    <tr style=\"text-align: right;\">\n",
       "      <th></th>\n",
       "      <th>domestic_gross</th>\n",
       "      <th>foreign_gross</th>\n",
       "      <th>year</th>\n",
       "      <th>total_gross</th>\n",
       "    </tr>\n",
       "    <tr>\n",
       "      <th>studio</th>\n",
       "      <th></th>\n",
       "      <th></th>\n",
       "      <th></th>\n",
       "      <th></th>\n",
       "    </tr>\n",
       "  </thead>\n",
       "  <tbody>\n",
       "    <tr>\n",
       "      <th>BV</th>\n",
       "      <td>1.570240e+10</td>\n",
       "      <td>2.117251e+10</td>\n",
       "      <td>157157</td>\n",
       "      <td>3.686251e+10</td>\n",
       "    </tr>\n",
       "    <tr>\n",
       "      <th>Fox</th>\n",
       "      <td>8.967700e+09</td>\n",
       "      <td>1.702962e+10</td>\n",
       "      <td>209547</td>\n",
       "      <td>2.597232e+10</td>\n",
       "    </tr>\n",
       "    <tr>\n",
       "      <th>Uni.</th>\n",
       "      <td>1.105189e+10</td>\n",
       "      <td>1.457537e+10</td>\n",
       "      <td>235767</td>\n",
       "      <td>2.561691e+10</td>\n",
       "    </tr>\n",
       "    <tr>\n",
       "      <th>WB</th>\n",
       "      <td>9.073773e+09</td>\n",
       "      <td>1.416202e+10</td>\n",
       "      <td>209564</td>\n",
       "      <td>2.319382e+10</td>\n",
       "    </tr>\n",
       "    <tr>\n",
       "      <th>Sony</th>\n",
       "      <td>6.550983e+09</td>\n",
       "      <td>1.149014e+10</td>\n",
       "      <td>175332</td>\n",
       "      <td>1.804092e+10</td>\n",
       "    </tr>\n",
       "    <tr>\n",
       "      <th>Par.</th>\n",
       "      <td>5.298605e+09</td>\n",
       "      <td>9.049485e+09</td>\n",
       "      <td>159185</td>\n",
       "      <td>1.424340e+10</td>\n",
       "    </tr>\n",
       "    <tr>\n",
       "      <th>WB (NL)</th>\n",
       "      <td>3.416300e+09</td>\n",
       "      <td>5.567200e+09</td>\n",
       "      <td>72549</td>\n",
       "      <td>8.962900e+09</td>\n",
       "    </tr>\n",
       "    <tr>\n",
       "      <th>LGF</th>\n",
       "      <td>3.427902e+09</td>\n",
       "      <td>3.811285e+09</td>\n",
       "      <td>161198</td>\n",
       "      <td>7.106475e+09</td>\n",
       "    </tr>\n",
       "    <tr>\n",
       "      <th>LG/S</th>\n",
       "      <td>2.078200e+09</td>\n",
       "      <td>3.353724e+09</td>\n",
       "      <td>82599</td>\n",
       "      <td>5.318924e+09</td>\n",
       "    </tr>\n",
       "    <tr>\n",
       "      <th>Wein.</th>\n",
       "      <td>1.242996e+09</td>\n",
       "      <td>2.063821e+09</td>\n",
       "      <td>122850</td>\n",
       "      <td>3.266239e+09</td>\n",
       "    </tr>\n",
       "  </tbody>\n",
       "</table>\n",
       "</div>"
      ],
      "text/plain": [
       "         domestic_gross  foreign_gross    year   total_gross\n",
       "studio                                                      \n",
       "BV         1.570240e+10   2.117251e+10  157157  3.686251e+10\n",
       "Fox        8.967700e+09   1.702962e+10  209547  2.597232e+10\n",
       "Uni.       1.105189e+10   1.457537e+10  235767  2.561691e+10\n",
       "WB         9.073773e+09   1.416202e+10  209564  2.319382e+10\n",
       "Sony       6.550983e+09   1.149014e+10  175332  1.804092e+10\n",
       "Par.       5.298605e+09   9.049485e+09  159185  1.424340e+10\n",
       "WB (NL)    3.416300e+09   5.567200e+09   72549  8.962900e+09\n",
       "LGF        3.427902e+09   3.811285e+09  161198  7.106475e+09\n",
       "LG/S       2.078200e+09   3.353724e+09   82599  5.318924e+09\n",
       "Wein.      1.242996e+09   2.063821e+09  122850  3.266239e+09"
      ]
     },
     "execution_count": 17,
     "metadata": {},
     "output_type": "execute_result"
    }
   ],
   "source": [
    "top10_stud_filt = df_bom_filt.groupby('studio').sum().sort_values('total_gross', ascending=False)[:10]\n",
    "top10_stud_filt"
   ]
  },
  {
   "cell_type": "code",
   "execution_count": 18,
   "metadata": {},
   "outputs": [
    {
     "data": {
      "text/plain": [
       "<BarContainer object of 10 artists>"
      ]
     },
     "execution_count": 18,
     "metadata": {},
     "output_type": "execute_result"
    },
    {
     "data": {
      "image/png": "[encoded data removed]",
      "text/plain": [
       "<Figure size 432x288 with 1 Axes>"
      ]
     },
     "metadata": {
      "needs_background": "light"
     },
     "output_type": "display_data"
    }
   ],
   "source": [
    "fig, ax = plt.subplots()\n",
    "\n",
    "x = top10_stud_filt.index\n",
    "y = top10_stud_filt['total_gross']\n",
    "\n",
    "ax.set_xlabel(\"Studio\")\n",
    "ax.set_ylabel(\"Total Gross\")\n",
    "ax.set_title(\"Studios with Greatest Total Gross Since 2012\")\n",
    "\n",
    "plt.xticks(rotation=90)\n",
    "\n",
    "ax.bar(x,y)"
   ]
  },
  {
   "cell_type": "code",
   "execution_count": 19,
   "metadata": {},
   "outputs": [
    {
     "data": {
      "text/plain": [
       "studio\n",
       "Uni.     117\n",
       "IFC      111\n",
       "Fox      104\n",
       "WB       104\n",
       "Magn.     99\n",
       "SPC       88\n",
       "Sony      87\n",
       "LGF       80\n",
       "Par.      79\n",
       "BV        78\n",
       "dtype: int64"
      ]
     },
     "execution_count": 19,
     "metadata": {},
     "output_type": "execute_result"
    }
   ],
   "source": [
    "stud_top_num_mov = df_bom_filt.value_counts(subset='studio')[:10]\n",
    "stud_top_num_mov"
   ]
  },
  {
   "cell_type": "code",
   "execution_count": 20,
   "metadata": {},
   "outputs": [
    {
     "data": {
      "text/plain": [
       "<BarContainer object of 10 artists>"
      ]
     },
     "execution_count": 20,
     "metadata": {},
     "output_type": "execute_result"
    },
    {
     "data": {
      "image/png": "[encoded data removed]",
      "text/plain": [
       "<Figure size 432x288 with 1 Axes>"
      ]
     },
     "metadata": {
      "needs_background": "light"
     },
     "output_type": "display_data"
    }
   ],
   "source": [
    "fig, ax = plt.subplots()\n",
    "\n",
    "x = stud_top_num_mov.index\n",
    "y = stud_top_num_mov.values\n",
    "\n",
    "ax.set_xlabel(\"Studio\")\n",
    "ax.set_ylabel(\"Number of Movies Sinse 2012\")\n",
    "ax.set_title(\"Studios with Greatest Number of Movies Made Since 2012\")\n",
    "\n",
    "plt.xticks(rotation=90)\n",
    "\n",
    "ax.bar(x,y, color=\"green\")"
   ]
  },
  {
   "cell_type": "markdown",
   "metadata": {},
   "source": [
    "## Allocation of Budget<a class=\"anchor\" id=\"bud\"></a>"
   ]
  },
  {
   "cell_type": "code",
   "execution_count": 21,
   "metadata": {
    "scrolled": false
   },
   "outputs": [
    {
     "data": {
      "text/plain": [
       "<matplotlib.collections.PathCollection at 0x1f76b8fbe80>"
      ]
     },
     "execution_count": 21,
     "metadata": {},
     "output_type": "execute_result"
    },
    {
     "data": {
      "image/png": "[encoded data removed]",
      "text/plain": [
       "<Figure size 1080x360 with 2 Axes>"
      ]
     },
     "metadata": {
      "needs_background": "light"
     },
     "output_type": "display_data"
    }
   ],
   "source": [
    "fig, (ax1, ax2) = plt.subplots(nrows=1, ncols=2, figsize=(15,5))\n",
    "\n",
    "plt.suptitle(\"Production Budget of Movies Since 2012\")\n",
    "\n",
    "x1 = df_tn_imdb_filt['production_budget']\n",
    "y1 = df_tn_imdb_filt['averagerating']\n",
    "\n",
    "x2 = df_tn_imdb_filt['production_budget']\n",
    "y2 = df_tn_imdb_filt['worldwide_profit']\n",
    "\n",
    "\n",
    "ax1.set_xlabel(\"Production Budget\")\n",
    "ax1.set_ylabel(\"Average Rating\")\n",
    "ax1.set_title(\"by Average Rating\")\n",
    "\n",
    "ax2.set_xlabel(\"Production Budget\")\n",
    "ax2.set_ylabel(\"Worldwide Profit\")\n",
    "ax2.set_title(\"by Worldwide Profit\")\n",
    "\n",
    "ax1.scatter(x1, y1)\n",
    "ax2.scatter(x2, y2)"
   ]
  },
  {
   "cell_type": "code",
   "execution_count": 22,
   "metadata": {},
   "outputs": [
    {
     "data": {
      "text/plain": [
       "-0.09842752224249707"
      ]
     },
     "execution_count": 22,
     "metadata": {},
     "output_type": "execute_result"
    }
   ],
   "source": [
    "df_tn_imdb_filt['production_budget'].corr(df_tn_imdb_filt['averagerating'])"
   ]
  },
  {
   "cell_type": "code",
   "execution_count": 23,
   "metadata": {},
   "outputs": [
    {
     "data": {
      "text/plain": [
       "0.6237389744636805"
      ]
     },
     "execution_count": 23,
     "metadata": {},
     "output_type": "execute_result"
    }
   ],
   "source": [
    "df_tn_imdb_filt['production_budget'].corr(df_tn_imdb_filt['worldwide_profit'])"
   ]
  },
  {
   "cell_type": "code",
   "execution_count": 24,
   "metadata": {},
   "outputs": [
    {
     "data": {
      "text/plain": [
       "0.2225609389897727"
      ]
     },
     "execution_count": 24,
     "metadata": {},
     "output_type": "execute_result"
    }
   ],
   "source": [
    "df_tn_imdb['production_budget'].corr(df_tn_imdb['averagerating'])"
   ]
  },
  {
   "cell_type": "code",
   "execution_count": 25,
   "metadata": {
    "scrolled": true
   },
   "outputs": [
    {
     "data": {
      "text/plain": [
       "0.6622588394897604"
      ]
     },
     "execution_count": 25,
     "metadata": {},
     "output_type": "execute_result"
    }
   ],
   "source": [
    "df_tn_imdb['production_budget'].corr(df_tn_imdb['worldwide_profit'])"
   ]
  },
  {
   "cell_type": "code",
   "execution_count": 26,
   "metadata": {},
   "outputs": [
    {
     "data": {
      "text/plain": [
       "69161538.46153846"
      ]
     },
     "execution_count": 26,
     "metadata": {},
     "output_type": "execute_result"
    }
   ],
   "source": [
    "# Mean Budget for films since 2012 that made at least 50,000,000 in profit worldwide\n",
    "df_tn_imdb_filt_year_5hunthou['production_budget'].mean()"
   ]
  },
  {
   "cell_type": "markdown",
   "metadata": {},
   "source": [
    "## Successful Genre Combinations <a class=\"anchor\" id=\"gen\"></a>"
   ]
  },
  {
   "cell_type": "code",
   "execution_count": 27,
   "metadata": {},
   "outputs": [
    {
     "data": {
      "text/html": [
       "<div>\n",
       "<style scoped>\n",
       "    .dataframe tbody tr th:only-of-type {\n",
       "        vertical-align: middle;\n",
       "    }\n",
       "\n",
       "    .dataframe tbody tr th {\n",
       "        vertical-align: top;\n",
       "    }\n",
       "\n",
       "    .dataframe thead th {\n",
       "        text-align: right;\n",
       "    }\n",
       "</style>\n",
       "<table border=\"1\" class=\"dataframe\">\n",
       "  <thead>\n",
       "    <tr style=\"text-align: right;\">\n",
       "      <th></th>\n",
       "      <th></th>\n",
       "      <th></th>\n",
       "      <th>averagerating</th>\n",
       "      <th>numvotes</th>\n",
       "      <th>start_year</th>\n",
       "    </tr>\n",
       "    <tr>\n",
       "      <th>Genre_1</th>\n",
       "      <th>Genre_2</th>\n",
       "      <th>Genre_3</th>\n",
       "      <th></th>\n",
       "      <th></th>\n",
       "      <th></th>\n",
       "    </tr>\n",
       "  </thead>\n",
       "  <tbody>\n",
       "    <tr>\n",
       "      <th>Action</th>\n",
       "      <th>Drama</th>\n",
       "      <th>War</th>\n",
       "      <td>8.450</td>\n",
       "      <td>241280.50</td>\n",
       "      <td>2015.00</td>\n",
       "    </tr>\n",
       "    <tr>\n",
       "      <th>Animation</th>\n",
       "      <th>Drama</th>\n",
       "      <th>Fantasy</th>\n",
       "      <td>8.400</td>\n",
       "      <td>134084.00</td>\n",
       "      <td>2016.00</td>\n",
       "    </tr>\n",
       "    <tr>\n",
       "      <th>Adventure</th>\n",
       "      <th>Drama</th>\n",
       "      <th>Sci-Fi</th>\n",
       "      <td>8.300</td>\n",
       "      <td>989725.00</td>\n",
       "      <td>2014.50</td>\n",
       "    </tr>\n",
       "    <tr>\n",
       "      <th rowspan=\"2\" valign=\"top\">Comedy</th>\n",
       "      <th rowspan=\"2\" valign=\"top\">Drama</th>\n",
       "      <th>Thriller</th>\n",
       "      <td>8.100</td>\n",
       "      <td>151123.00</td>\n",
       "      <td>2014.00</td>\n",
       "    </tr>\n",
       "    <tr>\n",
       "      <th>Fantasy</th>\n",
       "      <td>8.000</td>\n",
       "      <td>200574.00</td>\n",
       "      <td>2013.50</td>\n",
       "    </tr>\n",
       "    <tr>\n",
       "      <th>Biography</th>\n",
       "      <th>Drama</th>\n",
       "      <th>Music</th>\n",
       "      <td>8.000</td>\n",
       "      <td>345466.00</td>\n",
       "      <td>2018.00</td>\n",
       "    </tr>\n",
       "    <tr>\n",
       "      <th>Action</th>\n",
       "      <th>Biography</th>\n",
       "      <th>Drama</th>\n",
       "      <td>7.850</td>\n",
       "      <td>291407.75</td>\n",
       "      <td>2014.00</td>\n",
       "    </tr>\n",
       "    <tr>\n",
       "      <th rowspan=\"2\" valign=\"top\">Drama</th>\n",
       "      <th>Music</th>\n",
       "      <th>Romance</th>\n",
       "      <td>7.800</td>\n",
       "      <td>249245.00</td>\n",
       "      <td>2018.00</td>\n",
       "    </tr>\n",
       "    <tr>\n",
       "      <th>Mystery</th>\n",
       "      <th>Sci-Fi</th>\n",
       "      <td>7.775</td>\n",
       "      <td>385403.75</td>\n",
       "      <td>2015.25</td>\n",
       "    </tr>\n",
       "    <tr>\n",
       "      <th>Biography</th>\n",
       "      <th>Drama</th>\n",
       "      <th>Thriller</th>\n",
       "      <td>7.700</td>\n",
       "      <td>415517.00</td>\n",
       "      <td>2013.75</td>\n",
       "    </tr>\n",
       "  </tbody>\n",
       "</table>\n",
       "</div>"
      ],
      "text/plain": [
       "                              averagerating   numvotes  start_year\n",
       "Genre_1   Genre_2   Genre_3                                       \n",
       "Action    Drama     War               8.450  241280.50     2015.00\n",
       "Animation Drama     Fantasy           8.400  134084.00     2016.00\n",
       "Adventure Drama     Sci-Fi            8.300  989725.00     2014.50\n",
       "Comedy    Drama     Thriller          8.100  151123.00     2014.00\n",
       "                    Fantasy           8.000  200574.00     2013.50\n",
       "Biography Drama     Music             8.000  345466.00     2018.00\n",
       "Action    Biography Drama             7.850  291407.75     2014.00\n",
       "Drama     Music     Romance           7.800  249245.00     2018.00\n",
       "          Mystery   Sci-Fi            7.775  385403.75     2015.25\n",
       "Biography Drama     Thriller          7.700  415517.00     2013.75"
      ]
     },
     "execution_count": 27,
     "metadata": {},
     "output_type": "execute_result"
    }
   ],
   "source": [
    "# Looking at the top 10 rated genre combinations with > 100000 votes since 2012\n",
    "df_top10_gen_comb_rat = df_genres[(df_genres['numvotes'] >= 100000) & (df_genres['start_year'] >= 2012)].groupby(['Genre_1', 'Genre_2', 'Genre_3']).mean().sort_values('averagerating', ascending=False)[:10]\n",
    "df_top10_gen_comb_rat"
   ]
  },
  {
   "cell_type": "code",
   "execution_count": 28,
   "metadata": {},
   "outputs": [],
   "source": [
    "#Top 50 movies by rating with at least 100,000 votes and released no later than 2012\n",
    "df_top50_rat = df_imdb[(df_imdb['numvotes'] >= 100000) & (df_imdb['start_year'] >= 2012)] .sort_values('averagerating', ascending=False)[0:50]"
   ]
  },
  {
   "cell_type": "code",
   "execution_count": 29,
   "metadata": {},
   "outputs": [
    {
     "data": {
      "text/plain": [
       "<BarContainer object of 10 artists>"
      ]
     },
     "execution_count": 29,
     "metadata": {},
     "output_type": "execute_result"
    },
    {
     "data": {
      "image/png": "[encoded data removed]",
      "text/plain": [
       "<Figure size 432x288 with 1 Axes>"
      ]
     },
     "metadata": {
      "needs_background": "light"
     },
     "output_type": "display_data"
    }
   ],
   "source": [
    "# Viz of genre counts\n",
    "top10_gen_cnt = df_gen_cnt.sort_values('total_gen_cnt', ascending=False)[0:10]\n",
    "\n",
    "fig, ax = plt.subplots()\n",
    "\n",
    "x = top10_gen_cnt.index\n",
    "y = top10_gen_cnt['total_gen_cnt']\n",
    "\n",
    "plt.xticks(rotation=90)\n",
    "\n",
    "ax.bar(x,y)"
   ]
  },
  {
   "cell_type": "code",
   "execution_count": 30,
   "metadata": {},
   "outputs": [],
   "source": [
    "df_com_yr_sr_rat = df_tn_imdb_filt_year.sort_values('averagerating', ascending=False)\n",
    "top_gen_s_2012 = df_com_yr_sr_rat.loc[:,['genres', 'averagerating', 'worldwide_gross']]\n",
    "top_gen_s_2012['genres'] = top_gen_s_2012['genres'].str.replace(',', ' - ')\n",
    "top_gen_s_2012_grp = top_gen_s_2012.groupby('genres').mean()"
   ]
  },
  {
   "cell_type": "code",
   "execution_count": 31,
   "metadata": {},
   "outputs": [
    {
     "data": {
      "text/html": [
       "<div>\n",
       "<style scoped>\n",
       "    .dataframe tbody tr th:only-of-type {\n",
       "        vertical-align: middle;\n",
       "    }\n",
       "\n",
       "    .dataframe tbody tr th {\n",
       "        vertical-align: top;\n",
       "    }\n",
       "\n",
       "    .dataframe thead th {\n",
       "        text-align: right;\n",
       "    }\n",
       "</style>\n",
       "<table border=\"1\" class=\"dataframe\">\n",
       "  <thead>\n",
       "    <tr style=\"text-align: right;\">\n",
       "      <th></th>\n",
       "      <th>averagerating</th>\n",
       "      <th>worldwide_gross</th>\n",
       "    </tr>\n",
       "    <tr>\n",
       "      <th>genres</th>\n",
       "      <th></th>\n",
       "      <th></th>\n",
       "    </tr>\n",
       "  </thead>\n",
       "  <tbody>\n",
       "    <tr>\n",
       "      <th>Adventure - Drama - Sci-Fi</th>\n",
       "      <td>8.6</td>\n",
       "      <td>666379375.0</td>\n",
       "    </tr>\n",
       "    <tr>\n",
       "      <th>Documentary - Sport</th>\n",
       "      <td>8.4</td>\n",
       "      <td>314444.0</td>\n",
       "    </tr>\n",
       "    <tr>\n",
       "      <th>Drama - Mystery - War</th>\n",
       "      <td>8.3</td>\n",
       "      <td>16038343.0</td>\n",
       "    </tr>\n",
       "    <tr>\n",
       "      <th>Crime - Documentary</th>\n",
       "      <td>8.3</td>\n",
       "      <td>7799257.0</td>\n",
       "    </tr>\n",
       "    <tr>\n",
       "      <th>Documentary - Drama - History</th>\n",
       "      <td>8.1</td>\n",
       "      <td>176262.0</td>\n",
       "    </tr>\n",
       "    <tr>\n",
       "      <th>Action - Sci-Fi</th>\n",
       "      <td>7.9</td>\n",
       "      <td>370541256.0</td>\n",
       "    </tr>\n",
       "    <tr>\n",
       "      <th>Comedy - Mystery - Thriller</th>\n",
       "      <td>7.9</td>\n",
       "      <td>0.0</td>\n",
       "    </tr>\n",
       "    <tr>\n",
       "      <th>Documentary - Drama</th>\n",
       "      <td>7.7</td>\n",
       "      <td>0.0</td>\n",
       "    </tr>\n",
       "    <tr>\n",
       "      <th>Biography - Drama - Musical</th>\n",
       "      <td>7.6</td>\n",
       "      <td>386665550.0</td>\n",
       "    </tr>\n",
       "    <tr>\n",
       "      <th>Adventure - Drama - Western</th>\n",
       "      <td>7.6</td>\n",
       "      <td>252276928.0</td>\n",
       "    </tr>\n",
       "  </tbody>\n",
       "</table>\n",
       "</div>"
      ],
      "text/plain": [
       "                               averagerating  worldwide_gross\n",
       "genres                                                       \n",
       "Adventure - Drama - Sci-Fi               8.6      666379375.0\n",
       "Documentary - Sport                      8.4         314444.0\n",
       "Drama - Mystery - War                    8.3       16038343.0\n",
       "Crime - Documentary                      8.3        7799257.0\n",
       "Documentary - Drama - History            8.1         176262.0\n",
       "Action - Sci-Fi                          7.9      370541256.0\n",
       "Comedy - Mystery - Thriller              7.9              0.0\n",
       "Documentary - Drama                      7.7              0.0\n",
       "Biography - Drama - Musical              7.6      386665550.0\n",
       "Adventure - Drama - Western              7.6      252276928.0"
      ]
     },
     "execution_count": 31,
     "metadata": {},
     "output_type": "execute_result"
    }
   ],
   "source": [
    "top10_gen_s2012_brat = top_gen_s_2012_grp.sort_values('averagerating', ascending=False)[0:10]\n",
    "top10_gen_s2012_brat"
   ]
  },
  {
   "cell_type": "code",
   "execution_count": 32,
   "metadata": {},
   "outputs": [
    {
     "data": {
      "text/html": [
       "<div>\n",
       "<style scoped>\n",
       "    .dataframe tbody tr th:only-of-type {\n",
       "        vertical-align: middle;\n",
       "    }\n",
       "\n",
       "    .dataframe tbody tr th {\n",
       "        vertical-align: top;\n",
       "    }\n",
       "\n",
       "    .dataframe thead th {\n",
       "        text-align: right;\n",
       "    }\n",
       "</style>\n",
       "<table border=\"1\" class=\"dataframe\">\n",
       "  <thead>\n",
       "    <tr style=\"text-align: right;\">\n",
       "      <th></th>\n",
       "      <th>averagerating</th>\n",
       "      <th>worldwide_gross</th>\n",
       "    </tr>\n",
       "    <tr>\n",
       "      <th>genres</th>\n",
       "      <th></th>\n",
       "      <th></th>\n",
       "    </tr>\n",
       "  </thead>\n",
       "  <tbody>\n",
       "    <tr>\n",
       "      <th>Fantasy - Musical</th>\n",
       "      <td>6.500000</td>\n",
       "      <td>1.025491e+09</td>\n",
       "    </tr>\n",
       "    <tr>\n",
       "      <th>Action - Adventure - Sci-Fi</th>\n",
       "      <td>6.703333</td>\n",
       "      <td>7.405735e+08</td>\n",
       "    </tr>\n",
       "    <tr>\n",
       "      <th>Adventure - Drama - Sci-Fi</th>\n",
       "      <td>8.600000</td>\n",
       "      <td>6.663794e+08</td>\n",
       "    </tr>\n",
       "    <tr>\n",
       "      <th>Adventure - Fantasy</th>\n",
       "      <td>7.050000</td>\n",
       "      <td>5.790272e+08</td>\n",
       "    </tr>\n",
       "    <tr>\n",
       "      <th>Drama - Family - Fantasy</th>\n",
       "      <td>6.900000</td>\n",
       "      <td>5.345514e+08</td>\n",
       "    </tr>\n",
       "    <tr>\n",
       "      <th>Action - Adventure - Animation</th>\n",
       "      <td>7.212500</td>\n",
       "      <td>5.310212e+08</td>\n",
       "    </tr>\n",
       "    <tr>\n",
       "      <th>Action - Adventure - Thriller</th>\n",
       "      <td>6.342857</td>\n",
       "      <td>4.540020e+08</td>\n",
       "    </tr>\n",
       "    <tr>\n",
       "      <th>Action - Adventure - Fantasy</th>\n",
       "      <td>6.250000</td>\n",
       "      <td>4.303633e+08</td>\n",
       "    </tr>\n",
       "    <tr>\n",
       "      <th>Adventure - Animation - Comedy</th>\n",
       "      <td>6.390000</td>\n",
       "      <td>4.027423e+08</td>\n",
       "    </tr>\n",
       "    <tr>\n",
       "      <th>Adventure - Mystery - Sci-Fi</th>\n",
       "      <td>7.000000</td>\n",
       "      <td>4.024483e+08</td>\n",
       "    </tr>\n",
       "  </tbody>\n",
       "</table>\n",
       "</div>"
      ],
      "text/plain": [
       "                                averagerating  worldwide_gross\n",
       "genres                                                        \n",
       "Fantasy - Musical                    6.500000     1.025491e+09\n",
       "Action - Adventure - Sci-Fi          6.703333     7.405735e+08\n",
       "Adventure - Drama - Sci-Fi           8.600000     6.663794e+08\n",
       "Adventure - Fantasy                  7.050000     5.790272e+08\n",
       "Drama - Family - Fantasy             6.900000     5.345514e+08\n",
       "Action - Adventure - Animation       7.212500     5.310212e+08\n",
       "Action - Adventure - Thriller        6.342857     4.540020e+08\n",
       "Action - Adventure - Fantasy         6.250000     4.303633e+08\n",
       "Adventure - Animation - Comedy       6.390000     4.027423e+08\n",
       "Adventure - Mystery - Sci-Fi         7.000000     4.024483e+08"
      ]
     },
     "execution_count": 32,
     "metadata": {},
     "output_type": "execute_result"
    }
   ],
   "source": [
    "top10_gen_s2012_bwrgr = top_gen_s_2012_grp.sort_values('worldwide_gross', ascending=False)[0:10]\n",
    "top10_gen_s2012_bwrgr"
   ]
  },
  {
   "cell_type": "code",
   "execution_count": 33,
   "metadata": {},
   "outputs": [
    {
     "data": {
      "text/plain": [
       "<BarContainer object of 10 artists>"
      ]
     },
     "execution_count": 33,
     "metadata": {},
     "output_type": "execute_result"
    },
    {
     "data": {
      "image/png": "[encoded data removed]",
      "text/plain": [
       "<Figure size 432x288 with 1 Axes>"
      ]
     },
     "metadata": {
      "needs_background": "light"
     },
     "output_type": "display_data"
    }
   ],
   "source": [
    "fig, ax = plt.subplots()\n",
    "\n",
    "x = top10_gen_s2012_brat.index\n",
    "y = top10_gen_s2012_brat['averagerating']\n",
    "\n",
    "ax.set_xlabel(\"Average Rating\")\n",
    "ax.set_ylabel(\"Genre Combination\")\n",
    "ax.set_title(\"Top Genre Combinations by Average Rating Since 2012\")\n",
    "\n",
    "plt.gca().invert_yaxis()\n",
    "\n",
    "ax.barh(x,y)"
   ]
  },
  {
   "cell_type": "code",
   "execution_count": 34,
   "metadata": {},
   "outputs": [
    {
     "data": {
      "text/plain": [
       "<BarContainer object of 10 artists>"
      ]
     },
     "execution_count": 34,
     "metadata": {},
     "output_type": "execute_result"
    },
    {
     "data": {
      "image/png": "[encoded data removed]",
      "text/plain": [
       "<Figure size 432x288 with 1 Axes>"
      ]
     },
     "metadata": {
      "needs_background": "light"
     },
     "output_type": "display_data"
    }
   ],
   "source": [
    "fig, ax = plt.subplots()\n",
    "\n",
    "x = top10_gen_s2012_bwrgr.index\n",
    "y = top10_gen_s2012_bwrgr['worldwide_gross']\n",
    "\n",
    "ax.set_xlabel(\"Average Worldwide Gross\")\n",
    "ax.set_ylabel(\"Genre Combination\")\n",
    "ax.set_title(\"Top Genre Combinations by Worldwide Gross Since 2012\")\n",
    "\n",
    "plt.gca().invert_yaxis()\n",
    "\n",
    "ax.barh(x,y)"
   ]
  },
  {
   "cell_type": "markdown",
   "metadata": {},
   "source": [
    "## Directors to Work With <a class=\"anchor\" id=\"dir\"></a>"
   ]
  },
  {
   "cell_type": "code",
   "execution_count": 35,
   "metadata": {},
   "outputs": [
    {
     "data": {
      "text/plain": [
       "<BarContainer object of 7 artists>"
      ]
     },
     "execution_count": 35,
     "metadata": {},
     "output_type": "execute_result"
    },
    {
     "data": {
      "image/png": "[encoded data removed]",
      "text/plain": [
       "<Figure size 432x288 with 1 Axes>"
      ]
     },
     "metadata": {
      "needs_background": "light"
     },
     "output_type": "display_data"
    }
   ],
   "source": [
    "# Viz of the directors who have more than one film in the top 50 rated movies since 2012 with more than 100000 votes\n",
    "\n",
    "# Create a series of directors who have more than one film in the top 50 rated movies since 2012 with more than 100000 votes\n",
    "dir_mul_top50 = df_top50_rat.value_counts('primary_name')[0:7]\n",
    "\n",
    "fig, ax = plt.subplots()\n",
    "\n",
    "x = dir_mul_top50.index\n",
    "y = dir_mul_top50.values\n",
    "\n",
    "plt.xticks(rotation=90)\n",
    "\n",
    "ax.set_xlabel('Movies in Top 50')\n",
    "ax.set_ylabel('Director')\n",
    "ax.set_title('Directors with More Than One Movie in Top 50\\n with at Least 100000 votes Since 2012')\n",
    "\n",
    "ax.bar(x,y)"
   ]
  },
  {
   "cell_type": "code",
   "execution_count": 36,
   "metadata": {},
   "outputs": [],
   "source": [
    "# Filter data to find the top ten directors by total profit since 2012 who's movies have at least 100000 votes\n",
    "top10_dirs_profit = df_tn_imdb_filt_year.groupby('primary_name').mean().sort_values('worldwide_profit', ascending=False)[0:10]"
   ]
  },
  {
   "cell_type": "code",
   "execution_count": 37,
   "metadata": {},
   "outputs": [
    {
     "data": {
      "text/plain": [
       "<BarContainer object of 10 artists>"
      ]
     },
     "execution_count": 37,
     "metadata": {},
     "output_type": "execute_result"
    },
    {
     "data": {
      "image/png": "[encoded data removed]",
      "text/plain": [
       "<Figure size 432x288 with 1 Axes>"
      ]
     },
     "metadata": {
      "needs_background": "light"
     },
     "output_type": "display_data"
    }
   ],
   "source": [
    "fig, ax = plt.subplots()\n",
    "\n",
    "x = top10_dirs_profit.index\n",
    "y = top10_dirs_profit['worldwide_profit']\n",
    "\n",
    "ax.set_xlabel(\"Director\")\n",
    "ax.set_ylabel(\"Avg Profit per Movie\")\n",
    "ax.set_title(\"Top 10 Directors by Avg Profit per Movie Since 2012\")\n",
    "\n",
    "plt.xticks(rotation=90)\n",
    "\n",
    "ax.bar(x,y, color=\"green\")"
   ]
  },
  {
   "cell_type": "markdown",
   "metadata": {},
   "source": [
    "## Average User Rating on IMDB <a class=\"anchor\" id=\"rat\"></a>"
   ]
  },
  {
   "cell_type": "code",
   "execution_count": 38,
   "metadata": {},
   "outputs": [
    {
     "name": "stderr",
     "output_type": "stream",
     "text": [
      "<ipython-input-38-01a2d3f46632>:15: UserWarning: FixedFormatter should only be used together with FixedLocator\n",
      "  ax1.set_xticklabels(x1, rotation=80)\n",
      "<ipython-input-38-01a2d3f46632>:16: UserWarning: FixedFormatter should only be used together with FixedLocator\n",
      "  ax2.set_xticklabels(x2, rotation=80)\n"
     ]
    },
    {
     "data": {
      "text/plain": [
       "<BarContainer object of 10 artists>"
      ]
     },
     "execution_count": 38,
     "metadata": {},
     "output_type": "execute_result"
    },
    {
     "data": {
      "image/png": "[encoded data removed]",
      "text/plain": [
       "<Figure size 1080x360 with 2 Axes>"
      ]
     },
     "metadata": {
      "needs_background": "light"
     },
     "output_type": "display_data"
    }
   ],
   "source": [
    "# Viz of Top 10 movies by rating with at least 100,000 votes and released no later than 2012\n",
    "df_top10_rat = df_top50_rat[0:10]\n",
    "\n",
    "fig, (ax1, ax2) = plt.subplots(nrows=1, ncols=2, figsize=(15,5))\n",
    "\n",
    "x1 = df_top10_rat['primary_title']\n",
    "y1 = df_top10_rat['averagerating']\n",
    "\n",
    "x2 = df_top10_rat['primary_title']\n",
    "y2 = df_top10_rat['rating_relative_to_avg']\n",
    "\n",
    "ax1.axhline(6.332729, c=\"black\")\n",
    "ax1.text(0,5.75,\"Overall Avg Rating\", backgroundcolor=\"White\")\n",
    "\n",
    "ax1.set_xticklabels(x1, rotation=80)\n",
    "ax2.set_xticklabels(x2, rotation=80)\n",
    "\n",
    "ax1.set_xlabel(\"Top 10 Rated Films\")\n",
    "ax1.set_ylabel(\"Avg. Rating\")\n",
    "\n",
    "ax2.set_xlabel(\"Top 10 Rated Films\")\n",
    "ax.set_ylabel(\"Avg. Rating Above Avg. Avg. Rating\")\n",
    "\n",
    "ax1.set_title(\"Average Rating\")\n",
    "ax2.set_title(\"Average Rating Above Overall Average Average Rating\")\n",
    "\n",
    "ax1.bar(x1,y1)\n",
    "ax2.bar(x2,y2)"
   ]
  },
  {
   "cell_type": "code",
   "execution_count": 39,
   "metadata": {},
   "outputs": [
    {
     "data": {
      "text/plain": [
       "<matplotlib.collections.PathCollection at 0x1f767b65f70>"
      ]
     },
     "execution_count": 39,
     "metadata": {},
     "output_type": "execute_result"
    },
    {
     "data": {
      "image/png": "[encoded data removed]",
      "text/plain": [
       "<Figure size 1080x360 with 2 Axes>"
      ]
     },
     "metadata": {
      "needs_background": "light"
     },
     "output_type": "display_data"
    }
   ],
   "source": [
    "# Viz of comparison of number of votes and average rating\n",
    "\n",
    "fig, (ax1, ax2) = plt.subplots(nrows=1, ncols=2, figsize=(15,5))\n",
    "\n",
    "x1 = df_imdb['averagerating']\n",
    "y1 = df_imdb['numvotes']\n",
    "\n",
    "x2 = df_top50_rat['averagerating']\n",
    "y2 = df_top50_rat['numvotes']\n",
    "\n",
    "\n",
    "ax1.set_xlabel(\"Average Rating\")\n",
    "ax1.set_ylabel(\"Number of Votes\")\n",
    "ax1.set_title(\"Average Rating by Number of Votes\")\n",
    "\n",
    "ax2.set_xlabel(\"Average Rating\")\n",
    "ax2.set_ylabel(\"Number of Votes\")\n",
    "ax2.set_title(\"Average Rating by Number of Votes for Top 50 Rated\")\n",
    "\n",
    "ax1.scatter(x1,y1)\n",
    "ax2.scatter(x2,y2)"
   ]
  },
  {
   "cell_type": "code",
   "execution_count": 40,
   "metadata": {},
   "outputs": [
    {
     "data": {
      "text/plain": [
       "<matplotlib.collections.PathCollection at 0x1f7666c5340>"
      ]
     },
     "execution_count": 40,
     "metadata": {},
     "output_type": "execute_result"
    },
    {
     "data": {
      "image/png": "[encoded data removed]",
      "text/plain": [
       "<Figure size 432x288 with 1 Axes>"
      ]
     },
     "metadata": {
      "needs_background": "light"
     },
     "output_type": "display_data"
    }
   ],
   "source": [
    "fig, ax = plt.subplots()\n",
    "\n",
    "x = df_tn_imdb_filt['averagerating']\n",
    "y = df_tn_imdb_filt['worldwide_profit']\n",
    "\n",
    "ax.set_xlabel(\"Avg Rating\")\n",
    "ax.set_ylabel(\"Profit\")\n",
    "ax.set_title(\"Avg Rating by Profit\")\n",
    "\n",
    "\n",
    "\n",
    "ax.scatter(x,y)"
   ]
  },
  {
   "cell_type": "code",
   "execution_count": 41,
   "metadata": {},
   "outputs": [
    {
     "data": {
      "text/plain": [
       "0.14375206103201144"
      ]
     },
     "execution_count": 41,
     "metadata": {},
     "output_type": "execute_result"
    }
   ],
   "source": [
    "df_tn_imdb_filt['averagerating'].corr(df_tn_imdb_filt['worldwide_profit'])"
   ]
  },
  {
   "cell_type": "code",
   "execution_count": 42,
   "metadata": {},
   "outputs": [
    {
     "data": {
      "text/plain": [
       "0.6237389744636805"
      ]
     },
     "execution_count": 42,
     "metadata": {},
     "output_type": "execute_result"
    }
   ],
   "source": [
    "df_tn_imdb_filt['production_budget'].corr(df_tn_imdb_filt['worldwide_profit'])"
   ]
  },
  {
   "cell_type": "markdown",
   "metadata": {},
   "source": [
    "# Conclusions <a class=\"anchor\" id=\"con\"></a>"
   ]
  },
  {
   "cell_type": "markdown",
   "metadata": {},
   "source": [
    "# Nest Steps <a class=\"anchor\" id=\"steps\"></a>"
   ]
  },
  {
   "cell_type": "code",
   "execution_count": null,
   "metadata": {},
   "outputs": [],
   "source": []
  }
 ],
 "metadata": {
  "kernelspec": {
   "display_name": "Python (learn-env)",
   "language": "python",
   "name": "learn-env"
  },
  "language_info": {
   "codemirror_mode": {
    "name": "ipython",
    "version": 3
   },
   "file_extension": ".py",
   "mimetype": "text/x-python",
   "name": "python",
   "nbconvert_exporter": "python",
   "pygments_lexer": "ipython3",
   "version": "3.8.5"
  }
 },
 "nbformat": 4,
 "nbformat_minor": 4
}
