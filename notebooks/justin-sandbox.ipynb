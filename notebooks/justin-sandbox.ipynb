{
 "cells": [
  {
   "cell_type": "markdown",
   "metadata": {},
   "source": [
    "## Justin Sandbox"
   ]
  },
  {
   "cell_type": "code",
   "execution_count": 1,
   "metadata": {},
   "outputs": [],
   "source": [
    "# Import linraries and modules\n",
    "\n",
    "import pandas as pd\n",
    "import matplotlib.pyplot as plt\n",
    "import seaborn as sns\n",
    "import sqlite3 \n"
   ]
  },
  {
   "cell_type": "code",
   "execution_count": 2,
   "metadata": {},
   "outputs": [],
   "source": [
    "conn = sqlite3.connect('../data/im.db')"
   ]
  },
  {
   "cell_type": "code",
   "execution_count": null,
   "metadata": {},
   "outputs": [],
   "source": [
    "pd.read_sql(\"\"\"\n",
    "SELECT *\n",
    "  FROM movie_ratings;\n",
    "\"\"\", conn)"
   ]
  },
  {
   "cell_type": "code",
   "execution_count": null,
   "metadata": {},
   "outputs": [],
   "source": [
    "df_dirs = pd.read_sql(\"\"\"\n",
    " SELECT *\n",
    "    FROM \n",
    "    movie_basics AS mb\n",
    "        LEFT JOIN\n",
    "            (SELECT *\n",
    "            FROM directors GROUP BY movie_id) AS dr\n",
    "            ON mb.movie_id = dr.movie_id\n",
    "\"\"\", conn)"
   ]
  },
  {
   "cell_type": "code",
   "execution_count": 3,
   "metadata": {},
   "outputs": [],
   "source": [
    "df_imdb = pd.read_sql(\"\"\"\n",
    "    SELECT *\n",
    "    FROM \n",
    "    movie_basics AS mb\n",
    "        LEFT JOIN movie_ratings AS mr\n",
    "            ON mb.movie_id = mr.movie_id\n",
    "        LEFT JOIN\n",
    "            (SELECT *\n",
    "            FROM directors GROUP BY movie_id) AS dr\n",
    "            ON mb.movie_id = dr.movie_id\n",
    "        LEFT JOIN persons AS ps\n",
    "            ON dr.person_id = ps.person_id\n",
    "\"\"\", conn)"
   ]
  },
  {
   "cell_type": "code",
   "execution_count": null,
   "metadata": {},
   "outputs": [],
   "source": [
    "df_dirs.info()"
   ]
  },
  {
   "cell_type": "code",
   "execution_count": null,
   "metadata": {},
   "outputs": [],
   "source": [
    "df_dirs.head()"
   ]
  },
  {
   "cell_type": "code",
   "execution_count": null,
   "metadata": {},
   "outputs": [],
   "source": [
    "df_imdb"
   ]
  },
  {
   "cell_type": "code",
   "execution_count": 4,
   "metadata": {},
   "outputs": [
    {
     "name": "stdout",
     "output_type": "stream",
     "text": [
      "<class 'pandas.core.frame.DataFrame'>\n",
      "RangeIndex: 146144 entries, 0 to 146143\n",
      "Data columns (total 16 columns):\n",
      " #   Column              Non-Null Count   Dtype  \n",
      "---  ------              --------------   -----  \n",
      " 0   movie_id            146144 non-null  object \n",
      " 1   primary_title       146144 non-null  object \n",
      " 2   original_title      146123 non-null  object \n",
      " 3   start_year          146144 non-null  int64  \n",
      " 4   runtime_minutes     114405 non-null  float64\n",
      " 5   genres              140736 non-null  object \n",
      " 6   movie_id            73856 non-null   object \n",
      " 7   averagerating       73856 non-null   float64\n",
      " 8   numvotes            73856 non-null   float64\n",
      " 9   movie_id            140417 non-null  object \n",
      " 10  person_id           140417 non-null  object \n",
      " 11  person_id           140416 non-null  object \n",
      " 12  primary_name        140416 non-null  object \n",
      " 13  birth_year          30609 non-null   float64\n",
      " 14  death_year          856 non-null     float64\n",
      " 15  primary_profession  139887 non-null  object \n",
      "dtypes: float64(5), int64(1), object(10)\n",
      "memory usage: 17.8+ MB\n"
     ]
    }
   ],
   "source": [
    "df_imdb.info()"
   ]
  },
  {
   "cell_type": "code",
   "execution_count": null,
   "metadata": {},
   "outputs": [],
   "source": [
    "df_imdb.describe()"
   ]
  },
  {
   "cell_type": "code",
   "execution_count": null,
   "metadata": {},
   "outputs": [],
   "source": [
    "df_imdb.sort_values('runtime_minutes', ascending=False)"
   ]
  },
  {
   "cell_type": "code",
   "execution_count": null,
   "metadata": {},
   "outputs": [],
   "source": [
    "df_imdb.head(50)"
   ]
  },
  {
   "cell_type": "code",
   "execution_count": 5,
   "metadata": {},
   "outputs": [],
   "source": [
    "df_imdb[['Genre_1','Genre_2', 'Genre_3']]=df_imdb[\"genres\"].str.split(\",\",expand=True)"
   ]
  },
  {
   "cell_type": "code",
   "execution_count": 6,
   "metadata": {},
   "outputs": [],
   "source": [
    "df_imdb['rating_relative_to_avg'] = df_imdb['averagerating'] - df_imdb['averagerating'].mean()"
   ]
  },
  {
   "cell_type": "code",
   "execution_count": null,
   "metadata": {},
   "outputs": [],
   "source": [
    "df_imdb"
   ]
  },
  {
   "cell_type": "code",
   "execution_count": 7,
   "metadata": {},
   "outputs": [],
   "source": [
    "df_gen_cnt = df_imdb[['Genre_1', 'Genre_2', 'Genre_3']].apply(pd.Series.value_counts)"
   ]
  },
  {
   "cell_type": "code",
   "execution_count": 8,
   "metadata": {},
   "outputs": [],
   "source": [
    "df_gen_cnt = df_gen_cnt.fillna(0)"
   ]
  },
  {
   "cell_type": "code",
   "execution_count": 9,
   "metadata": {},
   "outputs": [],
   "source": [
    "df_gen_cnt['total_gen_cnt'] = df_gen_cnt['Genre_1'] + df_gen_cnt['Genre_2'] + df_gen_cnt['Genre_3']"
   ]
  },
  {
   "cell_type": "code",
   "execution_count": 10,
   "metadata": {},
   "outputs": [],
   "source": [
    "df_genres = df_imdb.loc[:, [\"Genre_1\",\"Genre_2\",\"Genre_3\", \"averagerating\", \"numvotes\", 'start_year']]"
   ]
  },
  {
   "cell_type": "code",
   "execution_count": 11,
   "metadata": {},
   "outputs": [],
   "source": [
    "df_genres = df_genres.dropna(subset=['averagerating'])"
   ]
  },
  {
   "cell_type": "code",
   "execution_count": null,
   "metadata": {},
   "outputs": [],
   "source": [
    "df_genres.head()"
   ]
  },
  {
   "cell_type": "code",
   "execution_count": null,
   "metadata": {},
   "outputs": [],
   "source": [
    "df_genres.info()"
   ]
  },
  {
   "cell_type": "code",
   "execution_count": null,
   "metadata": {},
   "outputs": [],
   "source": [
    "test = []\n",
    "\n",
    "# for gen in lst_genres:\n",
    "#     rating_sum = 0\n",
    "#     rating_count = 1\n",
    "#     for movie in df_genres:\n",
    "#         if gen in movie:\n",
    "#             rating_sum = rating_sum + df_genres['averagerating']\n",
    "#             rating_count += 1\n",
    "#     avg_gen_rating = rating_sum / rating_count\n",
    "#     test.append(avg_gen_rating)\n",
    "\n",
    "tl = []\n",
    "for gen in lst_genres:\n",
    "    ratings=[]\n",
    "    ratings.append(gen)\n",
    "    for mov in enumerate(df_genres):\n",
    "        if \"Action\" in mov['Genre_1']:\n",
    "            ratings.append(mov['averagerating'])\n",
    "    tl.append(ratings)\n",
    "\n",
    "tl\n",
    "\n"
   ]
  },
  {
   "cell_type": "code",
   "execution_count": null,
   "metadata": {},
   "outputs": [],
   "source": [
    "\n",
    "\n",
    "df_genres[(df_genres['numvotes'] >= 100000) & (df_genres['start_year'] >= 2012)].groupby(['Genre_1', 'Genre_2', 'Genre_3']).mean().sort_values('averagerating', ascending=False)\n",
    "\n",
    "df_top10_gen_comb_rat = df_genres[(df_genres['numvotes'] >= 100000) & (df_genres['start_year'] >= 2012)].groupby(['Genre_1', 'Genre_2', 'Genre_3']).mean().sort_values('averagerating', ascending=False)[:10]\n",
    "df_top10_gen_comb_rat"
   ]
  },
  {
   "cell_type": "code",
   "execution_count": null,
   "metadata": {},
   "outputs": [],
   "source": []
  },
  {
   "cell_type": "code",
   "execution_count": null,
   "metadata": {},
   "outputs": [],
   "source": [
    "len(lst_genres)"
   ]
  },
  {
   "cell_type": "code",
   "execution_count": 12,
   "metadata": {},
   "outputs": [
    {
     "data": {
      "text/plain": [
       "['Action',\n",
       " 'Adult',\n",
       " 'Adventure',\n",
       " 'Animation',\n",
       " 'Biography',\n",
       " 'Comedy',\n",
       " 'Crime',\n",
       " 'Documentary',\n",
       " 'Drama',\n",
       " 'Family',\n",
       " 'Fantasy',\n",
       " 'Game-Show',\n",
       " 'History',\n",
       " 'Horror',\n",
       " 'Music',\n",
       " 'Musical',\n",
       " 'Mystery',\n",
       " 'News',\n",
       " 'Reality-TV',\n",
       " 'Romance',\n",
       " 'Sci-Fi',\n",
       " 'Short',\n",
       " 'Sport',\n",
       " 'Talk-Show',\n",
       " 'Thriller',\n",
       " 'War',\n",
       " 'Western']"
      ]
     },
     "execution_count": 12,
     "metadata": {},
     "output_type": "execute_result"
    }
   ],
   "source": [
    "lst_genres = list(df_gen_cnt.index)\n",
    "lst_genres"
   ]
  },
  {
   "cell_type": "code",
   "execution_count": null,
   "metadata": {},
   "outputs": [],
   "source": [
    "df_gen_cnt"
   ]
  },
  {
   "cell_type": "code",
   "execution_count": 13,
   "metadata": {},
   "outputs": [],
   "source": [
    "df_gen_cnt.sort_values('total_gen_cnt', ascending=False)\n",
    "top10_gen_cnt = df_gen_cnt.sort_values('total_gen_cnt', ascending=False)[0:10]"
   ]
  },
  {
   "cell_type": "code",
   "execution_count": 14,
   "metadata": {},
   "outputs": [
    {
     "data": {
      "text/plain": [
       "<BarContainer object of 10 artists>"
      ]
     },
     "execution_count": 14,
     "metadata": {},
     "output_type": "execute_result"
    },
    {
     "data": {
      "image/png": "[encoded data removed]",
      "text/plain": [
       "<Figure size 432x288 with 1 Axes>"
      ]
     },
     "metadata": {
      "needs_background": "light"
     },
     "output_type": "display_data"
    }
   ],
   "source": [
    "fig, ax = plt.subplots()\n",
    "\n",
    "x = top10_gen_cnt.index\n",
    "y = top10_gen_cnt['total_gen_cnt']\n",
    "\n",
    "plt.xticks(rotation=90)\n",
    "\n",
    "ax.bar(x,y)"
   ]
  },
  {
   "cell_type": "code",
   "execution_count": 15,
   "metadata": {},
   "outputs": [],
   "source": [
    "#Top 50 movies by rating with at least 100,000 votes and released no later than 2012\n",
    "df_top50_rat = df_imdb[(df_imdb['numvotes'] >= 100000) & (df_imdb['start_year'] >= 2012)].sort_values('averagerating', ascending=False)[0:50]"
   ]
  },
  {
   "cell_type": "code",
   "execution_count": null,
   "metadata": {},
   "outputs": [],
   "source": [
    "df_top50_rat"
   ]
  },
  {
   "cell_type": "code",
   "execution_count": 16,
   "metadata": {},
   "outputs": [],
   "source": [
    "df_top10_rat = df_top50_rat[0:10]"
   ]
  },
  {
   "cell_type": "code",
   "execution_count": 17,
   "metadata": {},
   "outputs": [
    {
     "name": "stderr",
     "output_type": "stream",
     "text": [
      "<ipython-input-17-bf6992674d5c>:12: UserWarning: FixedFormatter should only be used together with FixedLocator\n",
      "  ax1.set_xticklabels(x1, rotation=80)\n",
      "<ipython-input-17-bf6992674d5c>:13: UserWarning: FixedFormatter should only be used together with FixedLocator\n",
      "  ax2.set_xticklabels(x2, rotation=80)\n"
     ]
    },
    {
     "data": {
      "text/plain": [
       "<BarContainer object of 10 artists>"
      ]
     },
     "execution_count": 17,
     "metadata": {},
     "output_type": "execute_result"
    },
    {
     "data": {
      "image/png": "[encoded data removed]",
      "text/plain": [
       "<Figure size 1080x360 with 2 Axes>"
      ]
     },
     "metadata": {
      "needs_background": "light"
     },
     "output_type": "display_data"
    }
   ],
   "source": [
    "fig, (ax1, ax2) = plt.subplots(nrows=1, ncols=2, figsize=(15,5))\n",
    "\n",
    "x1 = df_top10_rat['primary_title']\n",
    "y1 = df_top10_rat['averagerating']\n",
    "\n",
    "x2 = df_top10_rat['primary_title']\n",
    "y2 = df_top10_rat['rating_relative_to_avg']\n",
    "\n",
    "ax1.axhline(6.332729, c=\"black\")\n",
    "ax1.text(0,5.75,\"Avg Avg Rating\", backgroundcolor=\"White\")\n",
    "\n",
    "ax1.set_xticklabels(x1, rotation=80)\n",
    "ax2.set_xticklabels(x2, rotation=80)\n",
    "\n",
    "ax1.set_xlabel(\"Top 10 Rated Films\")\n",
    "ax1.set_ylabel(\"Avg. Rating\")\n",
    "\n",
    "ax2.set_xlabel(\"Top 10 Rated Films\")\n",
    "ax.set_ylabel(\"Avg. Rating Above Avg. Avg. Rating\")\n",
    "\n",
    "ax1.set_title(\"Average Rating\")\n",
    "ax2.set_title(\"Average Rating Above Overall Average Average Rating\")\n",
    "\n",
    "ax1.bar(x1,y1)\n",
    "ax2.bar(x2,y2)"
   ]
  },
  {
   "cell_type": "code",
   "execution_count": 18,
   "metadata": {},
   "outputs": [
    {
     "data": {
      "text/plain": [
       "<matplotlib.collections.PathCollection at 0x205018d4280>"
      ]
     },
     "execution_count": 18,
     "metadata": {},
     "output_type": "execute_result"
    },
    {
     "data": {
      "image/png": "[encoded data removed]",
      "text/plain": [
       "<Figure size 1080x360 with 2 Axes>"
      ]
     },
     "metadata": {
      "needs_background": "light"
     },
     "output_type": "display_data"
    }
   ],
   "source": [
    "fig, (ax1, ax2) = plt.subplots(nrows=1, ncols=2, figsize=(15,5))\n",
    "\n",
    "x1 = df_imdb['averagerating']\n",
    "y1 = df_imdb['numvotes']\n",
    "\n",
    "x2 = df_top50_rat['averagerating']\n",
    "y2 = df_top50_rat['numvotes']\n",
    "\n",
    "\n",
    "ax1.set_xlabel(\"Average Rating\")\n",
    "ax1.set_ylabel(\"Number of Votes\")\n",
    "ax1.set_title(\"Average Rating by Number of Votes\")\n",
    "\n",
    "ax2.set_xlabel(\"Average Rating\")\n",
    "ax2.set_ylabel(\"Number of Votes\")\n",
    "ax2.set_title(\"Average Rating by Number of Votes for Top 50 Rated\")\n",
    "\n",
    "ax1.scatter(x1,y1)\n",
    "ax2.scatter(x2,y2)"
   ]
  },
  {
   "cell_type": "code",
   "execution_count": 19,
   "metadata": {},
   "outputs": [],
   "source": [
    "df_im_run_noout = df_imdb[df_imdb['runtime_minutes'] < 1000 ]"
   ]
  },
  {
   "cell_type": "code",
   "execution_count": 20,
   "metadata": {},
   "outputs": [
    {
     "data": {
      "text/plain": [
       "<matplotlib.collections.PathCollection at 0x2050121a6d0>"
      ]
     },
     "execution_count": 20,
     "metadata": {},
     "output_type": "execute_result"
    },
    {
     "data": {
      "image/png": "[encoded data removed]",
      "text/plain": [
       "<Figure size 432x288 with 1 Axes>"
      ]
     },
     "metadata": {
      "needs_background": "light"
     },
     "output_type": "display_data"
    }
   ],
   "source": [
    "fig, ax = plt.subplots()\n",
    "\n",
    "x = df_im_run_noout['averagerating']\n",
    "y = df_im_run_noout['runtime_minutes']\n",
    "\n",
    "ax.set_xlabel(\"Average Rating\")\n",
    "ax.set_ylabel(\"Runtime (minutes)\")\n",
    "\n",
    "ax.scatter(x,y)"
   ]
  },
  {
   "cell_type": "code",
   "execution_count": 37,
   "metadata": {},
   "outputs": [
    {
     "data": {
      "text/plain": [
       "pandas.core.series.Series"
      ]
     },
     "execution_count": 37,
     "metadata": {},
     "output_type": "execute_result"
    }
   ],
   "source": [
    "dir_mul_top50 = df_top50_rat.value_counts('primary_name')[0:7]\n",
    "\n",
    "\n",
    "type(dir_mul_top50)"
   ]
  },
  {
   "cell_type": "code",
   "execution_count": 23,
   "metadata": {},
   "outputs": [
    {
     "data": {
      "text/html": [
       "<div>\n",
       "<style scoped>\n",
       "    .dataframe tbody tr th:only-of-type {\n",
       "        vertical-align: middle;\n",
       "    }\n",
       "\n",
       "    .dataframe tbody tr th {\n",
       "        vertical-align: top;\n",
       "    }\n",
       "\n",
       "    .dataframe thead th {\n",
       "        text-align: right;\n",
       "    }\n",
       "</style>\n",
       "<table border=\"1\" class=\"dataframe\">\n",
       "  <thead>\n",
       "    <tr style=\"text-align: right;\">\n",
       "      <th></th>\n",
       "      <th>movie_id</th>\n",
       "      <th>primary_title</th>\n",
       "      <th>original_title</th>\n",
       "      <th>start_year</th>\n",
       "      <th>runtime_minutes</th>\n",
       "      <th>genres</th>\n",
       "      <th>movie_id</th>\n",
       "      <th>averagerating</th>\n",
       "      <th>numvotes</th>\n",
       "      <th>movie_id</th>\n",
       "      <th>person_id</th>\n",
       "      <th>person_id</th>\n",
       "      <th>primary_name</th>\n",
       "      <th>birth_year</th>\n",
       "      <th>death_year</th>\n",
       "      <th>primary_profession</th>\n",
       "      <th>Genre_1</th>\n",
       "      <th>Genre_2</th>\n",
       "      <th>Genre_3</th>\n",
       "      <th>rating_relative_to_avg</th>\n",
       "    </tr>\n",
       "  </thead>\n",
       "  <tbody>\n",
       "    <tr>\n",
       "      <th>7215</th>\n",
       "      <td>tt1392214</td>\n",
       "      <td>Prisoners</td>\n",
       "      <td>Prisoners</td>\n",
       "      <td>2013</td>\n",
       "      <td>153.0</td>\n",
       "      <td>Crime,Drama,Mystery</td>\n",
       "      <td>tt1392214</td>\n",
       "      <td>8.1</td>\n",
       "      <td>526273.0</td>\n",
       "      <td>tt1392214</td>\n",
       "      <td>nm0898288</td>\n",
       "      <td>nm0898288</td>\n",
       "      <td>Denis Villeneuve</td>\n",
       "      <td>1967.0</td>\n",
       "      <td>NaN</td>\n",
       "      <td>director,writer,editor</td>\n",
       "      <td>Crime</td>\n",
       "      <td>Drama</td>\n",
       "      <td>Mystery</td>\n",
       "      <td>1.767271</td>\n",
       "    </tr>\n",
       "    <tr>\n",
       "      <th>20468</th>\n",
       "      <td>tt1856101</td>\n",
       "      <td>Blade Runner 2049</td>\n",
       "      <td>Blade Runner 2049</td>\n",
       "      <td>2017</td>\n",
       "      <td>164.0</td>\n",
       "      <td>Drama,Mystery,Sci-Fi</td>\n",
       "      <td>tt1856101</td>\n",
       "      <td>8.0</td>\n",
       "      <td>376241.0</td>\n",
       "      <td>tt1856101</td>\n",
       "      <td>nm0898288</td>\n",
       "      <td>nm0898288</td>\n",
       "      <td>Denis Villeneuve</td>\n",
       "      <td>1967.0</td>\n",
       "      <td>NaN</td>\n",
       "      <td>director,writer,editor</td>\n",
       "      <td>Drama</td>\n",
       "      <td>Mystery</td>\n",
       "      <td>Sci-Fi</td>\n",
       "      <td>1.667271</td>\n",
       "    </tr>\n",
       "    <tr>\n",
       "      <th>42473</th>\n",
       "      <td>tt2543164</td>\n",
       "      <td>Arrival</td>\n",
       "      <td>Arrival</td>\n",
       "      <td>2016</td>\n",
       "      <td>116.0</td>\n",
       "      <td>Drama,Mystery,Sci-Fi</td>\n",
       "      <td>tt2543164</td>\n",
       "      <td>7.9</td>\n",
       "      <td>515483.0</td>\n",
       "      <td>tt2543164</td>\n",
       "      <td>nm0898288</td>\n",
       "      <td>nm0898288</td>\n",
       "      <td>Denis Villeneuve</td>\n",
       "      <td>1967.0</td>\n",
       "      <td>NaN</td>\n",
       "      <td>director,writer,editor</td>\n",
       "      <td>Drama</td>\n",
       "      <td>Mystery</td>\n",
       "      <td>Sci-Fi</td>\n",
       "      <td>1.567271</td>\n",
       "    </tr>\n",
       "  </tbody>\n",
       "</table>\n",
       "</div>"
      ],
      "text/plain": [
       "        movie_id      primary_title     original_title  start_year  \\\n",
       "7215   tt1392214          Prisoners          Prisoners        2013   \n",
       "20468  tt1856101  Blade Runner 2049  Blade Runner 2049        2017   \n",
       "42473  tt2543164            Arrival            Arrival        2016   \n",
       "\n",
       "       runtime_minutes                genres   movie_id  averagerating  \\\n",
       "7215             153.0   Crime,Drama,Mystery  tt1392214            8.1   \n",
       "20468            164.0  Drama,Mystery,Sci-Fi  tt1856101            8.0   \n",
       "42473            116.0  Drama,Mystery,Sci-Fi  tt2543164            7.9   \n",
       "\n",
       "       numvotes   movie_id  person_id  person_id      primary_name  \\\n",
       "7215   526273.0  tt1392214  nm0898288  nm0898288  Denis Villeneuve   \n",
       "20468  376241.0  tt1856101  nm0898288  nm0898288  Denis Villeneuve   \n",
       "42473  515483.0  tt2543164  nm0898288  nm0898288  Denis Villeneuve   \n",
       "\n",
       "       birth_year  death_year      primary_profession Genre_1  Genre_2  \\\n",
       "7215       1967.0         NaN  director,writer,editor   Crime    Drama   \n",
       "20468      1967.0         NaN  director,writer,editor   Drama  Mystery   \n",
       "42473      1967.0         NaN  director,writer,editor   Drama  Mystery   \n",
       "\n",
       "       Genre_3  rating_relative_to_avg  \n",
       "7215   Mystery                1.767271  \n",
       "20468   Sci-Fi                1.667271  \n",
       "42473   Sci-Fi                1.567271  "
      ]
     },
     "execution_count": 23,
     "metadata": {},
     "output_type": "execute_result"
    }
   ],
   "source": [
    "df_top50_rat[df_top50_rat['primary_name'] == 'Denis Villeneuve']"
   ]
  },
  {
   "cell_type": "code",
   "execution_count": 34,
   "metadata": {},
   "outputs": [
    {
     "data": {
      "image/png": "[encoded data removed]",
      "text/plain": [
       "<Figure size 432x288 with 1 Axes>"
      ]
     },
     "metadata": {
      "needs_background": "light"
     },
     "output_type": "display_data"
    }
   ],
   "source": [
    "fig, ax = plt.subplots()\n",
    "\n",
    "x = dir_mul_top50.index\n",
    "y = dir_mul_top50.values\n",
    "\n",
    "ax.set_xlabel('Movies in Top 50')\n",
    "ax.set_ylabel('Director')\n",
    "ax.set_title('Directors with More Than One Movie in Top 50\\n with at Least 100000 votes Since 2012')\n",
    "\n",
    "ax.barh(x,y)\n",
    "plt.gca().invert_yaxis()"
   ]
  },
  {
   "cell_type": "code",
   "execution_count": null,
   "metadata": {},
   "outputs": [],
   "source": []
  }
 ],
 "metadata": {
  "kernelspec": {
   "display_name": "Python (learn-env)",
   "language": "python",
   "name": "learn-env"
  },
  "language_info": {
   "codemirror_mode": {
    "name": "ipython",
    "version": 3
   },
   "file_extension": ".py",
   "mimetype": "text/x-python",
   "name": "python",
   "nbconvert_exporter": "python",
   "pygments_lexer": "ipython3",
   "version": "3.8.5"
  }
 },
 "nbformat": 4,
 "nbformat_minor": 4
}
