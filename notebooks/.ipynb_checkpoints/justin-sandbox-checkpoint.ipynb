{
 "cells": [
  {
   "cell_type": "markdown",
   "metadata": {},
   "source": [
    "## Justin Sandbox"
   ]
  },
  {
   "cell_type": "code",
   "execution_count": 1,
   "metadata": {},
   "outputs": [],
   "source": [
    "# Import linraries and modules\n",
    "\n",
    "import pandas as pd\n",
    "import matplotlib.pyplot as plt\n",
    "import numpy as np\n",
    "import seaborn as sns\n",
    "import sqlite3 \n",
    "import calendar\n"
   ]
  },
  {
   "cell_type": "code",
   "execution_count": 3,
   "metadata": {},
   "outputs": [],
   "source": [
    "conn = sqlite3.connect('../data/im.db')"
   ]
  },
  {
   "cell_type": "code",
   "execution_count": null,
   "metadata": {},
   "outputs": [],
   "source": [
    "pd.read_sql(\"\"\"\n",
    "SELECT *\n",
    "  FROM movie_ratings;\n",
    "\"\"\", conn)"
   ]
  },
  {
   "cell_type": "code",
   "execution_count": null,
   "metadata": {},
   "outputs": [],
   "source": [
    "df_dirs = pd.read_sql(\"\"\"\n",
    " SELECT *\n",
    "    FROM \n",
    "    movie_basics AS mb\n",
    "        LEFT JOIN\n",
    "            (SELECT *\n",
    "            FROM directors GROUP BY movie_id) AS dr\n",
    "            ON mb.movie_id = dr.movie_id\n",
    "\"\"\", conn)"
   ]
  },
  {
   "cell_type": "code",
   "execution_count": 4,
   "metadata": {},
   "outputs": [],
   "source": [
    "df_imdb = pd.read_sql(\"\"\"\n",
    "    SELECT *\n",
    "    FROM \n",
    "    movie_basics AS mb\n",
    "        LEFT JOIN movie_ratings AS mr\n",
    "            ON mb.movie_id = mr.movie_id\n",
    "        LEFT JOIN\n",
    "            (SELECT *\n",
    "            FROM directors GROUP BY movie_id) AS dr\n",
    "            ON mb.movie_id = dr.movie_id\n",
    "        LEFT JOIN persons AS ps\n",
    "            ON dr.person_id = ps.person_id\n",
    "\"\"\", conn)"
   ]
  },
  {
   "cell_type": "code",
   "execution_count": null,
   "metadata": {},
   "outputs": [],
   "source": [
    "df_dirs.info()"
   ]
  },
  {
   "cell_type": "code",
   "execution_count": null,
   "metadata": {},
   "outputs": [],
   "source": [
    "df_dirs.head()"
   ]
  },
  {
   "cell_type": "code",
   "execution_count": null,
   "metadata": {},
   "outputs": [],
   "source": [
    "df_imdb"
   ]
  },
  {
   "cell_type": "code",
   "execution_count": null,
   "metadata": {},
   "outputs": [],
   "source": [
    "df_imdb[df_imdb['primary_title'].str.contains(\"Avatar\")].sort_values('primary_title')"
   ]
  },
  {
   "cell_type": "code",
   "execution_count": 5,
   "metadata": {},
   "outputs": [],
   "source": [
    "df_imdb['year_str'] = df_imdb['start_year'].astype(str)"
   ]
  },
  {
   "cell_type": "code",
   "execution_count": 6,
   "metadata": {},
   "outputs": [],
   "source": [
    "df_imdb['mov_yr_key'] = df_imdb['primary_title'] + \"-\" + df_imdb['year_str']"
   ]
  },
  {
   "cell_type": "code",
   "execution_count": null,
   "metadata": {},
   "outputs": [],
   "source": []
  },
  {
   "cell_type": "code",
   "execution_count": null,
   "metadata": {},
   "outputs": [],
   "source": [
    "df_imdb.info()"
   ]
  },
  {
   "cell_type": "code",
   "execution_count": null,
   "metadata": {},
   "outputs": [],
   "source": [
    "df_imdb.describe()"
   ]
  },
  {
   "cell_type": "code",
   "execution_count": null,
   "metadata": {},
   "outputs": [],
   "source": [
    "df_imdb.sort_values('runtime_minutes', ascending=False)"
   ]
  },
  {
   "cell_type": "code",
   "execution_count": null,
   "metadata": {},
   "outputs": [],
   "source": [
    "df_imdb.head(50)"
   ]
  },
  {
   "cell_type": "code",
   "execution_count": 7,
   "metadata": {},
   "outputs": [],
   "source": [
    "df_imdb[['Genre_1','Genre_2', 'Genre_3']]=df_imdb[\"genres\"].str.split(\",\",expand=True)"
   ]
  },
  {
   "cell_type": "code",
   "execution_count": 8,
   "metadata": {},
   "outputs": [],
   "source": [
    "df_imdb['rating_relative_to_avg'] = df_imdb['averagerating'] - df_imdb['averagerating'].mean()"
   ]
  },
  {
   "cell_type": "code",
   "execution_count": null,
   "metadata": {},
   "outputs": [],
   "source": [
    "df_imdb.sort_values('primary_title')[12000:12050]"
   ]
  },
  {
   "cell_type": "code",
   "execution_count": 9,
   "metadata": {},
   "outputs": [],
   "source": [
    "df_gen_cnt = df_imdb[['Genre_1', 'Genre_2', 'Genre_3']].apply(pd.Series.value_counts)"
   ]
  },
  {
   "cell_type": "code",
   "execution_count": 10,
   "metadata": {},
   "outputs": [],
   "source": [
    "df_gen_cnt = df_gen_cnt.fillna(0)"
   ]
  },
  {
   "cell_type": "code",
   "execution_count": 17,
   "metadata": {},
   "outputs": [],
   "source": [
    "df_gen_cnt['total_gen_cnt'] = df_gen_cnt['Genre_1'] + df_gen_cnt['Genre_2'] + df_gen_cnt['Genre_3']"
   ]
  },
  {
   "cell_type": "code",
   "execution_count": 18,
   "metadata": {},
   "outputs": [],
   "source": [
    "df_genres = df_imdb.loc[:, [\"Genre_1\",\"Genre_2\",\"Genre_3\", \"averagerating\", \"numvotes\", 'start_year']]"
   ]
  },
  {
   "cell_type": "code",
   "execution_count": 19,
   "metadata": {},
   "outputs": [],
   "source": [
    "df_genres = df_genres.dropna(subset=['averagerating'])"
   ]
  },
  {
   "cell_type": "code",
   "execution_count": null,
   "metadata": {},
   "outputs": [],
   "source": [
    "df_genres.head()"
   ]
  },
  {
   "cell_type": "code",
   "execution_count": null,
   "metadata": {},
   "outputs": [],
   "source": [
    "df_genres.info()"
   ]
  },
  {
   "cell_type": "code",
   "execution_count": null,
   "metadata": {},
   "outputs": [],
   "source": [
    "len(lst_genres)"
   ]
  },
  {
   "cell_type": "code",
   "execution_count": null,
   "metadata": {},
   "outputs": [],
   "source": [
    "test = []\n",
    "\n",
    "# for gen in lst_genres:\n",
    "#     rating_sum = 0\n",
    "#     rating_count = 1\n",
    "#     for movie in df_genres:\n",
    "#         if gen in movie:\n",
    "#             rating_sum = rating_sum + df_genres['averagerating']\n",
    "#             rating_count += 1\n",
    "#     avg_gen_rating = rating_sum / rating_count\n",
    "#     test.append(avg_gen_rating)\n",
    "\n",
    "tl = []\n",
    "for gen in lst_genres:\n",
    "    ratings=[]\n",
    "    ratings.append(gen)\n",
    "    for mov in enumerate(df_genres):\n",
    "        if \"Action\" in mov['Genre_1']:\n",
    "            ratings.append(mov['averagerating'])\n",
    "    tl.append(ratings)\n",
    "\n",
    "tl\n",
    "\n"
   ]
  },
  {
   "cell_type": "code",
   "execution_count": 20,
   "metadata": {},
   "outputs": [
    {
     "data": {
      "text/html": [
       "<div>\n",
       "<style scoped>\n",
       "    .dataframe tbody tr th:only-of-type {\n",
       "        vertical-align: middle;\n",
       "    }\n",
       "\n",
       "    .dataframe tbody tr th {\n",
       "        vertical-align: top;\n",
       "    }\n",
       "\n",
       "    .dataframe thead th {\n",
       "        text-align: right;\n",
       "    }\n",
       "</style>\n",
       "<table border=\"1\" class=\"dataframe\">\n",
       "  <thead>\n",
       "    <tr style=\"text-align: right;\">\n",
       "      <th></th>\n",
       "      <th></th>\n",
       "      <th></th>\n",
       "      <th>averagerating</th>\n",
       "      <th>numvotes</th>\n",
       "      <th>start_year</th>\n",
       "    </tr>\n",
       "    <tr>\n",
       "      <th>Genre_1</th>\n",
       "      <th>Genre_2</th>\n",
       "      <th>Genre_3</th>\n",
       "      <th></th>\n",
       "      <th></th>\n",
       "      <th></th>\n",
       "    </tr>\n",
       "  </thead>\n",
       "  <tbody>\n",
       "    <tr>\n",
       "      <th>Action</th>\n",
       "      <th>Drama</th>\n",
       "      <th>War</th>\n",
       "      <td>8.450</td>\n",
       "      <td>241280.50</td>\n",
       "      <td>2015.00</td>\n",
       "    </tr>\n",
       "    <tr>\n",
       "      <th>Animation</th>\n",
       "      <th>Drama</th>\n",
       "      <th>Fantasy</th>\n",
       "      <td>8.400</td>\n",
       "      <td>134084.00</td>\n",
       "      <td>2016.00</td>\n",
       "    </tr>\n",
       "    <tr>\n",
       "      <th>Adventure</th>\n",
       "      <th>Drama</th>\n",
       "      <th>Sci-Fi</th>\n",
       "      <td>8.300</td>\n",
       "      <td>989725.00</td>\n",
       "      <td>2014.50</td>\n",
       "    </tr>\n",
       "    <tr>\n",
       "      <th rowspan=\"2\" valign=\"top\">Comedy</th>\n",
       "      <th rowspan=\"2\" valign=\"top\">Drama</th>\n",
       "      <th>Thriller</th>\n",
       "      <td>8.100</td>\n",
       "      <td>151123.00</td>\n",
       "      <td>2014.00</td>\n",
       "    </tr>\n",
       "    <tr>\n",
       "      <th>Fantasy</th>\n",
       "      <td>8.000</td>\n",
       "      <td>200574.00</td>\n",
       "      <td>2013.50</td>\n",
       "    </tr>\n",
       "    <tr>\n",
       "      <th>Biography</th>\n",
       "      <th>Drama</th>\n",
       "      <th>Music</th>\n",
       "      <td>8.000</td>\n",
       "      <td>345466.00</td>\n",
       "      <td>2018.00</td>\n",
       "    </tr>\n",
       "    <tr>\n",
       "      <th>Action</th>\n",
       "      <th>Biography</th>\n",
       "      <th>Drama</th>\n",
       "      <td>7.850</td>\n",
       "      <td>291407.75</td>\n",
       "      <td>2014.00</td>\n",
       "    </tr>\n",
       "    <tr>\n",
       "      <th rowspan=\"2\" valign=\"top\">Drama</th>\n",
       "      <th>Music</th>\n",
       "      <th>Romance</th>\n",
       "      <td>7.800</td>\n",
       "      <td>249245.00</td>\n",
       "      <td>2018.00</td>\n",
       "    </tr>\n",
       "    <tr>\n",
       "      <th>Mystery</th>\n",
       "      <th>Sci-Fi</th>\n",
       "      <td>7.775</td>\n",
       "      <td>385403.75</td>\n",
       "      <td>2015.25</td>\n",
       "    </tr>\n",
       "    <tr>\n",
       "      <th>Biography</th>\n",
       "      <th>Drama</th>\n",
       "      <th>Thriller</th>\n",
       "      <td>7.700</td>\n",
       "      <td>415517.00</td>\n",
       "      <td>2013.75</td>\n",
       "    </tr>\n",
       "  </tbody>\n",
       "</table>\n",
       "</div>"
      ],
      "text/plain": [
       "                              averagerating   numvotes  start_year\n",
       "Genre_1   Genre_2   Genre_3                                       \n",
       "Action    Drama     War               8.450  241280.50     2015.00\n",
       "Animation Drama     Fantasy           8.400  134084.00     2016.00\n",
       "Adventure Drama     Sci-Fi            8.300  989725.00     2014.50\n",
       "Comedy    Drama     Thriller          8.100  151123.00     2014.00\n",
       "                    Fantasy           8.000  200574.00     2013.50\n",
       "Biography Drama     Music             8.000  345466.00     2018.00\n",
       "Action    Biography Drama             7.850  291407.75     2014.00\n",
       "Drama     Music     Romance           7.800  249245.00     2018.00\n",
       "          Mystery   Sci-Fi            7.775  385403.75     2015.25\n",
       "Biography Drama     Thriller          7.700  415517.00     2013.75"
      ]
     },
     "execution_count": 20,
     "metadata": {},
     "output_type": "execute_result"
    }
   ],
   "source": [
    "\n",
    "\n",
    "df_genres[(df_genres['numvotes'] >= 100000) & (df_genres['start_year'] >= 2012)].groupby(['Genre_1', 'Genre_2', 'Genre_3']).mean().sort_values('averagerating', ascending=False)\n",
    "\n",
    "df_top10_gen_comb_rat = df_genres[(df_genres['numvotes'] >= 100000) & (df_genres['start_year'] >= 2012)].groupby(['Genre_1', 'Genre_2', 'Genre_3']).mean().sort_values('averagerating', ascending=False)[:10]\n",
    "df_top10_gen_comb_rat"
   ]
  },
  {
   "cell_type": "code",
   "execution_count": 21,
   "metadata": {},
   "outputs": [
    {
     "data": {
      "text/plain": [
       "['Action',\n",
       " 'Adult',\n",
       " 'Adventure',\n",
       " 'Animation',\n",
       " 'Biography',\n",
       " 'Comedy',\n",
       " 'Crime',\n",
       " 'Documentary',\n",
       " 'Drama',\n",
       " 'Family',\n",
       " 'Fantasy',\n",
       " 'Game-Show',\n",
       " 'History',\n",
       " 'Horror',\n",
       " 'Music',\n",
       " 'Musical',\n",
       " 'Mystery',\n",
       " 'News',\n",
       " 'Reality-TV',\n",
       " 'Romance',\n",
       " 'Sci-Fi',\n",
       " 'Short',\n",
       " 'Sport',\n",
       " 'Talk-Show',\n",
       " 'Thriller',\n",
       " 'War',\n",
       " 'Western']"
      ]
     },
     "execution_count": 21,
     "metadata": {},
     "output_type": "execute_result"
    }
   ],
   "source": [
    "lst_genres = list(df_gen_cnt.index)\n",
    "lst_genres"
   ]
  },
  {
   "cell_type": "code",
   "execution_count": null,
   "metadata": {},
   "outputs": [],
   "source": [
    "df_gen_cnt"
   ]
  },
  {
   "cell_type": "code",
   "execution_count": 23,
   "metadata": {},
   "outputs": [],
   "source": [
    "df_gen_cnt.sort_values('total_gen_cnt', ascending=False)\n",
    "top10_gen_cnt = df_gen_cnt.sort_values('total_gen_cnt', ascending=False)[0:10]"
   ]
  },
  {
   "cell_type": "code",
   "execution_count": 24,
   "metadata": {},
   "outputs": [
    {
     "data": {
      "text/plain": [
       "<BarContainer object of 10 artists>"
      ]
     },
     "execution_count": 24,
     "metadata": {},
     "output_type": "execute_result"
    },
    {
     "data": {
      "image/png": "[encoded data removed]",
      "text/plain": [
       "<Figure size 432x288 with 1 Axes>"
      ]
     },
     "metadata": {
      "needs_background": "light"
     },
     "output_type": "display_data"
    }
   ],
   "source": [
    "fig, ax = plt.subplots()\n",
    "\n",
    "x = top10_gen_cnt.index\n",
    "y = top10_gen_cnt['total_gen_cnt']\n",
    "\n",
    "plt.xticks(rotation=90)\n",
    "\n",
    "ax.bar(x,y)"
   ]
  },
  {
   "cell_type": "code",
   "execution_count": 25,
   "metadata": {},
   "outputs": [],
   "source": [
    "#Top 50 movies by rating with at least 100,000 votes and released no later than 2012\n",
    "df_top50_rat = df_imdb[(df_imdb['numvotes'] >= 100000) & (df_imdb['start_year'] >= 2012)].sort_values('averagerating', ascending=False)[0:50]"
   ]
  },
  {
   "cell_type": "code",
   "execution_count": null,
   "metadata": {},
   "outputs": [],
   "source": [
    "df_top50_rat"
   ]
  },
  {
   "cell_type": "code",
   "execution_count": 27,
   "metadata": {},
   "outputs": [],
   "source": [
    "df_top10_rat = df_top50_rat[0:10]"
   ]
  },
  {
   "cell_type": "code",
   "execution_count": 28,
   "metadata": {},
   "outputs": [
    {
     "name": "stderr",
     "output_type": "stream",
     "text": [
      "<ipython-input-28-bf6992674d5c>:12: UserWarning: FixedFormatter should only be used together with FixedLocator\n",
      "  ax1.set_xticklabels(x1, rotation=80)\n",
      "<ipython-input-28-bf6992674d5c>:13: UserWarning: FixedFormatter should only be used together with FixedLocator\n",
      "  ax2.set_xticklabels(x2, rotation=80)\n"
     ]
    },
    {
     "data": {
      "text/plain": [
       "<BarContainer object of 10 artists>"
      ]
     },
     "execution_count": 28,
     "metadata": {},
     "output_type": "execute_result"
    },
    {
     "data": {
      "image/png": "[encoded data removed]",
      "text/plain": [
       "<Figure size 1080x360 with 2 Axes>"
      ]
     },
     "metadata": {
      "needs_background": "light"
     },
     "output_type": "display_data"
    }
   ],
   "source": [
    "fig, (ax1, ax2) = plt.subplots(nrows=1, ncols=2, figsize=(15,5))\n",
    "\n",
    "x1 = df_top10_rat['primary_title']\n",
    "y1 = df_top10_rat['averagerating']\n",
    "\n",
    "x2 = df_top10_rat['primary_title']\n",
    "y2 = df_top10_rat['rating_relative_to_avg']\n",
    "\n",
    "ax1.axhline(6.332729, c=\"black\")\n",
    "ax1.text(0,5.75,\"Avg Avg Rating\", backgroundcolor=\"White\")\n",
    "\n",
    "ax1.set_xticklabels(x1, rotation=80)\n",
    "ax2.set_xticklabels(x2, rotation=80)\n",
    "\n",
    "ax1.set_xlabel(\"Top 10 Rated Films\")\n",
    "ax1.set_ylabel(\"Avg. Rating\")\n",
    "\n",
    "ax2.set_xlabel(\"Top 10 Rated Films\")\n",
    "ax.set_ylabel(\"Avg. Rating Above Avg. Avg. Rating\")\n",
    "\n",
    "ax1.set_title(\"Average Rating\")\n",
    "ax2.set_title(\"Average Rating Above Overall Average Average Rating\")\n",
    "\n",
    "ax1.bar(x1,y1)\n",
    "ax2.bar(x2,y2)"
   ]
  },
  {
   "cell_type": "code",
   "execution_count": 29,
   "metadata": {},
   "outputs": [
    {
     "data": {
      "text/plain": [
       "<matplotlib.collections.PathCollection at 0x249cb0e8880>"
      ]
     },
     "execution_count": 29,
     "metadata": {},
     "output_type": "execute_result"
    },
    {
     "data": {
      "image/png": "[encoded data removed]",
      "text/plain": [
       "<Figure size 1080x360 with 2 Axes>"
      ]
     },
     "metadata": {
      "needs_background": "light"
     },
     "output_type": "display_data"
    }
   ],
   "source": [
    "fig, (ax1, ax2) = plt.subplots(nrows=1, ncols=2, figsize=(15,5))\n",
    "\n",
    "x1 = df_imdb['averagerating']\n",
    "y1 = df_imdb['numvotes']\n",
    "\n",
    "x2 = df_top50_rat['averagerating']\n",
    "y2 = df_top50_rat['numvotes']\n",
    "\n",
    "\n",
    "ax1.set_xlabel(\"Average Rating\")\n",
    "ax1.set_ylabel(\"Number of Votes\")\n",
    "ax1.set_title(\"Average Rating by Number of Votes\")\n",
    "\n",
    "ax2.set_xlabel(\"Average Rating\")\n",
    "ax2.set_ylabel(\"Number of Votes\")\n",
    "ax2.set_title(\"Average Rating by Number of Votes for Top 50 Rated\")\n",
    "\n",
    "ax1.scatter(x1,y1)\n",
    "ax2.scatter(x2,y2)"
   ]
  },
  {
   "cell_type": "code",
   "execution_count": null,
   "metadata": {},
   "outputs": [],
   "source": [
    "round(df_imdb['averagerating'].corr(df_imdb['numvotes']), 2)"
   ]
  },
  {
   "cell_type": "code",
   "execution_count": 30,
   "metadata": {},
   "outputs": [],
   "source": [
    "df_im_run_noout = df_imdb[df_imdb['runtime_minutes'] < 1000 ]"
   ]
  },
  {
   "cell_type": "code",
   "execution_count": 31,
   "metadata": {},
   "outputs": [
    {
     "data": {
      "text/plain": [
       "<matplotlib.collections.PathCollection at 0x249c4c48d30>"
      ]
     },
     "execution_count": 31,
     "metadata": {},
     "output_type": "execute_result"
    },
    {
     "data": {
      "image/png": "[encoded data removed]",
      "text/plain": [
       "<Figure size 432x288 with 1 Axes>"
      ]
     },
     "metadata": {
      "needs_background": "light"
     },
     "output_type": "display_data"
    }
   ],
   "source": [
    "fig, ax = plt.subplots()\n",
    "\n",
    "x = df_im_run_noout['averagerating']\n",
    "y = df_im_run_noout['runtime_minutes']\n",
    "\n",
    "ax.set_xlabel(\"Average Rating\")\n",
    "ax.set_ylabel(\"Runtime (minutes)\")\n",
    "\n",
    "ax.scatter(x,y)"
   ]
  },
  {
   "cell_type": "code",
   "execution_count": 32,
   "metadata": {},
   "outputs": [
    {
     "data": {
      "text/plain": [
       "pandas.core.series.Series"
      ]
     },
     "execution_count": 32,
     "metadata": {},
     "output_type": "execute_result"
    }
   ],
   "source": [
    "dir_mul_top50 = df_top50_rat.value_counts('primary_name')[0:7]\n",
    "\n",
    "\n",
    "type(dir_mul_top50)"
   ]
  },
  {
   "cell_type": "code",
   "execution_count": 33,
   "metadata": {},
   "outputs": [
    {
     "data": {
      "text/html": [
       "<div>\n",
       "<style scoped>\n",
       "    .dataframe tbody tr th:only-of-type {\n",
       "        vertical-align: middle;\n",
       "    }\n",
       "\n",
       "    .dataframe tbody tr th {\n",
       "        vertical-align: top;\n",
       "    }\n",
       "\n",
       "    .dataframe thead th {\n",
       "        text-align: right;\n",
       "    }\n",
       "</style>\n",
       "<table border=\"1\" class=\"dataframe\">\n",
       "  <thead>\n",
       "    <tr style=\"text-align: right;\">\n",
       "      <th></th>\n",
       "      <th>movie_id</th>\n",
       "      <th>primary_title</th>\n",
       "      <th>original_title</th>\n",
       "      <th>start_year</th>\n",
       "      <th>runtime_minutes</th>\n",
       "      <th>genres</th>\n",
       "      <th>movie_id</th>\n",
       "      <th>averagerating</th>\n",
       "      <th>numvotes</th>\n",
       "      <th>movie_id</th>\n",
       "      <th>...</th>\n",
       "      <th>primary_name</th>\n",
       "      <th>birth_year</th>\n",
       "      <th>death_year</th>\n",
       "      <th>primary_profession</th>\n",
       "      <th>year_str</th>\n",
       "      <th>mov_yr_key</th>\n",
       "      <th>Genre_1</th>\n",
       "      <th>Genre_2</th>\n",
       "      <th>Genre_3</th>\n",
       "      <th>rating_relative_to_avg</th>\n",
       "    </tr>\n",
       "  </thead>\n",
       "  <tbody>\n",
       "    <tr>\n",
       "      <th>7215</th>\n",
       "      <td>tt1392214</td>\n",
       "      <td>Prisoners</td>\n",
       "      <td>Prisoners</td>\n",
       "      <td>2013</td>\n",
       "      <td>153.0</td>\n",
       "      <td>Crime,Drama,Mystery</td>\n",
       "      <td>tt1392214</td>\n",
       "      <td>8.1</td>\n",
       "      <td>526273.0</td>\n",
       "      <td>tt1392214</td>\n",
       "      <td>...</td>\n",
       "      <td>Denis Villeneuve</td>\n",
       "      <td>1967.0</td>\n",
       "      <td>NaN</td>\n",
       "      <td>director,writer,editor</td>\n",
       "      <td>2013</td>\n",
       "      <td>Prisoners-2013</td>\n",
       "      <td>Crime</td>\n",
       "      <td>Drama</td>\n",
       "      <td>Mystery</td>\n",
       "      <td>1.767271</td>\n",
       "    </tr>\n",
       "    <tr>\n",
       "      <th>20468</th>\n",
       "      <td>tt1856101</td>\n",
       "      <td>Blade Runner 2049</td>\n",
       "      <td>Blade Runner 2049</td>\n",
       "      <td>2017</td>\n",
       "      <td>164.0</td>\n",
       "      <td>Drama,Mystery,Sci-Fi</td>\n",
       "      <td>tt1856101</td>\n",
       "      <td>8.0</td>\n",
       "      <td>376241.0</td>\n",
       "      <td>tt1856101</td>\n",
       "      <td>...</td>\n",
       "      <td>Denis Villeneuve</td>\n",
       "      <td>1967.0</td>\n",
       "      <td>NaN</td>\n",
       "      <td>director,writer,editor</td>\n",
       "      <td>2017</td>\n",
       "      <td>Blade Runner 2049-2017</td>\n",
       "      <td>Drama</td>\n",
       "      <td>Mystery</td>\n",
       "      <td>Sci-Fi</td>\n",
       "      <td>1.667271</td>\n",
       "    </tr>\n",
       "    <tr>\n",
       "      <th>42473</th>\n",
       "      <td>tt2543164</td>\n",
       "      <td>Arrival</td>\n",
       "      <td>Arrival</td>\n",
       "      <td>2016</td>\n",
       "      <td>116.0</td>\n",
       "      <td>Drama,Mystery,Sci-Fi</td>\n",
       "      <td>tt2543164</td>\n",
       "      <td>7.9</td>\n",
       "      <td>515483.0</td>\n",
       "      <td>tt2543164</td>\n",
       "      <td>...</td>\n",
       "      <td>Denis Villeneuve</td>\n",
       "      <td>1967.0</td>\n",
       "      <td>NaN</td>\n",
       "      <td>director,writer,editor</td>\n",
       "      <td>2016</td>\n",
       "      <td>Arrival-2016</td>\n",
       "      <td>Drama</td>\n",
       "      <td>Mystery</td>\n",
       "      <td>Sci-Fi</td>\n",
       "      <td>1.567271</td>\n",
       "    </tr>\n",
       "  </tbody>\n",
       "</table>\n",
       "<p>3 rows × 22 columns</p>\n",
       "</div>"
      ],
      "text/plain": [
       "        movie_id      primary_title     original_title  start_year  \\\n",
       "7215   tt1392214          Prisoners          Prisoners        2013   \n",
       "20468  tt1856101  Blade Runner 2049  Blade Runner 2049        2017   \n",
       "42473  tt2543164            Arrival            Arrival        2016   \n",
       "\n",
       "       runtime_minutes                genres   movie_id  averagerating  \\\n",
       "7215             153.0   Crime,Drama,Mystery  tt1392214            8.1   \n",
       "20468            164.0  Drama,Mystery,Sci-Fi  tt1856101            8.0   \n",
       "42473            116.0  Drama,Mystery,Sci-Fi  tt2543164            7.9   \n",
       "\n",
       "       numvotes   movie_id  ...      primary_name birth_year death_year  \\\n",
       "7215   526273.0  tt1392214  ...  Denis Villeneuve     1967.0        NaN   \n",
       "20468  376241.0  tt1856101  ...  Denis Villeneuve     1967.0        NaN   \n",
       "42473  515483.0  tt2543164  ...  Denis Villeneuve     1967.0        NaN   \n",
       "\n",
       "           primary_profession  year_str              mov_yr_key Genre_1  \\\n",
       "7215   director,writer,editor      2013          Prisoners-2013   Crime   \n",
       "20468  director,writer,editor      2017  Blade Runner 2049-2017   Drama   \n",
       "42473  director,writer,editor      2016            Arrival-2016   Drama   \n",
       "\n",
       "       Genre_2  Genre_3 rating_relative_to_avg  \n",
       "7215     Drama  Mystery               1.767271  \n",
       "20468  Mystery   Sci-Fi               1.667271  \n",
       "42473  Mystery   Sci-Fi               1.567271  \n",
       "\n",
       "[3 rows x 22 columns]"
      ]
     },
     "execution_count": 33,
     "metadata": {},
     "output_type": "execute_result"
    }
   ],
   "source": [
    "df_top50_rat[df_top50_rat['primary_name'] == 'Denis Villeneuve']"
   ]
  },
  {
   "cell_type": "code",
   "execution_count": null,
   "metadata": {},
   "outputs": [],
   "source": [
    "fig, ax = plt.subplots()\n",
    "\n",
    "x = dir_mul_top50.index\n",
    "y = dir_mul_top50.values\n",
    "\n",
    "ax.set_xlabel('Movies in Top 50')\n",
    "ax.set_ylabel('Director')\n",
    "ax.set_title('Directors with More Than One Movie in Top 50\\n with at Least 100000 votes Since 2012')\n",
    "\n",
    "ax.barh(x,y)\n",
    "plt.gca().invert_yaxis()\n",
    "\n",
    "fig.savefig('../images/dirs_top_top_50.png')"
   ]
  },
  {
   "cell_type": "code",
   "execution_count": null,
   "metadata": {},
   "outputs": [],
   "source": []
  },
  {
   "cell_type": "markdown",
   "metadata": {},
   "source": [
    "# BOM"
   ]
  },
  {
   "cell_type": "code",
   "execution_count": 34,
   "metadata": {},
   "outputs": [],
   "source": [
    "df_bom = pd.read_csv('../data/bom.movie_gross.csv')"
   ]
  },
  {
   "cell_type": "code",
   "execution_count": 35,
   "metadata": {},
   "outputs": [
    {
     "data": {
      "text/html": [
       "<div>\n",
       "<style scoped>\n",
       "    .dataframe tbody tr th:only-of-type {\n",
       "        vertical-align: middle;\n",
       "    }\n",
       "\n",
       "    .dataframe tbody tr th {\n",
       "        vertical-align: top;\n",
       "    }\n",
       "\n",
       "    .dataframe thead th {\n",
       "        text-align: right;\n",
       "    }\n",
       "</style>\n",
       "<table border=\"1\" class=\"dataframe\">\n",
       "  <thead>\n",
       "    <tr style=\"text-align: right;\">\n",
       "      <th></th>\n",
       "      <th>title</th>\n",
       "      <th>studio</th>\n",
       "      <th>domestic_gross</th>\n",
       "      <th>foreign_gross</th>\n",
       "      <th>year</th>\n",
       "    </tr>\n",
       "  </thead>\n",
       "  <tbody>\n",
       "    <tr>\n",
       "      <th>1805</th>\n",
       "      <td>Life's a Breeze</td>\n",
       "      <td>Magn.</td>\n",
       "      <td>3500.0</td>\n",
       "      <td>99700</td>\n",
       "      <td>2014</td>\n",
       "    </tr>\n",
       "    <tr>\n",
       "      <th>1331</th>\n",
       "      <td>The East</td>\n",
       "      <td>FoxS</td>\n",
       "      <td>2300000.0</td>\n",
       "      <td>99700</td>\n",
       "      <td>2013</td>\n",
       "    </tr>\n",
       "    <tr>\n",
       "      <th>302</th>\n",
       "      <td>White Lion</td>\n",
       "      <td>Scre.</td>\n",
       "      <td>NaN</td>\n",
       "      <td>99600</td>\n",
       "      <td>2010</td>\n",
       "    </tr>\n",
       "    <tr>\n",
       "      <th>2906</th>\n",
       "      <td>A United Kingdom</td>\n",
       "      <td>FoxS</td>\n",
       "      <td>3900000.0</td>\n",
       "      <td>9900000</td>\n",
       "      <td>2017</td>\n",
       "    </tr>\n",
       "    <tr>\n",
       "      <th>510</th>\n",
       "      <td>Le Havre</td>\n",
       "      <td>Jan.</td>\n",
       "      <td>612000.0</td>\n",
       "      <td>9900000</td>\n",
       "      <td>2011</td>\n",
       "    </tr>\n",
       "    <tr>\n",
       "      <th>...</th>\n",
       "      <td>...</td>\n",
       "      <td>...</td>\n",
       "      <td>...</td>\n",
       "      <td>...</td>\n",
       "      <td>...</td>\n",
       "    </tr>\n",
       "    <tr>\n",
       "      <th>3382</th>\n",
       "      <td>The Quake</td>\n",
       "      <td>Magn.</td>\n",
       "      <td>6200.0</td>\n",
       "      <td>NaN</td>\n",
       "      <td>2018</td>\n",
       "    </tr>\n",
       "    <tr>\n",
       "      <th>3383</th>\n",
       "      <td>Edward II (2018 re-release)</td>\n",
       "      <td>FM</td>\n",
       "      <td>4800.0</td>\n",
       "      <td>NaN</td>\n",
       "      <td>2018</td>\n",
       "    </tr>\n",
       "    <tr>\n",
       "      <th>3384</th>\n",
       "      <td>El Pacto</td>\n",
       "      <td>Sony</td>\n",
       "      <td>2500.0</td>\n",
       "      <td>NaN</td>\n",
       "      <td>2018</td>\n",
       "    </tr>\n",
       "    <tr>\n",
       "      <th>3385</th>\n",
       "      <td>The Swan</td>\n",
       "      <td>Synergetic</td>\n",
       "      <td>2400.0</td>\n",
       "      <td>NaN</td>\n",
       "      <td>2018</td>\n",
       "    </tr>\n",
       "    <tr>\n",
       "      <th>3386</th>\n",
       "      <td>An Actor Prepares</td>\n",
       "      <td>Grav.</td>\n",
       "      <td>1700.0</td>\n",
       "      <td>NaN</td>\n",
       "      <td>2018</td>\n",
       "    </tr>\n",
       "  </tbody>\n",
       "</table>\n",
       "<p>3387 rows × 5 columns</p>\n",
       "</div>"
      ],
      "text/plain": [
       "                            title      studio  domestic_gross foreign_gross  \\\n",
       "1805              Life's a Breeze       Magn.          3500.0         99700   \n",
       "1331                     The East        FoxS       2300000.0         99700   \n",
       "302                    White Lion       Scre.             NaN         99600   \n",
       "2906             A United Kingdom        FoxS       3900000.0       9900000   \n",
       "510                      Le Havre        Jan.        612000.0       9900000   \n",
       "...                           ...         ...             ...           ...   \n",
       "3382                    The Quake       Magn.          6200.0           NaN   \n",
       "3383  Edward II (2018 re-release)          FM          4800.0           NaN   \n",
       "3384                     El Pacto        Sony          2500.0           NaN   \n",
       "3385                     The Swan  Synergetic          2400.0           NaN   \n",
       "3386            An Actor Prepares       Grav.          1700.0           NaN   \n",
       "\n",
       "      year  \n",
       "1805  2014  \n",
       "1331  2013  \n",
       "302   2010  \n",
       "2906  2017  \n",
       "510   2011  \n",
       "...    ...  \n",
       "3382  2018  \n",
       "3383  2018  \n",
       "3384  2018  \n",
       "3385  2018  \n",
       "3386  2018  \n",
       "\n",
       "[3387 rows x 5 columns]"
      ]
     },
     "execution_count": 35,
     "metadata": {},
     "output_type": "execute_result"
    }
   ],
   "source": [
    "df_bom.sort_values('foreign_gross', ascending=False)"
   ]
  },
  {
   "cell_type": "code",
   "execution_count": 36,
   "metadata": {},
   "outputs": [],
   "source": [
    "df_bom['foreign_gross'] = df_bom['foreign_gross'].str.replace(\",\",\"\")\n",
    "df_bom['foreign_gross'] = df_bom['foreign_gross'].astype(float)"
   ]
  },
  {
   "cell_type": "code",
   "execution_count": 37,
   "metadata": {},
   "outputs": [],
   "source": [
    "df_bom['total_gross'] = df_bom['foreign_gross'] + df_bom['domestic_gross']"
   ]
  },
  {
   "cell_type": "code",
   "execution_count": null,
   "metadata": {},
   "outputs": [],
   "source": [
    "df_bom.sort_values('foreign_gross')[0:25]"
   ]
  },
  {
   "cell_type": "code",
   "execution_count": null,
   "metadata": {},
   "outputs": [],
   "source": [
    "df_bom.info()"
   ]
  },
  {
   "cell_type": "code",
   "execution_count": 38,
   "metadata": {},
   "outputs": [
    {
     "data": {
      "text/plain": [
       "<matplotlib.collections.PathCollection at 0x249c94e7340>"
      ]
     },
     "execution_count": 38,
     "metadata": {},
     "output_type": "execute_result"
    },
    {
     "data": {
      "image/png": "[encoded data removed]",
      "text/plain": [
       "<Figure size 1080x360 with 2 Axes>"
      ]
     },
     "metadata": {
      "needs_background": "light"
     },
     "output_type": "display_data"
    }
   ],
   "source": [
    "fig, (ax1, ax2) = plt.subplots(nrows=1, ncols=2, figsize=(15,5))\n",
    "\n",
    "x1 = df_bom['domestic_gross']\n",
    "y1 = df_bom['total_gross']\n",
    "\n",
    "x2 = df_bom['foreign_gross']\n",
    "y2 = df_bom['total_gross']\n",
    "\n",
    "ax1.set_xlabel(\"Domestic Gross\")\n",
    "ax1.set_ylabel(\"Total Gross\")\n",
    "\n",
    "ax2.set_xlabel(\"Foreign Gross\")\n",
    "ax2.set_ylabel(\"Total Gross\")\n",
    "\n",
    "ax1.scatter(x1, y1)\n",
    "ax2.scatter(x2, y2)"
   ]
  },
  {
   "cell_type": "code",
   "execution_count": 39,
   "metadata": {},
   "outputs": [
    {
     "data": {
      "text/plain": [
       "0.9045480373460375"
      ]
     },
     "execution_count": 39,
     "metadata": {},
     "output_type": "execute_result"
    }
   ],
   "source": [
    "df_bom['domestic_gross'].corr(df_bom['total_gross'])"
   ]
  },
  {
   "cell_type": "code",
   "execution_count": 40,
   "metadata": {},
   "outputs": [
    {
     "data": {
      "text/plain": [
       "0.9677590546498869"
      ]
     },
     "execution_count": 40,
     "metadata": {},
     "output_type": "execute_result"
    }
   ],
   "source": [
    "df_bom['foreign_gross'].corr(df_bom['total_gross'])"
   ]
  },
  {
   "cell_type": "code",
   "execution_count": 41,
   "metadata": {},
   "outputs": [
    {
     "data": {
      "text/plain": [
       "<matplotlib.collections.PathCollection at 0x249c7c1afa0>"
      ]
     },
     "execution_count": 41,
     "metadata": {},
     "output_type": "execute_result"
    },
    {
     "data": {
      "image/png": "[encoded data removed]",
      "text/plain": [
       "<Figure size 432x288 with 1 Axes>"
      ]
     },
     "metadata": {
      "needs_background": "light"
     },
     "output_type": "display_data"
    }
   ],
   "source": [
    "fig, ax = plt.subplots()\n",
    "\n",
    "x = df_bom['domestic_gross']\n",
    "y = df_bom['total_gross']\n",
    "\n",
    "ax.set_xlabel(\"Domestic Gross\")\n",
    "ax.set_ylabel(\"Foreign Gross\")\n",
    "\n",
    "ax.scatter(x,y)"
   ]
  },
  {
   "cell_type": "markdown",
   "metadata": {},
   "source": [
    "Mox Office Movies"
   ]
  },
  {
   "cell_type": "code",
   "execution_count": null,
   "metadata": {},
   "outputs": [],
   "source": [
    "df_bom.groupby('studio').sum().sort_values('total_gross', ascending=False)"
   ]
  },
  {
   "cell_type": "code",
   "execution_count": 42,
   "metadata": {},
   "outputs": [],
   "source": [
    "df_bom_filt = df_bom[df_bom['year'] >= 2012]"
   ]
  },
  {
   "cell_type": "code",
   "execution_count": null,
   "metadata": {},
   "outputs": [],
   "source": [
    "df_bom_filt.groupby('studio').sum().sort_values('total_gross', ascending=False)"
   ]
  },
  {
   "cell_type": "code",
   "execution_count": 43,
   "metadata": {},
   "outputs": [
    {
     "data": {
      "text/html": [
       "<div>\n",
       "<style scoped>\n",
       "    .dataframe tbody tr th:only-of-type {\n",
       "        vertical-align: middle;\n",
       "    }\n",
       "\n",
       "    .dataframe tbody tr th {\n",
       "        vertical-align: top;\n",
       "    }\n",
       "\n",
       "    .dataframe thead th {\n",
       "        text-align: right;\n",
       "    }\n",
       "</style>\n",
       "<table border=\"1\" class=\"dataframe\">\n",
       "  <thead>\n",
       "    <tr style=\"text-align: right;\">\n",
       "      <th></th>\n",
       "      <th>domestic_gross</th>\n",
       "      <th>foreign_gross</th>\n",
       "      <th>year</th>\n",
       "      <th>total_gross</th>\n",
       "    </tr>\n",
       "    <tr>\n",
       "      <th>studio</th>\n",
       "      <th></th>\n",
       "      <th></th>\n",
       "      <th></th>\n",
       "      <th></th>\n",
       "    </tr>\n",
       "  </thead>\n",
       "  <tbody>\n",
       "    <tr>\n",
       "      <th>BV</th>\n",
       "      <td>1.570240e+10</td>\n",
       "      <td>2.117251e+10</td>\n",
       "      <td>157157</td>\n",
       "      <td>3.686251e+10</td>\n",
       "    </tr>\n",
       "    <tr>\n",
       "      <th>Fox</th>\n",
       "      <td>8.967700e+09</td>\n",
       "      <td>1.702962e+10</td>\n",
       "      <td>209547</td>\n",
       "      <td>2.597232e+10</td>\n",
       "    </tr>\n",
       "    <tr>\n",
       "      <th>Uni.</th>\n",
       "      <td>1.105189e+10</td>\n",
       "      <td>1.457537e+10</td>\n",
       "      <td>235767</td>\n",
       "      <td>2.561691e+10</td>\n",
       "    </tr>\n",
       "    <tr>\n",
       "      <th>WB</th>\n",
       "      <td>9.073773e+09</td>\n",
       "      <td>1.416202e+10</td>\n",
       "      <td>209564</td>\n",
       "      <td>2.319382e+10</td>\n",
       "    </tr>\n",
       "    <tr>\n",
       "      <th>Sony</th>\n",
       "      <td>6.550983e+09</td>\n",
       "      <td>1.149014e+10</td>\n",
       "      <td>175332</td>\n",
       "      <td>1.804092e+10</td>\n",
       "    </tr>\n",
       "    <tr>\n",
       "      <th>Par.</th>\n",
       "      <td>5.298605e+09</td>\n",
       "      <td>9.049485e+09</td>\n",
       "      <td>159185</td>\n",
       "      <td>1.424340e+10</td>\n",
       "    </tr>\n",
       "    <tr>\n",
       "      <th>WB (NL)</th>\n",
       "      <td>3.416300e+09</td>\n",
       "      <td>5.567200e+09</td>\n",
       "      <td>72549</td>\n",
       "      <td>8.962900e+09</td>\n",
       "    </tr>\n",
       "    <tr>\n",
       "      <th>LGF</th>\n",
       "      <td>3.427902e+09</td>\n",
       "      <td>3.811285e+09</td>\n",
       "      <td>161198</td>\n",
       "      <td>7.106475e+09</td>\n",
       "    </tr>\n",
       "    <tr>\n",
       "      <th>LG/S</th>\n",
       "      <td>2.078200e+09</td>\n",
       "      <td>3.353724e+09</td>\n",
       "      <td>82599</td>\n",
       "      <td>5.318924e+09</td>\n",
       "    </tr>\n",
       "    <tr>\n",
       "      <th>Wein.</th>\n",
       "      <td>1.242996e+09</td>\n",
       "      <td>2.063821e+09</td>\n",
       "      <td>122850</td>\n",
       "      <td>3.266239e+09</td>\n",
       "    </tr>\n",
       "  </tbody>\n",
       "</table>\n",
       "</div>"
      ],
      "text/plain": [
       "         domestic_gross  foreign_gross    year   total_gross\n",
       "studio                                                      \n",
       "BV         1.570240e+10   2.117251e+10  157157  3.686251e+10\n",
       "Fox        8.967700e+09   1.702962e+10  209547  2.597232e+10\n",
       "Uni.       1.105189e+10   1.457537e+10  235767  2.561691e+10\n",
       "WB         9.073773e+09   1.416202e+10  209564  2.319382e+10\n",
       "Sony       6.550983e+09   1.149014e+10  175332  1.804092e+10\n",
       "Par.       5.298605e+09   9.049485e+09  159185  1.424340e+10\n",
       "WB (NL)    3.416300e+09   5.567200e+09   72549  8.962900e+09\n",
       "LGF        3.427902e+09   3.811285e+09  161198  7.106475e+09\n",
       "LG/S       2.078200e+09   3.353724e+09   82599  5.318924e+09\n",
       "Wein.      1.242996e+09   2.063821e+09  122850  3.266239e+09"
      ]
     },
     "execution_count": 43,
     "metadata": {},
     "output_type": "execute_result"
    }
   ],
   "source": [
    "top10_stud_filt = df_bom_filt.groupby('studio').sum().sort_values('total_gross', ascending=False)[:10]\n",
    "top10_stud_filt"
   ]
  },
  {
   "cell_type": "code",
   "execution_count": 44,
   "metadata": {},
   "outputs": [
    {
     "data": {
      "text/plain": [
       "<BarContainer object of 10 artists>"
      ]
     },
     "execution_count": 44,
     "metadata": {},
     "output_type": "execute_result"
    },
    {
     "data": {
      "image/png": "[encoded data removed]",
      "text/plain": [
       "<Figure size 432x288 with 1 Axes>"
      ]
     },
     "metadata": {
      "needs_background": "light"
     },
     "output_type": "display_data"
    }
   ],
   "source": [
    "fig, ax = plt.subplots()\n",
    "\n",
    "x = top10_stud_filt.index\n",
    "y = top10_stud_filt['total_gross']\n",
    "\n",
    "ax.set_xlabel(\"Studio\")\n",
    "ax.set_ylabel(\"Total Gross\")\n",
    "ax.set_title(\"Studios with Greatest Total Gross Since 2012\")\n",
    "\n",
    "plt.xticks(rotation=90)\n",
    "\n",
    "ax.bar(x,y)"
   ]
  },
  {
   "cell_type": "code",
   "execution_count": 29,
   "metadata": {},
   "outputs": [
    {
     "data": {
      "text/plain": [
       "studio\n",
       "Uni.     117\n",
       "IFC      111\n",
       "Fox      104\n",
       "WB       104\n",
       "Magn.     99\n",
       "SPC       88\n",
       "Sony      87\n",
       "LGF       80\n",
       "Par.      79\n",
       "BV        78\n",
       "dtype: int64"
      ]
     },
     "execution_count": 29,
     "metadata": {},
     "output_type": "execute_result"
    }
   ],
   "source": [
    "stud_top_num_mov = df_bom_filt.value_counts(subset='studio')[:10]\n",
    "stud_top_num_mov"
   ]
  },
  {
   "cell_type": "code",
   "execution_count": 30,
   "metadata": {},
   "outputs": [
    {
     "data": {
      "text/plain": [
       "<BarContainer object of 10 artists>"
      ]
     },
     "execution_count": 30,
     "metadata": {},
     "output_type": "execute_result"
    },
    {
     "data": {
      "image/png": "[encoded data removed]",
      "text/plain": [
       "<Figure size 432x288 with 1 Axes>"
      ]
     },
     "metadata": {
      "needs_background": "light"
     },
     "output_type": "display_data"
    }
   ],
   "source": [
    "fig, ax = plt.subplots()\n",
    "\n",
    "x = stud_top_num_mov.index\n",
    "y = stud_top_num_mov.values\n",
    "\n",
    "ax.set_xlabel(\"Studio\")\n",
    "ax.set_ylabel(\"Number of Movies Sinse 2012\")\n",
    "ax.set_title(\"Studios with Greatest Movies Made Since 2012\")\n",
    "\n",
    "plt.xticks(rotation=90)\n",
    "\n",
    "ax.bar(x,y)"
   ]
  },
  {
   "cell_type": "markdown",
   "metadata": {},
   "source": [
    "# TN"
   ]
  },
  {
   "cell_type": "code",
   "execution_count": 45,
   "metadata": {},
   "outputs": [],
   "source": [
    "df_tn = pd.read_csv('../data/tn.movie_budgets.csv')"
   ]
  },
  {
   "cell_type": "code",
   "execution_count": 32,
   "metadata": {},
   "outputs": [
    {
     "data": {
      "text/html": [
       "<div>\n",
       "<style scoped>\n",
       "    .dataframe tbody tr th:only-of-type {\n",
       "        vertical-align: middle;\n",
       "    }\n",
       "\n",
       "    .dataframe tbody tr th {\n",
       "        vertical-align: top;\n",
       "    }\n",
       "\n",
       "    .dataframe thead th {\n",
       "        text-align: right;\n",
       "    }\n",
       "</style>\n",
       "<table border=\"1\" class=\"dataframe\">\n",
       "  <thead>\n",
       "    <tr style=\"text-align: right;\">\n",
       "      <th></th>\n",
       "      <th>id</th>\n",
       "      <th>release_date</th>\n",
       "      <th>movie</th>\n",
       "      <th>production_budget</th>\n",
       "      <th>domestic_gross</th>\n",
       "      <th>worldwide_gross</th>\n",
       "    </tr>\n",
       "  </thead>\n",
       "  <tbody>\n",
       "    <tr>\n",
       "      <th>0</th>\n",
       "      <td>1</td>\n",
       "      <td>Dec 18, 2009</td>\n",
       "      <td>Avatar</td>\n",
       "      <td>$425,000,000</td>\n",
       "      <td>$760,507,625</td>\n",
       "      <td>$2,776,345,279</td>\n",
       "    </tr>\n",
       "    <tr>\n",
       "      <th>1</th>\n",
       "      <td>2</td>\n",
       "      <td>May 20, 2011</td>\n",
       "      <td>Pirates of the Caribbean: On Stranger Tides</td>\n",
       "      <td>$410,600,000</td>\n",
       "      <td>$241,063,875</td>\n",
       "      <td>$1,045,663,875</td>\n",
       "    </tr>\n",
       "    <tr>\n",
       "      <th>2</th>\n",
       "      <td>3</td>\n",
       "      <td>Jun 7, 2019</td>\n",
       "      <td>Dark Phoenix</td>\n",
       "      <td>$350,000,000</td>\n",
       "      <td>$42,762,350</td>\n",
       "      <td>$149,762,350</td>\n",
       "    </tr>\n",
       "    <tr>\n",
       "      <th>3</th>\n",
       "      <td>4</td>\n",
       "      <td>May 1, 2015</td>\n",
       "      <td>Avengers: Age of Ultron</td>\n",
       "      <td>$330,600,000</td>\n",
       "      <td>$459,005,868</td>\n",
       "      <td>$1,403,013,963</td>\n",
       "    </tr>\n",
       "    <tr>\n",
       "      <th>4</th>\n",
       "      <td>5</td>\n",
       "      <td>Dec 15, 2017</td>\n",
       "      <td>Star Wars Ep. VIII: The Last Jedi</td>\n",
       "      <td>$317,000,000</td>\n",
       "      <td>$620,181,382</td>\n",
       "      <td>$1,316,721,747</td>\n",
       "    </tr>\n",
       "    <tr>\n",
       "      <th>...</th>\n",
       "      <td>...</td>\n",
       "      <td>...</td>\n",
       "      <td>...</td>\n",
       "      <td>...</td>\n",
       "      <td>...</td>\n",
       "      <td>...</td>\n",
       "    </tr>\n",
       "    <tr>\n",
       "      <th>5777</th>\n",
       "      <td>78</td>\n",
       "      <td>Dec 31, 2018</td>\n",
       "      <td>Red 11</td>\n",
       "      <td>$7,000</td>\n",
       "      <td>$0</td>\n",
       "      <td>$0</td>\n",
       "    </tr>\n",
       "    <tr>\n",
       "      <th>5778</th>\n",
       "      <td>79</td>\n",
       "      <td>Apr 2, 1999</td>\n",
       "      <td>Following</td>\n",
       "      <td>$6,000</td>\n",
       "      <td>$48,482</td>\n",
       "      <td>$240,495</td>\n",
       "    </tr>\n",
       "    <tr>\n",
       "      <th>5779</th>\n",
       "      <td>80</td>\n",
       "      <td>Jul 13, 2005</td>\n",
       "      <td>Return to the Land of Wonders</td>\n",
       "      <td>$5,000</td>\n",
       "      <td>$1,338</td>\n",
       "      <td>$1,338</td>\n",
       "    </tr>\n",
       "    <tr>\n",
       "      <th>5780</th>\n",
       "      <td>81</td>\n",
       "      <td>Sep 29, 2015</td>\n",
       "      <td>A Plague So Pleasant</td>\n",
       "      <td>$1,400</td>\n",
       "      <td>$0</td>\n",
       "      <td>$0</td>\n",
       "    </tr>\n",
       "    <tr>\n",
       "      <th>5781</th>\n",
       "      <td>82</td>\n",
       "      <td>Aug 5, 2005</td>\n",
       "      <td>My Date With Drew</td>\n",
       "      <td>$1,100</td>\n",
       "      <td>$181,041</td>\n",
       "      <td>$181,041</td>\n",
       "    </tr>\n",
       "  </tbody>\n",
       "</table>\n",
       "<p>5782 rows × 6 columns</p>\n",
       "</div>"
      ],
      "text/plain": [
       "      id  release_date                                        movie  \\\n",
       "0      1  Dec 18, 2009                                       Avatar   \n",
       "1      2  May 20, 2011  Pirates of the Caribbean: On Stranger Tides   \n",
       "2      3   Jun 7, 2019                                 Dark Phoenix   \n",
       "3      4   May 1, 2015                      Avengers: Age of Ultron   \n",
       "4      5  Dec 15, 2017            Star Wars Ep. VIII: The Last Jedi   \n",
       "...   ..           ...                                          ...   \n",
       "5777  78  Dec 31, 2018                                       Red 11   \n",
       "5778  79   Apr 2, 1999                                    Following   \n",
       "5779  80  Jul 13, 2005                Return to the Land of Wonders   \n",
       "5780  81  Sep 29, 2015                         A Plague So Pleasant   \n",
       "5781  82   Aug 5, 2005                            My Date With Drew   \n",
       "\n",
       "     production_budget domestic_gross worldwide_gross  \n",
       "0         $425,000,000   $760,507,625  $2,776,345,279  \n",
       "1         $410,600,000   $241,063,875  $1,045,663,875  \n",
       "2         $350,000,000    $42,762,350    $149,762,350  \n",
       "3         $330,600,000   $459,005,868  $1,403,013,963  \n",
       "4         $317,000,000   $620,181,382  $1,316,721,747  \n",
       "...                ...            ...             ...  \n",
       "5777            $7,000             $0              $0  \n",
       "5778            $6,000        $48,482        $240,495  \n",
       "5779            $5,000         $1,338          $1,338  \n",
       "5780            $1,400             $0              $0  \n",
       "5781            $1,100       $181,041        $181,041  \n",
       "\n",
       "[5782 rows x 6 columns]"
      ]
     },
     "execution_count": 32,
     "metadata": {},
     "output_type": "execute_result"
    }
   ],
   "source": [
    "df_tn"
   ]
  },
  {
   "cell_type": "code",
   "execution_count": 46,
   "metadata": {},
   "outputs": [],
   "source": [
    "df_tn['production_budget'] = df_tn['production_budget'].str.replace(\",\",\"\")\n",
    "df_tn['production_budget'] = df_tn['production_budget'].str.replace(\"$\",\"\")\n",
    "\n",
    "df_tn['worldwide_gross'] = df_tn['worldwide_gross'].str.replace(\",\",\"\")\n",
    "df_tn['worldwide_gross'] = df_tn['worldwide_gross'].str.replace(\"$\",\"\")\n",
    "\n",
    "df_tn['domestic_gross'] = df_tn['worldwide_gross'].str.replace(\",\",\"\")\n",
    "df_tn['domestic_gross'] = df_tn['worldwide_gross'].str.replace(\"$\",\"\")"
   ]
  },
  {
   "cell_type": "code",
   "execution_count": 47,
   "metadata": {},
   "outputs": [],
   "source": [
    "# Convert the data type of the 'release_date' column to a date\n",
    "df_tn['release_date'] = pd.to_datetime(df_tn['release_date'],format=\"%b %d, %Y\")\n",
    "\n",
    "# Add a new columns 'year'\n",
    "df_tn['release_year'] = df_tn['release_date'].dt.year\n",
    "\n",
    "# Create key column movie + year\n",
    "df_tn['release_year'] = df_tn['release_year'].astype(str)\n",
    "df_tn['mov_yr_key'] = df_tn['movie'] + \"-\" + df_tn['release_year']"
   ]
  },
  {
   "cell_type": "code",
   "execution_count": 48,
   "metadata": {},
   "outputs": [
    {
     "data": {
      "text/html": [
       "<div>\n",
       "<style scoped>\n",
       "    .dataframe tbody tr th:only-of-type {\n",
       "        vertical-align: middle;\n",
       "    }\n",
       "\n",
       "    .dataframe tbody tr th {\n",
       "        vertical-align: top;\n",
       "    }\n",
       "\n",
       "    .dataframe thead th {\n",
       "        text-align: right;\n",
       "    }\n",
       "</style>\n",
       "<table border=\"1\" class=\"dataframe\">\n",
       "  <thead>\n",
       "    <tr style=\"text-align: right;\">\n",
       "      <th></th>\n",
       "      <th>id</th>\n",
       "      <th>release_date</th>\n",
       "      <th>movie</th>\n",
       "      <th>production_budget</th>\n",
       "      <th>domestic_gross</th>\n",
       "      <th>worldwide_gross</th>\n",
       "      <th>release_year</th>\n",
       "      <th>mov_yr_key</th>\n",
       "    </tr>\n",
       "  </thead>\n",
       "  <tbody>\n",
       "    <tr>\n",
       "      <th>0</th>\n",
       "      <td>1</td>\n",
       "      <td>2009-12-18</td>\n",
       "      <td>Avatar</td>\n",
       "      <td>425000000</td>\n",
       "      <td>2776345279</td>\n",
       "      <td>2776345279</td>\n",
       "      <td>2009</td>\n",
       "      <td>Avatar-2009</td>\n",
       "    </tr>\n",
       "    <tr>\n",
       "      <th>1</th>\n",
       "      <td>2</td>\n",
       "      <td>2011-05-20</td>\n",
       "      <td>Pirates of the Caribbean: On Stranger Tides</td>\n",
       "      <td>410600000</td>\n",
       "      <td>1045663875</td>\n",
       "      <td>1045663875</td>\n",
       "      <td>2011</td>\n",
       "      <td>Pirates of the Caribbean: On Stranger Tides-2011</td>\n",
       "    </tr>\n",
       "    <tr>\n",
       "      <th>2</th>\n",
       "      <td>3</td>\n",
       "      <td>2019-06-07</td>\n",
       "      <td>Dark Phoenix</td>\n",
       "      <td>350000000</td>\n",
       "      <td>149762350</td>\n",
       "      <td>149762350</td>\n",
       "      <td>2019</td>\n",
       "      <td>Dark Phoenix-2019</td>\n",
       "    </tr>\n",
       "    <tr>\n",
       "      <th>3</th>\n",
       "      <td>4</td>\n",
       "      <td>2015-05-01</td>\n",
       "      <td>Avengers: Age of Ultron</td>\n",
       "      <td>330600000</td>\n",
       "      <td>1403013963</td>\n",
       "      <td>1403013963</td>\n",
       "      <td>2015</td>\n",
       "      <td>Avengers: Age of Ultron-2015</td>\n",
       "    </tr>\n",
       "    <tr>\n",
       "      <th>4</th>\n",
       "      <td>5</td>\n",
       "      <td>2017-12-15</td>\n",
       "      <td>Star Wars Ep. VIII: The Last Jedi</td>\n",
       "      <td>317000000</td>\n",
       "      <td>1316721747</td>\n",
       "      <td>1316721747</td>\n",
       "      <td>2017</td>\n",
       "      <td>Star Wars Ep. VIII: The Last Jedi-2017</td>\n",
       "    </tr>\n",
       "    <tr>\n",
       "      <th>...</th>\n",
       "      <td>...</td>\n",
       "      <td>...</td>\n",
       "      <td>...</td>\n",
       "      <td>...</td>\n",
       "      <td>...</td>\n",
       "      <td>...</td>\n",
       "      <td>...</td>\n",
       "      <td>...</td>\n",
       "    </tr>\n",
       "    <tr>\n",
       "      <th>5777</th>\n",
       "      <td>78</td>\n",
       "      <td>2018-12-31</td>\n",
       "      <td>Red 11</td>\n",
       "      <td>7000</td>\n",
       "      <td>0</td>\n",
       "      <td>0</td>\n",
       "      <td>2018</td>\n",
       "      <td>Red 11-2018</td>\n",
       "    </tr>\n",
       "    <tr>\n",
       "      <th>5778</th>\n",
       "      <td>79</td>\n",
       "      <td>1999-04-02</td>\n",
       "      <td>Following</td>\n",
       "      <td>6000</td>\n",
       "      <td>240495</td>\n",
       "      <td>240495</td>\n",
       "      <td>1999</td>\n",
       "      <td>Following-1999</td>\n",
       "    </tr>\n",
       "    <tr>\n",
       "      <th>5779</th>\n",
       "      <td>80</td>\n",
       "      <td>2005-07-13</td>\n",
       "      <td>Return to the Land of Wonders</td>\n",
       "      <td>5000</td>\n",
       "      <td>1338</td>\n",
       "      <td>1338</td>\n",
       "      <td>2005</td>\n",
       "      <td>Return to the Land of Wonders-2005</td>\n",
       "    </tr>\n",
       "    <tr>\n",
       "      <th>5780</th>\n",
       "      <td>81</td>\n",
       "      <td>2015-09-29</td>\n",
       "      <td>A Plague So Pleasant</td>\n",
       "      <td>1400</td>\n",
       "      <td>0</td>\n",
       "      <td>0</td>\n",
       "      <td>2015</td>\n",
       "      <td>A Plague So Pleasant-2015</td>\n",
       "    </tr>\n",
       "    <tr>\n",
       "      <th>5781</th>\n",
       "      <td>82</td>\n",
       "      <td>2005-08-05</td>\n",
       "      <td>My Date With Drew</td>\n",
       "      <td>1100</td>\n",
       "      <td>181041</td>\n",
       "      <td>181041</td>\n",
       "      <td>2005</td>\n",
       "      <td>My Date With Drew-2005</td>\n",
       "    </tr>\n",
       "  </tbody>\n",
       "</table>\n",
       "<p>5782 rows × 8 columns</p>\n",
       "</div>"
      ],
      "text/plain": [
       "      id release_date                                        movie  \\\n",
       "0      1   2009-12-18                                       Avatar   \n",
       "1      2   2011-05-20  Pirates of the Caribbean: On Stranger Tides   \n",
       "2      3   2019-06-07                                 Dark Phoenix   \n",
       "3      4   2015-05-01                      Avengers: Age of Ultron   \n",
       "4      5   2017-12-15            Star Wars Ep. VIII: The Last Jedi   \n",
       "...   ..          ...                                          ...   \n",
       "5777  78   2018-12-31                                       Red 11   \n",
       "5778  79   1999-04-02                                    Following   \n",
       "5779  80   2005-07-13                Return to the Land of Wonders   \n",
       "5780  81   2015-09-29                         A Plague So Pleasant   \n",
       "5781  82   2005-08-05                            My Date With Drew   \n",
       "\n",
       "     production_budget domestic_gross worldwide_gross release_year  \\\n",
       "0            425000000     2776345279      2776345279         2009   \n",
       "1            410600000     1045663875      1045663875         2011   \n",
       "2            350000000      149762350       149762350         2019   \n",
       "3            330600000     1403013963      1403013963         2015   \n",
       "4            317000000     1316721747      1316721747         2017   \n",
       "...                ...            ...             ...          ...   \n",
       "5777              7000              0               0         2018   \n",
       "5778              6000         240495          240495         1999   \n",
       "5779              5000           1338            1338         2005   \n",
       "5780              1400              0               0         2015   \n",
       "5781              1100         181041          181041         2005   \n",
       "\n",
       "                                            mov_yr_key  \n",
       "0                                          Avatar-2009  \n",
       "1     Pirates of the Caribbean: On Stranger Tides-2011  \n",
       "2                                    Dark Phoenix-2019  \n",
       "3                         Avengers: Age of Ultron-2015  \n",
       "4               Star Wars Ep. VIII: The Last Jedi-2017  \n",
       "...                                                ...  \n",
       "5777                                       Red 11-2018  \n",
       "5778                                    Following-1999  \n",
       "5779                Return to the Land of Wonders-2005  \n",
       "5780                         A Plague So Pleasant-2015  \n",
       "5781                            My Date With Drew-2005  \n",
       "\n",
       "[5782 rows x 8 columns]"
      ]
     },
     "execution_count": 48,
     "metadata": {},
     "output_type": "execute_result"
    }
   ],
   "source": [
    "df_tn"
   ]
  },
  {
   "cell_type": "code",
   "execution_count": 49,
   "metadata": {},
   "outputs": [],
   "source": [
    "df_tn['worldwide_gross'] = df_tn['worldwide_gross'].astype('int64')\n",
    "df_tn['production_budget'] = df_tn['production_budget'].astype('int64')\n",
    "df_tn['domestic_gross'] = df_tn['domestic_gross'].astype('int64')"
   ]
  },
  {
   "cell_type": "code",
   "execution_count": 50,
   "metadata": {},
   "outputs": [],
   "source": [
    "df_tn_dna = df_tn.dropna(subset=['worldwide_gross'])\n",
    "df_tn_dna = df_tn_dna.dropna(subset=['production_budget'])"
   ]
  },
  {
   "cell_type": "code",
   "execution_count": 51,
   "metadata": {},
   "outputs": [],
   "source": [
    "df_tn_dna['worldwide_profit'] = df_tn_dna['worldwide_gross'] - df_tn_dna['production_budget']"
   ]
  },
  {
   "cell_type": "markdown",
   "metadata": {},
   "source": [
    "# TM IMDB MERGE"
   ]
  },
  {
   "cell_type": "code",
   "execution_count": 39,
   "metadata": {},
   "outputs": [
    {
     "data": {
      "text/html": [
       "<div>\n",
       "<style scoped>\n",
       "    .dataframe tbody tr th:only-of-type {\n",
       "        vertical-align: middle;\n",
       "    }\n",
       "\n",
       "    .dataframe tbody tr th {\n",
       "        vertical-align: top;\n",
       "    }\n",
       "\n",
       "    .dataframe thead th {\n",
       "        text-align: right;\n",
       "    }\n",
       "</style>\n",
       "<table border=\"1\" class=\"dataframe\">\n",
       "  <thead>\n",
       "    <tr style=\"text-align: right;\">\n",
       "      <th></th>\n",
       "      <th>id</th>\n",
       "      <th>release_date</th>\n",
       "      <th>movie</th>\n",
       "      <th>production_budget</th>\n",
       "      <th>domestic_gross</th>\n",
       "      <th>worldwide_gross</th>\n",
       "      <th>release_year</th>\n",
       "      <th>mov_yr_key</th>\n",
       "      <th>worldwide_profit</th>\n",
       "    </tr>\n",
       "  </thead>\n",
       "  <tbody>\n",
       "    <tr>\n",
       "      <th>0</th>\n",
       "      <td>1</td>\n",
       "      <td>2009-12-18</td>\n",
       "      <td>Avatar</td>\n",
       "      <td>425000000</td>\n",
       "      <td>2776345279</td>\n",
       "      <td>2776345279</td>\n",
       "      <td>2009</td>\n",
       "      <td>Avatar-2009</td>\n",
       "      <td>2351345279</td>\n",
       "    </tr>\n",
       "    <tr>\n",
       "      <th>1</th>\n",
       "      <td>2</td>\n",
       "      <td>2011-05-20</td>\n",
       "      <td>Pirates of the Caribbean: On Stranger Tides</td>\n",
       "      <td>410600000</td>\n",
       "      <td>1045663875</td>\n",
       "      <td>1045663875</td>\n",
       "      <td>2011</td>\n",
       "      <td>Pirates of the Caribbean: On Stranger Tides-2011</td>\n",
       "      <td>635063875</td>\n",
       "    </tr>\n",
       "    <tr>\n",
       "      <th>2</th>\n",
       "      <td>3</td>\n",
       "      <td>2019-06-07</td>\n",
       "      <td>Dark Phoenix</td>\n",
       "      <td>350000000</td>\n",
       "      <td>149762350</td>\n",
       "      <td>149762350</td>\n",
       "      <td>2019</td>\n",
       "      <td>Dark Phoenix-2019</td>\n",
       "      <td>-200237650</td>\n",
       "    </tr>\n",
       "    <tr>\n",
       "      <th>3</th>\n",
       "      <td>4</td>\n",
       "      <td>2015-05-01</td>\n",
       "      <td>Avengers: Age of Ultron</td>\n",
       "      <td>330600000</td>\n",
       "      <td>1403013963</td>\n",
       "      <td>1403013963</td>\n",
       "      <td>2015</td>\n",
       "      <td>Avengers: Age of Ultron-2015</td>\n",
       "      <td>1072413963</td>\n",
       "    </tr>\n",
       "    <tr>\n",
       "      <th>4</th>\n",
       "      <td>5</td>\n",
       "      <td>2017-12-15</td>\n",
       "      <td>Star Wars Ep. VIII: The Last Jedi</td>\n",
       "      <td>317000000</td>\n",
       "      <td>1316721747</td>\n",
       "      <td>1316721747</td>\n",
       "      <td>2017</td>\n",
       "      <td>Star Wars Ep. VIII: The Last Jedi-2017</td>\n",
       "      <td>999721747</td>\n",
       "    </tr>\n",
       "    <tr>\n",
       "      <th>...</th>\n",
       "      <td>...</td>\n",
       "      <td>...</td>\n",
       "      <td>...</td>\n",
       "      <td>...</td>\n",
       "      <td>...</td>\n",
       "      <td>...</td>\n",
       "      <td>...</td>\n",
       "      <td>...</td>\n",
       "      <td>...</td>\n",
       "    </tr>\n",
       "    <tr>\n",
       "      <th>5777</th>\n",
       "      <td>78</td>\n",
       "      <td>2018-12-31</td>\n",
       "      <td>Red 11</td>\n",
       "      <td>7000</td>\n",
       "      <td>0</td>\n",
       "      <td>0</td>\n",
       "      <td>2018</td>\n",
       "      <td>Red 11-2018</td>\n",
       "      <td>-7000</td>\n",
       "    </tr>\n",
       "    <tr>\n",
       "      <th>5778</th>\n",
       "      <td>79</td>\n",
       "      <td>1999-04-02</td>\n",
       "      <td>Following</td>\n",
       "      <td>6000</td>\n",
       "      <td>240495</td>\n",
       "      <td>240495</td>\n",
       "      <td>1999</td>\n",
       "      <td>Following-1999</td>\n",
       "      <td>234495</td>\n",
       "    </tr>\n",
       "    <tr>\n",
       "      <th>5779</th>\n",
       "      <td>80</td>\n",
       "      <td>2005-07-13</td>\n",
       "      <td>Return to the Land of Wonders</td>\n",
       "      <td>5000</td>\n",
       "      <td>1338</td>\n",
       "      <td>1338</td>\n",
       "      <td>2005</td>\n",
       "      <td>Return to the Land of Wonders-2005</td>\n",
       "      <td>-3662</td>\n",
       "    </tr>\n",
       "    <tr>\n",
       "      <th>5780</th>\n",
       "      <td>81</td>\n",
       "      <td>2015-09-29</td>\n",
       "      <td>A Plague So Pleasant</td>\n",
       "      <td>1400</td>\n",
       "      <td>0</td>\n",
       "      <td>0</td>\n",
       "      <td>2015</td>\n",
       "      <td>A Plague So Pleasant-2015</td>\n",
       "      <td>-1400</td>\n",
       "    </tr>\n",
       "    <tr>\n",
       "      <th>5781</th>\n",
       "      <td>82</td>\n",
       "      <td>2005-08-05</td>\n",
       "      <td>My Date With Drew</td>\n",
       "      <td>1100</td>\n",
       "      <td>181041</td>\n",
       "      <td>181041</td>\n",
       "      <td>2005</td>\n",
       "      <td>My Date With Drew-2005</td>\n",
       "      <td>179941</td>\n",
       "    </tr>\n",
       "  </tbody>\n",
       "</table>\n",
       "<p>5782 rows × 9 columns</p>\n",
       "</div>"
      ],
      "text/plain": [
       "      id release_date                                        movie  \\\n",
       "0      1   2009-12-18                                       Avatar   \n",
       "1      2   2011-05-20  Pirates of the Caribbean: On Stranger Tides   \n",
       "2      3   2019-06-07                                 Dark Phoenix   \n",
       "3      4   2015-05-01                      Avengers: Age of Ultron   \n",
       "4      5   2017-12-15            Star Wars Ep. VIII: The Last Jedi   \n",
       "...   ..          ...                                          ...   \n",
       "5777  78   2018-12-31                                       Red 11   \n",
       "5778  79   1999-04-02                                    Following   \n",
       "5779  80   2005-07-13                Return to the Land of Wonders   \n",
       "5780  81   2015-09-29                         A Plague So Pleasant   \n",
       "5781  82   2005-08-05                            My Date With Drew   \n",
       "\n",
       "      production_budget  domestic_gross  worldwide_gross release_year  \\\n",
       "0             425000000      2776345279       2776345279         2009   \n",
       "1             410600000      1045663875       1045663875         2011   \n",
       "2             350000000       149762350        149762350         2019   \n",
       "3             330600000      1403013963       1403013963         2015   \n",
       "4             317000000      1316721747       1316721747         2017   \n",
       "...                 ...             ...              ...          ...   \n",
       "5777               7000               0                0         2018   \n",
       "5778               6000          240495           240495         1999   \n",
       "5779               5000            1338             1338         2005   \n",
       "5780               1400               0                0         2015   \n",
       "5781               1100          181041           181041         2005   \n",
       "\n",
       "                                            mov_yr_key  worldwide_profit  \n",
       "0                                          Avatar-2009        2351345279  \n",
       "1     Pirates of the Caribbean: On Stranger Tides-2011         635063875  \n",
       "2                                    Dark Phoenix-2019        -200237650  \n",
       "3                         Avengers: Age of Ultron-2015        1072413963  \n",
       "4               Star Wars Ep. VIII: The Last Jedi-2017         999721747  \n",
       "...                                                ...               ...  \n",
       "5777                                       Red 11-2018             -7000  \n",
       "5778                                    Following-1999            234495  \n",
       "5779                Return to the Land of Wonders-2005             -3662  \n",
       "5780                         A Plague So Pleasant-2015             -1400  \n",
       "5781                            My Date With Drew-2005            179941  \n",
       "\n",
       "[5782 rows x 9 columns]"
      ]
     },
     "execution_count": 39,
     "metadata": {},
     "output_type": "execute_result"
    }
   ],
   "source": [
    "df_tn_dna"
   ]
  },
  {
   "cell_type": "code",
   "execution_count": 52,
   "metadata": {},
   "outputs": [],
   "source": [
    "df_tn_imdb = df_tn_dna.merge(df_imdb,how='inner',left_on='mov_yr_key', right_on='mov_yr_key',suffixes=('_tn', '_imdb'))"
   ]
  },
  {
   "cell_type": "code",
   "execution_count": 44,
   "metadata": {},
   "outputs": [
    {
     "name": "stdout",
     "output_type": "stream",
     "text": [
      "<class 'pandas.core.frame.DataFrame'>\n",
      "Int64Index: 1547 entries, 0 to 1546\n",
      "Data columns (total 31 columns):\n",
      " #   Column                  Non-Null Count  Dtype         \n",
      "---  ------                  --------------  -----         \n",
      " 0   id                      1547 non-null   int64         \n",
      " 1   release_date            1547 non-null   datetime64[ns]\n",
      " 2   movie                   1547 non-null   object        \n",
      " 3   production_budget       1547 non-null   int64         \n",
      " 4   domestic_gross          1547 non-null   int64         \n",
      " 5   worldwide_gross         1547 non-null   int64         \n",
      " 6   release_year            1547 non-null   object        \n",
      " 7   mov_yr_key              1547 non-null   object        \n",
      " 8   worldwide_profit        1547 non-null   int64         \n",
      " 9   movie_id                1547 non-null   object        \n",
      " 10  primary_title           1547 non-null   object        \n",
      " 11  original_title          1547 non-null   object        \n",
      " 12  start_year              1547 non-null   int64         \n",
      " 13  runtime_minutes         1521 non-null   float64       \n",
      " 14  genres                  1541 non-null   object        \n",
      " 15  movie_id                1498 non-null   object        \n",
      " 16  averagerating           1498 non-null   float64       \n",
      " 17  numvotes                1498 non-null   float64       \n",
      " 18  movie_id                1541 non-null   object        \n",
      " 19  person_id               1541 non-null   object        \n",
      " 20  person_id               1541 non-null   object        \n",
      " 21  primary_name            1541 non-null   object        \n",
      " 22  birth_year              1078 non-null   float64       \n",
      " 23  death_year              13 non-null     float64       \n",
      " 24  primary_profession      1541 non-null   object        \n",
      " 25  year_str                1547 non-null   object        \n",
      " 26  Genre_1                 1541 non-null   object        \n",
      " 27  Genre_2                 1343 non-null   object        \n",
      " 28  Genre_3                 997 non-null    object        \n",
      " 29  rating_relative_to_avg  1498 non-null   float64       \n",
      " 30  pretty_gens             997 non-null    object        \n",
      "dtypes: datetime64[ns](1), float64(6), int64(6), object(18)\n",
      "memory usage: 386.8+ KB\n"
     ]
    }
   ],
   "source": [
    "df_tn_imdb.info()"
   ]
  },
  {
   "cell_type": "code",
   "execution_count": 49,
   "metadata": {},
   "outputs": [],
   "source": [
    "df_tn_imdb['pretty_gens'] = np.NaN"
   ]
  },
  {
   "cell_type": "code",
   "execution_count": 55,
   "metadata": {},
   "outputs": [],
   "source": [
    "gens_rating = df_tn_imdb.loc[:, [\"Genre_1\",\"Genre_2\",\"Genre_3\", \"averagerating\", \"numvotes\", 'start_year']]"
   ]
  },
  {
   "cell_type": "code",
   "execution_count": 58,
   "metadata": {},
   "outputs": [
    {
     "name": "stderr",
     "output_type": "stream",
     "text": [
      "<ipython-input-58-906ffb2eac56>:1: UserWarning: Boolean Series key will be reindexed to match DataFrame index.\n",
      "  gens_rating_filt = gens_rating[(gens_rating['numvotes'] >= 100000) & (df_imdb['start_year'] >= 2012)]\n"
     ]
    }
   ],
   "source": [
    "gens_rating_filt = gens_rating[(gens_rating['numvotes'] >= 100000) & (df_imdb['start_year'] >= 2012)]"
   ]
  },
  {
   "cell_type": "code",
   "execution_count": 60,
   "metadata": {},
   "outputs": [],
   "source": [
    "gens_rating_filt = gens_rating_filt.loc[:, [\"Genre_1\",\"Genre_2\",\"Genre_3\", \"averagerating\",]]"
   ]
  },
  {
   "cell_type": "code",
   "execution_count": 61,
   "metadata": {},
   "outputs": [
    {
     "data": {
      "text/html": [
       "<div>\n",
       "<style scoped>\n",
       "    .dataframe tbody tr th:only-of-type {\n",
       "        vertical-align: middle;\n",
       "    }\n",
       "\n",
       "    .dataframe tbody tr th {\n",
       "        vertical-align: top;\n",
       "    }\n",
       "\n",
       "    .dataframe thead th {\n",
       "        text-align: right;\n",
       "    }\n",
       "</style>\n",
       "<table border=\"1\" class=\"dataframe\">\n",
       "  <thead>\n",
       "    <tr style=\"text-align: right;\">\n",
       "      <th></th>\n",
       "      <th>Genre_1</th>\n",
       "      <th>Genre_2</th>\n",
       "      <th>Genre_3</th>\n",
       "      <th>averagerating</th>\n",
       "    </tr>\n",
       "  </thead>\n",
       "  <tbody>\n",
       "    <tr>\n",
       "      <th>0</th>\n",
       "      <td>Action</td>\n",
       "      <td>Adventure</td>\n",
       "      <td>Fantasy</td>\n",
       "      <td>6.6</td>\n",
       "    </tr>\n",
       "    <tr>\n",
       "      <th>2</th>\n",
       "      <td>Action</td>\n",
       "      <td>Adventure</td>\n",
       "      <td>Sci-Fi</td>\n",
       "      <td>7.3</td>\n",
       "    </tr>\n",
       "    <tr>\n",
       "      <th>3</th>\n",
       "      <td>Action</td>\n",
       "      <td>Adventure</td>\n",
       "      <td>Sci-Fi</td>\n",
       "      <td>8.5</td>\n",
       "    </tr>\n",
       "    <tr>\n",
       "      <th>4</th>\n",
       "      <td>Action</td>\n",
       "      <td>Adventure</td>\n",
       "      <td>Fantasy</td>\n",
       "      <td>6.5</td>\n",
       "    </tr>\n",
       "    <tr>\n",
       "      <th>5</th>\n",
       "      <td>Action</td>\n",
       "      <td>Adventure</td>\n",
       "      <td>Thriller</td>\n",
       "      <td>6.8</td>\n",
       "    </tr>\n",
       "    <tr>\n",
       "      <th>...</th>\n",
       "      <td>...</td>\n",
       "      <td>...</td>\n",
       "      <td>...</td>\n",
       "      <td>...</td>\n",
       "    </tr>\n",
       "    <tr>\n",
       "      <th>1383</th>\n",
       "      <td>Drama</td>\n",
       "      <td>Mystery</td>\n",
       "      <td>Thriller</td>\n",
       "      <td>7.0</td>\n",
       "    </tr>\n",
       "    <tr>\n",
       "      <th>1398</th>\n",
       "      <td>Drama</td>\n",
       "      <td>None</td>\n",
       "      <td>None</td>\n",
       "      <td>7.4</td>\n",
       "    </tr>\n",
       "    <tr>\n",
       "      <th>1425</th>\n",
       "      <td>Drama</td>\n",
       "      <td>Romance</td>\n",
       "      <td>None</td>\n",
       "      <td>7.4</td>\n",
       "    </tr>\n",
       "    <tr>\n",
       "      <th>1434</th>\n",
       "      <td>Drama</td>\n",
       "      <td>Romance</td>\n",
       "      <td>Sci-Fi</td>\n",
       "      <td>7.4</td>\n",
       "    </tr>\n",
       "    <tr>\n",
       "      <th>1459</th>\n",
       "      <td>Comedy</td>\n",
       "      <td>Drama</td>\n",
       "      <td>Romance</td>\n",
       "      <td>7.0</td>\n",
       "    </tr>\n",
       "  </tbody>\n",
       "</table>\n",
       "<p>325 rows × 4 columns</p>\n",
       "</div>"
      ],
      "text/plain": [
       "     Genre_1    Genre_2   Genre_3  averagerating\n",
       "0     Action  Adventure   Fantasy            6.6\n",
       "2     Action  Adventure    Sci-Fi            7.3\n",
       "3     Action  Adventure    Sci-Fi            8.5\n",
       "4     Action  Adventure   Fantasy            6.5\n",
       "5     Action  Adventure  Thriller            6.8\n",
       "...      ...        ...       ...            ...\n",
       "1383   Drama    Mystery  Thriller            7.0\n",
       "1398   Drama       None      None            7.4\n",
       "1425   Drama    Romance      None            7.4\n",
       "1434   Drama    Romance    Sci-Fi            7.4\n",
       "1459  Comedy      Drama   Romance            7.0\n",
       "\n",
       "[325 rows x 4 columns]"
      ]
     },
     "execution_count": 61,
     "metadata": {},
     "output_type": "execute_result"
    }
   ],
   "source": [
    "gens_rating_filt"
   ]
  },
  {
   "cell_type": "code",
   "execution_count": 88,
   "metadata": {},
   "outputs": [],
   "source": [
    "# average averge ratign where loc cols = action\n",
    "testt = gens_rating_filt.groupby(['Genre_1', 'Genre_2','Genre_3']).mean().reset_index(inplace=False)"
   ]
  },
  {
   "cell_type": "code",
   "execution_count": 74,
   "metadata": {},
   "outputs": [
    {
     "data": {
      "text/plain": [
       "0      0\n",
       "1      1\n",
       "2      2\n",
       "3      3\n",
       "4      4\n",
       "      ..\n",
       "72    72\n",
       "73    73\n",
       "74    74\n",
       "75    75\n",
       "76    76\n",
       "Length: 77, dtype: int64"
      ]
     },
     "execution_count": 74,
     "metadata": {},
     "output_type": "execute_result"
    }
   ],
   "source": [
    "ind = pd.Series(range(0,77))\n",
    "ind"
   ]
  },
  {
   "cell_type": "code",
   "execution_count": 89,
   "metadata": {},
   "outputs": [
    {
     "data": {
      "text/html": [
       "<div>\n",
       "<style scoped>\n",
       "    .dataframe tbody tr th:only-of-type {\n",
       "        vertical-align: middle;\n",
       "    }\n",
       "\n",
       "    .dataframe tbody tr th {\n",
       "        vertical-align: top;\n",
       "    }\n",
       "\n",
       "    .dataframe thead th {\n",
       "        text-align: right;\n",
       "    }\n",
       "</style>\n",
       "<table border=\"1\" class=\"dataframe\">\n",
       "  <thead>\n",
       "    <tr style=\"text-align: right;\">\n",
       "      <th></th>\n",
       "      <th>Genre_1</th>\n",
       "      <th>Genre_2</th>\n",
       "      <th>Genre_3</th>\n",
       "      <th>averagerating</th>\n",
       "    </tr>\n",
       "  </thead>\n",
       "  <tbody>\n",
       "    <tr>\n",
       "      <th>0</th>\n",
       "      <td>Action</td>\n",
       "      <td>Adventure</td>\n",
       "      <td>Animation</td>\n",
       "      <td>7.385714</td>\n",
       "    </tr>\n",
       "    <tr>\n",
       "      <th>1</th>\n",
       "      <td>Action</td>\n",
       "      <td>Adventure</td>\n",
       "      <td>Biography</td>\n",
       "      <td>7.550000</td>\n",
       "    </tr>\n",
       "    <tr>\n",
       "      <th>2</th>\n",
       "      <td>Action</td>\n",
       "      <td>Adventure</td>\n",
       "      <td>Comedy</td>\n",
       "      <td>6.842857</td>\n",
       "    </tr>\n",
       "    <tr>\n",
       "      <th>3</th>\n",
       "      <td>Action</td>\n",
       "      <td>Adventure</td>\n",
       "      <td>Crime</td>\n",
       "      <td>6.933333</td>\n",
       "    </tr>\n",
       "    <tr>\n",
       "      <th>4</th>\n",
       "      <td>Action</td>\n",
       "      <td>Adventure</td>\n",
       "      <td>Drama</td>\n",
       "      <td>6.055556</td>\n",
       "    </tr>\n",
       "    <tr>\n",
       "      <th>...</th>\n",
       "      <td>...</td>\n",
       "      <td>...</td>\n",
       "      <td>...</td>\n",
       "      <td>...</td>\n",
       "    </tr>\n",
       "    <tr>\n",
       "      <th>72</th>\n",
       "      <td>Drama</td>\n",
       "      <td>Sci-Fi</td>\n",
       "      <td>Thriller</td>\n",
       "      <td>6.950000</td>\n",
       "    </tr>\n",
       "    <tr>\n",
       "      <th>73</th>\n",
       "      <td>Fantasy</td>\n",
       "      <td>Horror</td>\n",
       "      <td>Thriller</td>\n",
       "      <td>6.500000</td>\n",
       "    </tr>\n",
       "    <tr>\n",
       "      <th>74</th>\n",
       "      <td>Horror</td>\n",
       "      <td>Mystery</td>\n",
       "      <td>Thriller</td>\n",
       "      <td>6.700000</td>\n",
       "    </tr>\n",
       "    <tr>\n",
       "      <th>75</th>\n",
       "      <td>Horror</td>\n",
       "      <td>Sci-Fi</td>\n",
       "      <td>Thriller</td>\n",
       "      <td>6.400000</td>\n",
       "    </tr>\n",
       "    <tr>\n",
       "      <th>76</th>\n",
       "      <td>Mystery</td>\n",
       "      <td>Sci-Fi</td>\n",
       "      <td>Thriller</td>\n",
       "      <td>7.200000</td>\n",
       "    </tr>\n",
       "  </tbody>\n",
       "</table>\n",
       "<p>77 rows × 4 columns</p>\n",
       "</div>"
      ],
      "text/plain": [
       "    Genre_1    Genre_2    Genre_3  averagerating\n",
       "0    Action  Adventure  Animation       7.385714\n",
       "1    Action  Adventure  Biography       7.550000\n",
       "2    Action  Adventure     Comedy       6.842857\n",
       "3    Action  Adventure      Crime       6.933333\n",
       "4    Action  Adventure      Drama       6.055556\n",
       "..      ...        ...        ...            ...\n",
       "72    Drama     Sci-Fi   Thriller       6.950000\n",
       "73  Fantasy     Horror   Thriller       6.500000\n",
       "74   Horror    Mystery   Thriller       6.700000\n",
       "75   Horror     Sci-Fi   Thriller       6.400000\n",
       "76  Mystery     Sci-Fi   Thriller       7.200000\n",
       "\n",
       "[77 rows x 4 columns]"
      ]
     },
     "execution_count": 89,
     "metadata": {},
     "output_type": "execute_result"
    }
   ],
   "source": [
    "testt"
   ]
  },
  {
   "cell_type": "code",
   "execution_count": 85,
   "metadata": {},
   "outputs": [
    {
     "data": {
      "text/html": [
       "<div>\n",
       "<style scoped>\n",
       "    .dataframe tbody tr th:only-of-type {\n",
       "        vertical-align: middle;\n",
       "    }\n",
       "\n",
       "    .dataframe tbody tr th {\n",
       "        vertical-align: top;\n",
       "    }\n",
       "\n",
       "    .dataframe thead th {\n",
       "        text-align: right;\n",
       "    }\n",
       "</style>\n",
       "<table border=\"1\" class=\"dataframe\">\n",
       "  <thead>\n",
       "    <tr style=\"text-align: right;\">\n",
       "      <th></th>\n",
       "      <th>averagerating</th>\n",
       "      <th>ind</th>\n",
       "    </tr>\n",
       "  </thead>\n",
       "  <tbody>\n",
       "    <tr>\n",
       "      <th>0</th>\n",
       "      <td>7.385714</td>\n",
       "      <td>NaN</td>\n",
       "    </tr>\n",
       "    <tr>\n",
       "      <th>1</th>\n",
       "      <td>7.550000</td>\n",
       "      <td>NaN</td>\n",
       "    </tr>\n",
       "    <tr>\n",
       "      <th>2</th>\n",
       "      <td>6.842857</td>\n",
       "      <td>NaN</td>\n",
       "    </tr>\n",
       "    <tr>\n",
       "      <th>3</th>\n",
       "      <td>6.933333</td>\n",
       "      <td>NaN</td>\n",
       "    </tr>\n",
       "    <tr>\n",
       "      <th>4</th>\n",
       "      <td>6.055556</td>\n",
       "      <td>NaN</td>\n",
       "    </tr>\n",
       "    <tr>\n",
       "      <th>...</th>\n",
       "      <td>...</td>\n",
       "      <td>...</td>\n",
       "    </tr>\n",
       "    <tr>\n",
       "      <th>72</th>\n",
       "      <td>6.950000</td>\n",
       "      <td>NaN</td>\n",
       "    </tr>\n",
       "    <tr>\n",
       "      <th>73</th>\n",
       "      <td>6.500000</td>\n",
       "      <td>NaN</td>\n",
       "    </tr>\n",
       "    <tr>\n",
       "      <th>74</th>\n",
       "      <td>6.700000</td>\n",
       "      <td>NaN</td>\n",
       "    </tr>\n",
       "    <tr>\n",
       "      <th>75</th>\n",
       "      <td>6.400000</td>\n",
       "      <td>NaN</td>\n",
       "    </tr>\n",
       "    <tr>\n",
       "      <th>76</th>\n",
       "      <td>7.200000</td>\n",
       "      <td>NaN</td>\n",
       "    </tr>\n",
       "  </tbody>\n",
       "</table>\n",
       "<p>77 rows × 2 columns</p>\n",
       "</div>"
      ],
      "text/plain": [
       "    averagerating  ind\n",
       "0        7.385714  NaN\n",
       "1        7.550000  NaN\n",
       "2        6.842857  NaN\n",
       "3        6.933333  NaN\n",
       "4        6.055556  NaN\n",
       "..            ...  ...\n",
       "72       6.950000  NaN\n",
       "73       6.500000  NaN\n",
       "74       6.700000  NaN\n",
       "75       6.400000  NaN\n",
       "76       7.200000  NaN\n",
       "\n",
       "[77 rows x 2 columns]"
      ]
     },
     "execution_count": 85,
     "metadata": {},
     "output_type": "execute_result"
    }
   ],
   "source": [
    "es"
   ]
  },
  {
   "cell_type": "code",
   "execution_count": 62,
   "metadata": {},
   "outputs": [
    {
     "data": {
      "text/html": [
       "<div>\n",
       "<style scoped>\n",
       "    .dataframe tbody tr th:only-of-type {\n",
       "        vertical-align: middle;\n",
       "    }\n",
       "\n",
       "    .dataframe tbody tr th {\n",
       "        vertical-align: top;\n",
       "    }\n",
       "\n",
       "    .dataframe thead th {\n",
       "        text-align: right;\n",
       "    }\n",
       "</style>\n",
       "<table border=\"1\" class=\"dataframe\">\n",
       "  <thead>\n",
       "    <tr style=\"text-align: right;\">\n",
       "      <th></th>\n",
       "      <th>averagerating</th>\n",
       "      <th>Genre_1_Action</th>\n",
       "      <th>Genre_1_Adventure</th>\n",
       "      <th>Genre_1_Biography</th>\n",
       "      <th>Genre_1_Comedy</th>\n",
       "      <th>Genre_1_Crime</th>\n",
       "      <th>Genre_1_Drama</th>\n",
       "      <th>Genre_1_Fantasy</th>\n",
       "      <th>Genre_1_Horror</th>\n",
       "      <th>Genre_1_Mystery</th>\n",
       "      <th>...</th>\n",
       "      <th>Genre_3_Horror</th>\n",
       "      <th>Genre_3_Music</th>\n",
       "      <th>Genre_3_Musical</th>\n",
       "      <th>Genre_3_Mystery</th>\n",
       "      <th>Genre_3_Romance</th>\n",
       "      <th>Genre_3_Sci-Fi</th>\n",
       "      <th>Genre_3_Sport</th>\n",
       "      <th>Genre_3_Thriller</th>\n",
       "      <th>Genre_3_War</th>\n",
       "      <th>Genre_3_Western</th>\n",
       "    </tr>\n",
       "  </thead>\n",
       "  <tbody>\n",
       "    <tr>\n",
       "      <th>0</th>\n",
       "      <td>6.6</td>\n",
       "      <td>1</td>\n",
       "      <td>0</td>\n",
       "      <td>0</td>\n",
       "      <td>0</td>\n",
       "      <td>0</td>\n",
       "      <td>0</td>\n",
       "      <td>0</td>\n",
       "      <td>0</td>\n",
       "      <td>0</td>\n",
       "      <td>...</td>\n",
       "      <td>0</td>\n",
       "      <td>0</td>\n",
       "      <td>0</td>\n",
       "      <td>0</td>\n",
       "      <td>0</td>\n",
       "      <td>0</td>\n",
       "      <td>0</td>\n",
       "      <td>0</td>\n",
       "      <td>0</td>\n",
       "      <td>0</td>\n",
       "    </tr>\n",
       "    <tr>\n",
       "      <th>2</th>\n",
       "      <td>7.3</td>\n",
       "      <td>1</td>\n",
       "      <td>0</td>\n",
       "      <td>0</td>\n",
       "      <td>0</td>\n",
       "      <td>0</td>\n",
       "      <td>0</td>\n",
       "      <td>0</td>\n",
       "      <td>0</td>\n",
       "      <td>0</td>\n",
       "      <td>...</td>\n",
       "      <td>0</td>\n",
       "      <td>0</td>\n",
       "      <td>0</td>\n",
       "      <td>0</td>\n",
       "      <td>0</td>\n",
       "      <td>1</td>\n",
       "      <td>0</td>\n",
       "      <td>0</td>\n",
       "      <td>0</td>\n",
       "      <td>0</td>\n",
       "    </tr>\n",
       "    <tr>\n",
       "      <th>3</th>\n",
       "      <td>8.5</td>\n",
       "      <td>1</td>\n",
       "      <td>0</td>\n",
       "      <td>0</td>\n",
       "      <td>0</td>\n",
       "      <td>0</td>\n",
       "      <td>0</td>\n",
       "      <td>0</td>\n",
       "      <td>0</td>\n",
       "      <td>0</td>\n",
       "      <td>...</td>\n",
       "      <td>0</td>\n",
       "      <td>0</td>\n",
       "      <td>0</td>\n",
       "      <td>0</td>\n",
       "      <td>0</td>\n",
       "      <td>1</td>\n",
       "      <td>0</td>\n",
       "      <td>0</td>\n",
       "      <td>0</td>\n",
       "      <td>0</td>\n",
       "    </tr>\n",
       "    <tr>\n",
       "      <th>4</th>\n",
       "      <td>6.5</td>\n",
       "      <td>1</td>\n",
       "      <td>0</td>\n",
       "      <td>0</td>\n",
       "      <td>0</td>\n",
       "      <td>0</td>\n",
       "      <td>0</td>\n",
       "      <td>0</td>\n",
       "      <td>0</td>\n",
       "      <td>0</td>\n",
       "      <td>...</td>\n",
       "      <td>0</td>\n",
       "      <td>0</td>\n",
       "      <td>0</td>\n",
       "      <td>0</td>\n",
       "      <td>0</td>\n",
       "      <td>0</td>\n",
       "      <td>0</td>\n",
       "      <td>0</td>\n",
       "      <td>0</td>\n",
       "      <td>0</td>\n",
       "    </tr>\n",
       "    <tr>\n",
       "      <th>5</th>\n",
       "      <td>6.8</td>\n",
       "      <td>1</td>\n",
       "      <td>0</td>\n",
       "      <td>0</td>\n",
       "      <td>0</td>\n",
       "      <td>0</td>\n",
       "      <td>0</td>\n",
       "      <td>0</td>\n",
       "      <td>0</td>\n",
       "      <td>0</td>\n",
       "      <td>...</td>\n",
       "      <td>0</td>\n",
       "      <td>0</td>\n",
       "      <td>0</td>\n",
       "      <td>0</td>\n",
       "      <td>0</td>\n",
       "      <td>0</td>\n",
       "      <td>0</td>\n",
       "      <td>1</td>\n",
       "      <td>0</td>\n",
       "      <td>0</td>\n",
       "    </tr>\n",
       "    <tr>\n",
       "      <th>...</th>\n",
       "      <td>...</td>\n",
       "      <td>...</td>\n",
       "      <td>...</td>\n",
       "      <td>...</td>\n",
       "      <td>...</td>\n",
       "      <td>...</td>\n",
       "      <td>...</td>\n",
       "      <td>...</td>\n",
       "      <td>...</td>\n",
       "      <td>...</td>\n",
       "      <td>...</td>\n",
       "      <td>...</td>\n",
       "      <td>...</td>\n",
       "      <td>...</td>\n",
       "      <td>...</td>\n",
       "      <td>...</td>\n",
       "      <td>...</td>\n",
       "      <td>...</td>\n",
       "      <td>...</td>\n",
       "      <td>...</td>\n",
       "      <td>...</td>\n",
       "    </tr>\n",
       "    <tr>\n",
       "      <th>1383</th>\n",
       "      <td>7.0</td>\n",
       "      <td>0</td>\n",
       "      <td>0</td>\n",
       "      <td>0</td>\n",
       "      <td>0</td>\n",
       "      <td>0</td>\n",
       "      <td>1</td>\n",
       "      <td>0</td>\n",
       "      <td>0</td>\n",
       "      <td>0</td>\n",
       "      <td>...</td>\n",
       "      <td>0</td>\n",
       "      <td>0</td>\n",
       "      <td>0</td>\n",
       "      <td>0</td>\n",
       "      <td>0</td>\n",
       "      <td>0</td>\n",
       "      <td>0</td>\n",
       "      <td>1</td>\n",
       "      <td>0</td>\n",
       "      <td>0</td>\n",
       "    </tr>\n",
       "    <tr>\n",
       "      <th>1398</th>\n",
       "      <td>7.4</td>\n",
       "      <td>0</td>\n",
       "      <td>0</td>\n",
       "      <td>0</td>\n",
       "      <td>0</td>\n",
       "      <td>0</td>\n",
       "      <td>1</td>\n",
       "      <td>0</td>\n",
       "      <td>0</td>\n",
       "      <td>0</td>\n",
       "      <td>...</td>\n",
       "      <td>0</td>\n",
       "      <td>0</td>\n",
       "      <td>0</td>\n",
       "      <td>0</td>\n",
       "      <td>0</td>\n",
       "      <td>0</td>\n",
       "      <td>0</td>\n",
       "      <td>0</td>\n",
       "      <td>0</td>\n",
       "      <td>0</td>\n",
       "    </tr>\n",
       "    <tr>\n",
       "      <th>1425</th>\n",
       "      <td>7.4</td>\n",
       "      <td>0</td>\n",
       "      <td>0</td>\n",
       "      <td>0</td>\n",
       "      <td>0</td>\n",
       "      <td>0</td>\n",
       "      <td>1</td>\n",
       "      <td>0</td>\n",
       "      <td>0</td>\n",
       "      <td>0</td>\n",
       "      <td>...</td>\n",
       "      <td>0</td>\n",
       "      <td>0</td>\n",
       "      <td>0</td>\n",
       "      <td>0</td>\n",
       "      <td>0</td>\n",
       "      <td>0</td>\n",
       "      <td>0</td>\n",
       "      <td>0</td>\n",
       "      <td>0</td>\n",
       "      <td>0</td>\n",
       "    </tr>\n",
       "    <tr>\n",
       "      <th>1434</th>\n",
       "      <td>7.4</td>\n",
       "      <td>0</td>\n",
       "      <td>0</td>\n",
       "      <td>0</td>\n",
       "      <td>0</td>\n",
       "      <td>0</td>\n",
       "      <td>1</td>\n",
       "      <td>0</td>\n",
       "      <td>0</td>\n",
       "      <td>0</td>\n",
       "      <td>...</td>\n",
       "      <td>0</td>\n",
       "      <td>0</td>\n",
       "      <td>0</td>\n",
       "      <td>0</td>\n",
       "      <td>0</td>\n",
       "      <td>1</td>\n",
       "      <td>0</td>\n",
       "      <td>0</td>\n",
       "      <td>0</td>\n",
       "      <td>0</td>\n",
       "    </tr>\n",
       "    <tr>\n",
       "      <th>1459</th>\n",
       "      <td>7.0</td>\n",
       "      <td>0</td>\n",
       "      <td>0</td>\n",
       "      <td>0</td>\n",
       "      <td>1</td>\n",
       "      <td>0</td>\n",
       "      <td>0</td>\n",
       "      <td>0</td>\n",
       "      <td>0</td>\n",
       "      <td>0</td>\n",
       "      <td>...</td>\n",
       "      <td>0</td>\n",
       "      <td>0</td>\n",
       "      <td>0</td>\n",
       "      <td>0</td>\n",
       "      <td>1</td>\n",
       "      <td>0</td>\n",
       "      <td>0</td>\n",
       "      <td>0</td>\n",
       "      <td>0</td>\n",
       "      <td>0</td>\n",
       "    </tr>\n",
       "  </tbody>\n",
       "</table>\n",
       "<p>325 rows × 45 columns</p>\n",
       "</div>"
      ],
      "text/plain": [
       "      averagerating  Genre_1_Action  Genre_1_Adventure  Genre_1_Biography  \\\n",
       "0               6.6               1                  0                  0   \n",
       "2               7.3               1                  0                  0   \n",
       "3               8.5               1                  0                  0   \n",
       "4               6.5               1                  0                  0   \n",
       "5               6.8               1                  0                  0   \n",
       "...             ...             ...                ...                ...   \n",
       "1383            7.0               0                  0                  0   \n",
       "1398            7.4               0                  0                  0   \n",
       "1425            7.4               0                  0                  0   \n",
       "1434            7.4               0                  0                  0   \n",
       "1459            7.0               0                  0                  0   \n",
       "\n",
       "      Genre_1_Comedy  Genre_1_Crime  Genre_1_Drama  Genre_1_Fantasy  \\\n",
       "0                  0              0              0                0   \n",
       "2                  0              0              0                0   \n",
       "3                  0              0              0                0   \n",
       "4                  0              0              0                0   \n",
       "5                  0              0              0                0   \n",
       "...              ...            ...            ...              ...   \n",
       "1383               0              0              1                0   \n",
       "1398               0              0              1                0   \n",
       "1425               0              0              1                0   \n",
       "1434               0              0              1                0   \n",
       "1459               1              0              0                0   \n",
       "\n",
       "      Genre_1_Horror  Genre_1_Mystery  ...  Genre_3_Horror  Genre_3_Music  \\\n",
       "0                  0                0  ...               0              0   \n",
       "2                  0                0  ...               0              0   \n",
       "3                  0                0  ...               0              0   \n",
       "4                  0                0  ...               0              0   \n",
       "5                  0                0  ...               0              0   \n",
       "...              ...              ...  ...             ...            ...   \n",
       "1383               0                0  ...               0              0   \n",
       "1398               0                0  ...               0              0   \n",
       "1425               0                0  ...               0              0   \n",
       "1434               0                0  ...               0              0   \n",
       "1459               0                0  ...               0              0   \n",
       "\n",
       "      Genre_3_Musical  Genre_3_Mystery  Genre_3_Romance  Genre_3_Sci-Fi  \\\n",
       "0                   0                0                0               0   \n",
       "2                   0                0                0               1   \n",
       "3                   0                0                0               1   \n",
       "4                   0                0                0               0   \n",
       "5                   0                0                0               0   \n",
       "...               ...              ...              ...             ...   \n",
       "1383                0                0                0               0   \n",
       "1398                0                0                0               0   \n",
       "1425                0                0                0               0   \n",
       "1434                0                0                0               1   \n",
       "1459                0                0                1               0   \n",
       "\n",
       "      Genre_3_Sport  Genre_3_Thriller  Genre_3_War  Genre_3_Western  \n",
       "0                 0                 0            0                0  \n",
       "2                 0                 0            0                0  \n",
       "3                 0                 0            0                0  \n",
       "4                 0                 0            0                0  \n",
       "5                 0                 1            0                0  \n",
       "...             ...               ...          ...              ...  \n",
       "1383              0                 1            0                0  \n",
       "1398              0                 0            0                0  \n",
       "1425              0                 0            0                0  \n",
       "1434              0                 0            0                0  \n",
       "1459              0                 0            0                0  \n",
       "\n",
       "[325 rows x 45 columns]"
      ]
     },
     "execution_count": 62,
     "metadata": {},
     "output_type": "execute_result"
    }
   ],
   "source": [
    "pd.get_dummies(gens_rating_filt)"
   ]
  },
  {
   "cell_type": "code",
   "execution_count": 50,
   "metadata": {},
   "outputs": [
    {
     "ename": "TypeError",
     "evalue": "string indices must be integers",
     "output_type": "error",
     "traceback": [
      "\u001b[1;31m---------------------------------------------------------------------------\u001b[0m",
      "\u001b[1;31mTypeError\u001b[0m                                 Traceback (most recent call last)",
      "\u001b[1;32m<ipython-input-50-05a367a6cee9>\u001b[0m in \u001b[0;36m<module>\u001b[1;34m\u001b[0m\n\u001b[0;32m      1\u001b[0m \u001b[1;32mfor\u001b[0m \u001b[0mgen\u001b[0m \u001b[1;32min\u001b[0m \u001b[0mdf_tn_imdb\u001b[0m\u001b[1;33m:\u001b[0m\u001b[1;33m\u001b[0m\u001b[1;33m\u001b[0m\u001b[0m\n\u001b[1;32m----> 2\u001b[1;33m     \u001b[1;32mif\u001b[0m \u001b[0mgen\u001b[0m\u001b[1;33m[\u001b[0m\u001b[1;34m'Genre_3'\u001b[0m\u001b[1;33m]\u001b[0m\u001b[1;33m.\u001b[0m\u001b[0mnotnull\u001b[0m\u001b[1;33m(\u001b[0m\u001b[1;33m)\u001b[0m \u001b[1;33m==\u001b[0m \u001b[1;32mTrue\u001b[0m\u001b[1;33m:\u001b[0m\u001b[1;33m\u001b[0m\u001b[1;33m\u001b[0m\u001b[0m\n\u001b[0m\u001b[0;32m      3\u001b[0m             \u001b[0mgen\u001b[0m\u001b[1;33m[\u001b[0m\u001b[1;34m'pretty_gens'\u001b[0m\u001b[1;33m]\u001b[0m \u001b[1;33m=\u001b[0m \u001b[0mdf_tn_imdb\u001b[0m\u001b[1;33m[\u001b[0m\u001b[1;34m'Genre_1'\u001b[0m\u001b[1;33m]\u001b[0m \u001b[1;33m+\u001b[0m \u001b[1;34m\" - \"\u001b[0m \u001b[1;33m+\u001b[0m \u001b[0mdf_tn_imdb\u001b[0m\u001b[1;33m[\u001b[0m\u001b[1;34m'Genre_2'\u001b[0m\u001b[1;33m]\u001b[0m \u001b[1;33m+\u001b[0m \u001b[1;34m\" - \"\u001b[0m \u001b[1;33m+\u001b[0m \u001b[0mdf_tn_imdb\u001b[0m\u001b[1;33m[\u001b[0m\u001b[1;34m'Genre_3'\u001b[0m\u001b[1;33m]\u001b[0m\u001b[1;33m\u001b[0m\u001b[1;33m\u001b[0m\u001b[0m\n\u001b[0;32m      4\u001b[0m     \u001b[1;32melif\u001b[0m \u001b[0mgen\u001b[0m\u001b[1;33m[\u001b[0m\u001b[1;34m'Genre_2'\u001b[0m\u001b[1;33m]\u001b[0m\u001b[1;33m.\u001b[0m\u001b[0mnotnull\u001b[0m\u001b[1;33m(\u001b[0m\u001b[1;33m)\u001b[0m \u001b[1;33m==\u001b[0m \u001b[1;32mTrue\u001b[0m\u001b[1;33m:\u001b[0m\u001b[1;33m\u001b[0m\u001b[1;33m\u001b[0m\u001b[0m\n\u001b[0;32m      5\u001b[0m             \u001b[0mgen\u001b[0m\u001b[1;33m[\u001b[0m\u001b[1;34m'pretty_gens'\u001b[0m\u001b[1;33m]\u001b[0m \u001b[1;33m=\u001b[0m \u001b[0mdf_tn_imdb\u001b[0m\u001b[1;33m[\u001b[0m\u001b[1;34m'Genre_1'\u001b[0m\u001b[1;33m]\u001b[0m \u001b[1;33m+\u001b[0m \u001b[1;34m\" - \"\u001b[0m \u001b[1;33m+\u001b[0m \u001b[0mdf_tn_imdb\u001b[0m\u001b[1;33m[\u001b[0m\u001b[1;34m'Genre_2'\u001b[0m\u001b[1;33m]\u001b[0m\u001b[1;33m\u001b[0m\u001b[1;33m\u001b[0m\u001b[0m\n",
      "\u001b[1;31mTypeError\u001b[0m: string indices must be integers"
     ]
    }
   ],
   "source": [
    "for gen in df_tn_imdb:\n",
    "    if gen['Genre_3'].notnull() == True:\n",
    "            gen['pretty_gens'] = df_tn_imdb['Genre_1'] + \" - \" + df_tn_imdb['Genre_2'] + \" - \" + df_tn_imdb['Genre_3']\n",
    "    elif gen['Genre_2'].notnull() == True:\n",
    "            gen['pretty_gens'] = df_tn_imdb['Genre_1'] + \" - \" + df_tn_imdb['Genre_2']\n",
    "    elif gen['Genre_1'].notnull() == True:\n",
    "            gen['pretty_gens'] = df_tn_imdb['Genre_1']\n",
    "    else:\n",
    "        gen['pretty_gens'] = np.NaN"
   ]
  },
  {
   "cell_type": "code",
   "execution_count": null,
   "metadata": {},
   "outputs": [],
   "source": [
    "df_tn_imdb.sort_values('worldwide_profit', ascending=False)"
   ]
  },
  {
   "cell_type": "code",
   "execution_count": 53,
   "metadata": {},
   "outputs": [
    {
     "name": "stderr",
     "output_type": "stream",
     "text": [
      "<ipython-input-53-efdde6b187b4>:1: UserWarning: Boolean Series key will be reindexed to match DataFrame index.\n",
      "  df_tn_imdb_filt = df_tn_imdb[(df_tn_imdb['numvotes'] >= 100000) & (df_imdb['start_year'] >= 2012)]\n"
     ]
    }
   ],
   "source": [
    "df_tn_imdb_filt = df_tn_imdb[(df_tn_imdb['numvotes'] >= 100000) & (df_imdb['start_year'] >= 2012)]"
   ]
  },
  {
   "cell_type": "code",
   "execution_count": 54,
   "metadata": {
    "scrolled": false
   },
   "outputs": [
    {
     "data": {
      "text/html": [
       "<div>\n",
       "<style scoped>\n",
       "    .dataframe tbody tr th:only-of-type {\n",
       "        vertical-align: middle;\n",
       "    }\n",
       "\n",
       "    .dataframe tbody tr th {\n",
       "        vertical-align: top;\n",
       "    }\n",
       "\n",
       "    .dataframe thead th {\n",
       "        text-align: right;\n",
       "    }\n",
       "</style>\n",
       "<table border=\"1\" class=\"dataframe\">\n",
       "  <thead>\n",
       "    <tr style=\"text-align: right;\">\n",
       "      <th></th>\n",
       "      <th>id</th>\n",
       "      <th>production_budget</th>\n",
       "      <th>domestic_gross</th>\n",
       "      <th>worldwide_gross</th>\n",
       "      <th>worldwide_profit</th>\n",
       "      <th>start_year</th>\n",
       "      <th>runtime_minutes</th>\n",
       "      <th>averagerating</th>\n",
       "      <th>numvotes</th>\n",
       "      <th>birth_year</th>\n",
       "      <th>death_year</th>\n",
       "      <th>rating_relative_to_avg</th>\n",
       "    </tr>\n",
       "    <tr>\n",
       "      <th>primary_name</th>\n",
       "      <th></th>\n",
       "      <th></th>\n",
       "      <th></th>\n",
       "      <th></th>\n",
       "      <th></th>\n",
       "      <th></th>\n",
       "      <th></th>\n",
       "      <th></th>\n",
       "      <th></th>\n",
       "      <th></th>\n",
       "      <th></th>\n",
       "      <th></th>\n",
       "    </tr>\n",
       "  </thead>\n",
       "  <tbody>\n",
       "    <tr>\n",
       "      <th>Anthony Russo</th>\n",
       "      <td>11.5</td>\n",
       "      <td>235000000.0</td>\n",
       "      <td>1.381268e+09</td>\n",
       "      <td>1.381268e+09</td>\n",
       "      <td>1.146268e+09</td>\n",
       "      <td>2016.0</td>\n",
       "      <td>142.5</td>\n",
       "      <td>8.15</td>\n",
       "      <td>668589.0</td>\n",
       "      <td>1970.0</td>\n",
       "      <td>NaN</td>\n",
       "      <td>1.817271</td>\n",
       "    </tr>\n",
       "    <tr>\n",
       "      <th>J.A. Bayona</th>\n",
       "      <td>13.0</td>\n",
       "      <td>170000000.0</td>\n",
       "      <td>1.305773e+09</td>\n",
       "      <td>1.305773e+09</td>\n",
       "      <td>1.135773e+09</td>\n",
       "      <td>2018.0</td>\n",
       "      <td>128.0</td>\n",
       "      <td>6.20</td>\n",
       "      <td>219125.0</td>\n",
       "      <td>1975.0</td>\n",
       "      <td>NaN</td>\n",
       "      <td>-0.132729</td>\n",
       "    </tr>\n",
       "    <tr>\n",
       "      <th>Pierre Coffin</th>\n",
       "      <td>73.0</td>\n",
       "      <td>74000000.0</td>\n",
       "      <td>1.160336e+09</td>\n",
       "      <td>1.160336e+09</td>\n",
       "      <td>1.086336e+09</td>\n",
       "      <td>2015.0</td>\n",
       "      <td>91.0</td>\n",
       "      <td>6.40</td>\n",
       "      <td>193917.0</td>\n",
       "      <td>1967.0</td>\n",
       "      <td>NaN</td>\n",
       "      <td>0.067271</td>\n",
       "    </tr>\n",
       "    <tr>\n",
       "      <th>Joss Whedon</th>\n",
       "      <td>4.0</td>\n",
       "      <td>330600000.0</td>\n",
       "      <td>1.403014e+09</td>\n",
       "      <td>1.403014e+09</td>\n",
       "      <td>1.072414e+09</td>\n",
       "      <td>2015.0</td>\n",
       "      <td>141.0</td>\n",
       "      <td>7.30</td>\n",
       "      <td>665594.0</td>\n",
       "      <td>1964.0</td>\n",
       "      <td>NaN</td>\n",
       "      <td>0.967271</td>\n",
       "    </tr>\n",
       "    <tr>\n",
       "      <th>Brad Bird</th>\n",
       "      <td>44.0</td>\n",
       "      <td>200000000.0</td>\n",
       "      <td>1.242521e+09</td>\n",
       "      <td>1.242521e+09</td>\n",
       "      <td>1.042521e+09</td>\n",
       "      <td>2018.0</td>\n",
       "      <td>118.0</td>\n",
       "      <td>7.70</td>\n",
       "      <td>203510.0</td>\n",
       "      <td>1957.0</td>\n",
       "      <td>NaN</td>\n",
       "      <td>1.367271</td>\n",
       "    </tr>\n",
       "    <tr>\n",
       "      <th>Shane Black</th>\n",
       "      <td>48.0</td>\n",
       "      <td>200000000.0</td>\n",
       "      <td>1.215392e+09</td>\n",
       "      <td>1.215392e+09</td>\n",
       "      <td>1.015392e+09</td>\n",
       "      <td>2013.0</td>\n",
       "      <td>130.0</td>\n",
       "      <td>7.20</td>\n",
       "      <td>692794.0</td>\n",
       "      <td>1961.0</td>\n",
       "      <td>NaN</td>\n",
       "      <td>0.867271</td>\n",
       "    </tr>\n",
       "    <tr>\n",
       "      <th>Jared Bush</th>\n",
       "      <td>57.0</td>\n",
       "      <td>150000000.0</td>\n",
       "      <td>1.019430e+09</td>\n",
       "      <td>1.019430e+09</td>\n",
       "      <td>8.694296e+08</td>\n",
       "      <td>2016.0</td>\n",
       "      <td>108.0</td>\n",
       "      <td>8.00</td>\n",
       "      <td>383446.0</td>\n",
       "      <td>1974.0</td>\n",
       "      <td>NaN</td>\n",
       "      <td>1.667271</td>\n",
       "    </tr>\n",
       "    <tr>\n",
       "      <th>Lee Unkrich</th>\n",
       "      <td>47.0</td>\n",
       "      <td>200000000.0</td>\n",
       "      <td>1.068880e+09</td>\n",
       "      <td>1.068880e+09</td>\n",
       "      <td>8.688795e+08</td>\n",
       "      <td>2010.0</td>\n",
       "      <td>103.0</td>\n",
       "      <td>8.30</td>\n",
       "      <td>682218.0</td>\n",
       "      <td>1967.0</td>\n",
       "      <td>NaN</td>\n",
       "      <td>1.967271</td>\n",
       "    </tr>\n",
       "    <tr>\n",
       "      <th>Gareth Edwards</th>\n",
       "      <td>45.0</td>\n",
       "      <td>200000000.0</td>\n",
       "      <td>1.049103e+09</td>\n",
       "      <td>1.049103e+09</td>\n",
       "      <td>8.491029e+08</td>\n",
       "      <td>2016.0</td>\n",
       "      <td>133.0</td>\n",
       "      <td>7.80</td>\n",
       "      <td>478592.0</td>\n",
       "      <td>1975.0</td>\n",
       "      <td>NaN</td>\n",
       "      <td>1.467271</td>\n",
       "    </tr>\n",
       "    <tr>\n",
       "      <th>Tim Burton</th>\n",
       "      <td>51.0</td>\n",
       "      <td>200000000.0</td>\n",
       "      <td>1.025491e+09</td>\n",
       "      <td>1.025491e+09</td>\n",
       "      <td>8.254911e+08</td>\n",
       "      <td>2010.0</td>\n",
       "      <td>108.0</td>\n",
       "      <td>6.50</td>\n",
       "      <td>358813.0</td>\n",
       "      <td>1958.0</td>\n",
       "      <td>NaN</td>\n",
       "      <td>0.167271</td>\n",
       "    </tr>\n",
       "  </tbody>\n",
       "</table>\n",
       "</div>"
      ],
      "text/plain": [
       "                  id  production_budget  domestic_gross  worldwide_gross  \\\n",
       "primary_name                                                               \n",
       "Anthony Russo   11.5        235000000.0    1.381268e+09     1.381268e+09   \n",
       "J.A. Bayona     13.0        170000000.0    1.305773e+09     1.305773e+09   \n",
       "Pierre Coffin   73.0         74000000.0    1.160336e+09     1.160336e+09   \n",
       "Joss Whedon      4.0        330600000.0    1.403014e+09     1.403014e+09   \n",
       "Brad Bird       44.0        200000000.0    1.242521e+09     1.242521e+09   \n",
       "Shane Black     48.0        200000000.0    1.215392e+09     1.215392e+09   \n",
       "Jared Bush      57.0        150000000.0    1.019430e+09     1.019430e+09   \n",
       "Lee Unkrich     47.0        200000000.0    1.068880e+09     1.068880e+09   \n",
       "Gareth Edwards  45.0        200000000.0    1.049103e+09     1.049103e+09   \n",
       "Tim Burton      51.0        200000000.0    1.025491e+09     1.025491e+09   \n",
       "\n",
       "                worldwide_profit  start_year  runtime_minutes  averagerating  \\\n",
       "primary_name                                                                   \n",
       "Anthony Russo       1.146268e+09      2016.0            142.5           8.15   \n",
       "J.A. Bayona         1.135773e+09      2018.0            128.0           6.20   \n",
       "Pierre Coffin       1.086336e+09      2015.0             91.0           6.40   \n",
       "Joss Whedon         1.072414e+09      2015.0            141.0           7.30   \n",
       "Brad Bird           1.042521e+09      2018.0            118.0           7.70   \n",
       "Shane Black         1.015392e+09      2013.0            130.0           7.20   \n",
       "Jared Bush          8.694296e+08      2016.0            108.0           8.00   \n",
       "Lee Unkrich         8.688795e+08      2010.0            103.0           8.30   \n",
       "Gareth Edwards      8.491029e+08      2016.0            133.0           7.80   \n",
       "Tim Burton          8.254911e+08      2010.0            108.0           6.50   \n",
       "\n",
       "                numvotes  birth_year  death_year  rating_relative_to_avg  \n",
       "primary_name                                                              \n",
       "Anthony Russo   668589.0      1970.0         NaN                1.817271  \n",
       "J.A. Bayona     219125.0      1975.0         NaN               -0.132729  \n",
       "Pierre Coffin   193917.0      1967.0         NaN                0.067271  \n",
       "Joss Whedon     665594.0      1964.0         NaN                0.967271  \n",
       "Brad Bird       203510.0      1957.0         NaN                1.367271  \n",
       "Shane Black     692794.0      1961.0         NaN                0.867271  \n",
       "Jared Bush      383446.0      1974.0         NaN                1.667271  \n",
       "Lee Unkrich     682218.0      1967.0         NaN                1.967271  \n",
       "Gareth Edwards  478592.0      1975.0         NaN                1.467271  \n",
       "Tim Burton      358813.0      1958.0         NaN                0.167271  "
      ]
     },
     "execution_count": 54,
     "metadata": {},
     "output_type": "execute_result"
    }
   ],
   "source": [
    "top10_dirs_profit = df_tn_imdb_filt.groupby('primary_name').mean().sort_values('worldwide_profit', ascending=False)[0:10]\n",
    "top10_dirs_profit"
   ]
  },
  {
   "cell_type": "code",
   "execution_count": 55,
   "metadata": {},
   "outputs": [
    {
     "data": {
      "text/plain": [
       "<BarContainer object of 10 artists>"
      ]
     },
     "execution_count": 55,
     "metadata": {},
     "output_type": "execute_result"
    },
    {
     "data": {
      "image/png": "[encoded data removed]",
      "text/plain": [
       "<Figure size 432x288 with 1 Axes>"
      ]
     },
     "metadata": {
      "needs_background": "light"
     },
     "output_type": "display_data"
    }
   ],
   "source": [
    "fig, ax = plt.subplots()\n",
    "\n",
    "x = top10_dirs_profit.index\n",
    "y = top10_dirs_profit['worldwide_profit']\n",
    "\n",
    "ax.set_xlabel(\"Director\")\n",
    "ax.set_ylabel(\"Avg Profit per Movie\")\n",
    "ax.set_title(\"Top 10 Directors Avg Profit per Movie Since 2012\")\n",
    "\n",
    "plt.xticks(rotation=90)\n",
    "\n",
    "ax.bar(x,y)"
   ]
  },
  {
   "cell_type": "code",
   "execution_count": 56,
   "metadata": {},
   "outputs": [
    {
     "data": {
      "text/plain": [
       "<matplotlib.collections.PathCollection at 0x249c4c487c0>"
      ]
     },
     "execution_count": 56,
     "metadata": {},
     "output_type": "execute_result"
    },
    {
     "data": {
      "image/png": "[encoded data removed]",
      "text/plain": [
       "<Figure size 432x288 with 1 Axes>"
      ]
     },
     "metadata": {
      "needs_background": "light"
     },
     "output_type": "display_data"
    }
   ],
   "source": [
    "fig, ax = plt.subplots()\n",
    "\n",
    "x = df_tn_imdb_filt['averagerating']\n",
    "y = df_tn_imdb_filt['worldwide_profit']\n",
    "\n",
    "ax.set_xlabel(\"Avg Rating\")\n",
    "ax.set_ylabel(\"Profit\")\n",
    "ax.set_title(\"Avg Rating by Profit\")\n",
    "\n",
    "\n",
    "\n",
    "ax.scatter(x,y)"
   ]
  },
  {
   "cell_type": "code",
   "execution_count": 57,
   "metadata": {},
   "outputs": [
    {
     "data": {
      "text/plain": [
       "0.14375206103201144"
      ]
     },
     "execution_count": 57,
     "metadata": {},
     "output_type": "execute_result"
    }
   ],
   "source": [
    "df_tn_imdb_filt['averagerating'].corr(df_tn_imdb_filt['worldwide_profit'])"
   ]
  },
  {
   "cell_type": "code",
   "execution_count": 58,
   "metadata": {},
   "outputs": [
    {
     "data": {
      "text/plain": [
       "0.6237389744636805"
      ]
     },
     "execution_count": 58,
     "metadata": {},
     "output_type": "execute_result"
    }
   ],
   "source": [
    "df_tn_imdb_filt['production_budget'].corr(df_tn_imdb_filt['worldwide_profit'])"
   ]
  },
  {
   "cell_type": "code",
   "execution_count": 71,
   "metadata": {},
   "outputs": [
    {
     "data": {
      "text/plain": [
       "<matplotlib.collections.PathCollection at 0x249c8ac6cd0>"
      ]
     },
     "execution_count": 71,
     "metadata": {},
     "output_type": "execute_result"
    },
    {
     "data": {
      "image/png": "[encoded data removed]",
      "text/plain": [
       "<Figure size 1080x360 with 2 Axes>"
      ]
     },
     "metadata": {
      "needs_background": "light"
     },
     "output_type": "display_data"
    }
   ],
   "source": [
    "fig, (ax1, ax2) = plt.subplots(nrows=1, ncols=2, figsize=(15,5))\n",
    "\n",
    "plt.suptitle(\"Production Budget of Movies Since 2012\")\n",
    "\n",
    "x1 = df_tn_imdb_filt['production_budget']\n",
    "y1 = df_tn_imdb_filt['averagerating']\n",
    "\n",
    "x2 = df_tn_imdb_filt['production_budget']\n",
    "y2 = df_tn_imdb_filt['worldwide_profit']\n",
    "\n",
    "\n",
    "ax1.set_xlabel(\"Production Budget\")\n",
    "ax1.set_ylabel(\"Average Rating\")\n",
    "ax1.set_title(\"by Average Rating\")\n",
    "\n",
    "ax2.set_xlabel(\"Production Budget\")\n",
    "ax2.set_ylabel(\"Worldwide Profit\")\n",
    "ax2.set_title(\"by Worldwide Profit\")\n",
    "\n",
    "ax1.scatter(x1, y1)\n",
    "ax2.scatter(x2, y2)"
   ]
  },
  {
   "cell_type": "code",
   "execution_count": 65,
   "metadata": {},
   "outputs": [
    {
     "data": {
      "text/plain": [
       "-0.09842752224249707"
      ]
     },
     "execution_count": 65,
     "metadata": {},
     "output_type": "execute_result"
    }
   ],
   "source": [
    "df_tn_imdb_filt['production_budget'].corr(df_tn_imdb_filt['averagerating'])"
   ]
  },
  {
   "cell_type": "code",
   "execution_count": 66,
   "metadata": {},
   "outputs": [
    {
     "data": {
      "text/plain": [
       "0.6237389744636805"
      ]
     },
     "execution_count": 66,
     "metadata": {},
     "output_type": "execute_result"
    }
   ],
   "source": [
    "df_tn_imdb_filt['production_budget'].corr(df_tn_imdb_filt['worldwide_profit'])"
   ]
  },
  {
   "cell_type": "code",
   "execution_count": 64,
   "metadata": {},
   "outputs": [
    {
     "data": {
      "text/plain": [
       "<matplotlib.collections.PathCollection at 0x249cc9390d0>"
      ]
     },
     "execution_count": 64,
     "metadata": {},
     "output_type": "execute_result"
    },
    {
     "data": {
      "image/png": "[encoded data removed]",
      "text/plain": [
       "<Figure size 1080x360 with 2 Axes>"
      ]
     },
     "metadata": {
      "needs_background": "light"
     },
     "output_type": "display_data"
    }
   ],
   "source": [
    "fig, (ax1, ax2) = plt.subplots(nrows=1, ncols=2, figsize=(15,5))\n",
    "\n",
    "x1 = df_tn_imdb['production_budget']\n",
    "y1 = df_tn_imdb['averagerating']\n",
    "\n",
    "x2 = df_tn_imdb['production_budget']\n",
    "y2 = df_tn_imdb['worldwide_profit']\n",
    "\n",
    "ax1.set_xlabel(\"Production Budget\")\n",
    "ax1.set_ylabel(\"Average Rating\")\n",
    "\n",
    "ax2.set_xlabel(\"Production Budget\")\n",
    "ax2.set_ylabel(\"Worldwide Profit\")\n",
    "\n",
    "ax1.scatter(x1, y1)\n",
    "ax2.scatter(x2, y2)"
   ]
  },
  {
   "cell_type": "code",
   "execution_count": 67,
   "metadata": {},
   "outputs": [
    {
     "data": {
      "text/plain": [
       "0.2225609389897727"
      ]
     },
     "execution_count": 67,
     "metadata": {},
     "output_type": "execute_result"
    }
   ],
   "source": [
    "df_tn_imdb['production_budget'].corr(df_tn_imdb['averagerating'])"
   ]
  },
  {
   "cell_type": "code",
   "execution_count": 68,
   "metadata": {},
   "outputs": [
    {
     "data": {
      "text/plain": [
       "0.6622588394897604"
      ]
     },
     "execution_count": 68,
     "metadata": {},
     "output_type": "execute_result"
    }
   ],
   "source": [
    "df_tn_imdb['production_budget'].corr(df_tn_imdb['worldwide_profit'])"
   ]
  },
  {
   "cell_type": "code",
   "execution_count": null,
   "metadata": {},
   "outputs": [],
   "source": []
  }
 ],
 "metadata": {
  "kernelspec": {
   "display_name": "Python (learn-env)",
   "language": "python",
   "name": "learn-env"
  },
  "language_info": {
   "codemirror_mode": {
    "name": "ipython",
    "version": 3
   },
   "file_extension": ".py",
   "mimetype": "text/x-python",
   "name": "python",
   "nbconvert_exporter": "python",
   "pygments_lexer": "ipython3",
   "version": "3.8.5"
  }
 },
 "nbformat": 4,
 "nbformat_minor": 4
}
