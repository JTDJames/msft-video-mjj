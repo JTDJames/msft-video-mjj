{
 "cells": [
  {
   "cell_type": "markdown",
   "metadata": {},
   "source": [
    "# Microsoft Original Video Content"
   ]
  },
  {
   "cell_type": "markdown",
   "metadata": {},
   "source": [
    "# Table of Contents\n",
    "*[Overvdiew](#over)<br>\n",
    "*[Business Understanding](#bizund)<br>\n",
    "*[Data Understanding](#dataund)<br>\n",
    "*[Data Preperation](#dataprep)<br>\n",
    "*[Data Import](#dataimport)<br>\n",
    "    *[Data Cleaning](#datacleaning)<br>\n",
    "        *[IMDB Cleaning](#imdbclean)<br>\n",
    "        *[The Numbers (TN) Cleaning](#imdbclean)<br>\n",
    "        *[Data Mergeing](#merge)<br>\n",
    "*[Analysis](#explore)<br>\n",
    "    *[Studios to Hire From](#stud)<br>\n",
    "    *[Allocation of Budget](#bud)<br>\n",
    "    *[Successful Genres](#gen)<br>\n",
    "    *[Direcotrs to Work With](#dir)<br>\n",
    "    *[Average Rating IMDB](#rat)<br>\n",
    "*[Conslusion](#con)<br>\n",
    "*[Nest Steps](#steps)<br>\n"
   ]
  },
  {
   "cell_type": "markdown",
   "metadata": {},
   "source": [
    "# Overview <a class=\"anchor\" id=\"over\"></a>"
   ]
  },
  {
   "cell_type": "markdown",
   "metadata": {},
   "source": [
    "# Business Problem <a class=\"anchor\" id=\"bizund\"></a>"
   ]
  },
  {
   "cell_type": "markdown",
   "metadata": {},
   "source": [
    "# Data Understanding <a class=\"anchor\" id=\"dataund\"></a>"
   ]
  },
  {
   "cell_type": "code",
   "execution_count": 1,
   "metadata": {},
   "outputs": [],
   "source": [
    "# Import linraries and modules\n",
    "\n",
    "import pandas as pd\n",
    "import matplotlib.pyplot as plt\n",
    "import seaborn as sns\n",
    "import sqlite3 "
   ]
  },
  {
   "cell_type": "code",
   "execution_count": 2,
   "metadata": {},
   "outputs": [],
   "source": [
    "#Access IMDB data through sqlite3\n",
    "\n",
    "# Connect to sqlite3\n",
    "conn = sqlite3.connect('../data/im.db')\n",
    "\n",
    "# Query and join IMDB tables movie_basics, movie_ratings and director information (joined tables directors and perons)\n",
    "\n",
    "df_imdb = pd.read_sql(\"\"\"\n",
    "    SELECT *\n",
    "    FROM \n",
    "    movie_basics AS mb\n",
    "        LEFT JOIN movie_ratings AS mr\n",
    "            ON mb.movie_id = mr.movie_id\n",
    "        LEFT JOIN\n",
    "            (SELECT *\n",
    "            FROM directors GROUP BY movie_id) AS dr\n",
    "            ON mb.movie_id = dr.movie_id\n",
    "        LEFT JOIN persons AS ps\n",
    "            ON dr.person_id = ps.person_id\n",
    "\"\"\", conn)"
   ]
  },
  {
   "cell_type": "code",
   "execution_count": 3,
   "metadata": {},
   "outputs": [],
   "source": [
    "# Import The Numbers dataset\n",
    "df_tn = pd.read_csv('../data/tn.movie_budgets.csv')"
   ]
  },
  {
   "cell_type": "code",
   "execution_count": 4,
   "metadata": {},
   "outputs": [],
   "source": [
    "# Import The Numbers dataset\n",
    "df_bom = pd.read_csv('../data/bom.movie_gross.csv')"
   ]
  },
  {
   "cell_type": "code",
   "execution_count": 5,
   "metadata": {},
   "outputs": [
    {
     "name": "stdout",
     "output_type": "stream",
     "text": [
      "<class 'pandas.core.frame.DataFrame'>\n",
      "RangeIndex: 146144 entries, 0 to 146143\n",
      "Data columns (total 16 columns):\n",
      " #   Column              Non-Null Count   Dtype  \n",
      "---  ------              --------------   -----  \n",
      " 0   movie_id            146144 non-null  object \n",
      " 1   primary_title       146144 non-null  object \n",
      " 2   original_title      146123 non-null  object \n",
      " 3   start_year          146144 non-null  int64  \n",
      " 4   runtime_minutes     114405 non-null  float64\n",
      " 5   genres              140736 non-null  object \n",
      " 6   movie_id            73856 non-null   object \n",
      " 7   averagerating       73856 non-null   float64\n",
      " 8   numvotes            73856 non-null   float64\n",
      " 9   movie_id            140417 non-null  object \n",
      " 10  person_id           140417 non-null  object \n",
      " 11  person_id           140416 non-null  object \n",
      " 12  primary_name        140416 non-null  object \n",
      " 13  birth_year          30609 non-null   float64\n",
      " 14  death_year          856 non-null     float64\n",
      " 15  primary_profession  139887 non-null  object \n",
      "dtypes: float64(5), int64(1), object(10)\n",
      "memory usage: 17.8+ MB\n"
     ]
    }
   ],
   "source": [
    "df_imdb.info()"
   ]
  },
  {
   "cell_type": "code",
   "execution_count": 6,
   "metadata": {},
   "outputs": [
    {
     "name": "stdout",
     "output_type": "stream",
     "text": [
      "<class 'pandas.core.frame.DataFrame'>\n",
      "RangeIndex: 5782 entries, 0 to 5781\n",
      "Data columns (total 6 columns):\n",
      " #   Column             Non-Null Count  Dtype \n",
      "---  ------             --------------  ----- \n",
      " 0   id                 5782 non-null   int64 \n",
      " 1   release_date       5782 non-null   object\n",
      " 2   movie              5782 non-null   object\n",
      " 3   production_budget  5782 non-null   object\n",
      " 4   domestic_gross     5782 non-null   object\n",
      " 5   worldwide_gross    5782 non-null   object\n",
      "dtypes: int64(1), object(5)\n",
      "memory usage: 271.2+ KB\n"
     ]
    }
   ],
   "source": [
    "df_tn.info()"
   ]
  },
  {
   "cell_type": "code",
   "execution_count": 7,
   "metadata": {},
   "outputs": [
    {
     "name": "stdout",
     "output_type": "stream",
     "text": [
      "<class 'pandas.core.frame.DataFrame'>\n",
      "RangeIndex: 3387 entries, 0 to 3386\n",
      "Data columns (total 5 columns):\n",
      " #   Column          Non-Null Count  Dtype  \n",
      "---  ------          --------------  -----  \n",
      " 0   title           3387 non-null   object \n",
      " 1   studio          3382 non-null   object \n",
      " 2   domestic_gross  3359 non-null   float64\n",
      " 3   foreign_gross   2037 non-null   object \n",
      " 4   year            3387 non-null   int64  \n",
      "dtypes: float64(1), int64(1), object(3)\n",
      "memory usage: 132.4+ KB\n"
     ]
    }
   ],
   "source": [
    "df_bom.info()"
   ]
  },
  {
   "cell_type": "markdown",
   "metadata": {},
   "source": [
    "# Data Preperation <a class=\"anchor\" id=\"dataprep\"></a>"
   ]
  },
  {
   "cell_type": "markdown",
   "metadata": {},
   "source": [
    "## Data Import <a class=\"anchor\" id=\"dataimport\"></a>"
   ]
  },
  {
   "cell_type": "markdown",
   "metadata": {},
   "source": [
    "## Data Cleaning <a class=\"anchor\" id=\"datacleaning\"></a>"
   ]
  },
  {
   "cell_type": "markdown",
   "metadata": {},
   "source": [
    "### IMDB Cleaning <a class=\"anchor\" id=\"imdbclean\"></a>"
   ]
  },
  {
   "cell_type": "code",
   "execution_count": null,
   "metadata": {},
   "outputs": [],
   "source": [
    "# Split genres from IMDB data into spereate columns\n",
    "df_imdb[['Genre_1','Genre_2', 'Genre_3']] = df_imdb[\"genres\"].str.split(\",\",expand=True)\n",
    "\n",
    "# Add colum of avrage rating relative to mean of overall average rating\n",
    "df_imdb['rating_relative_to_avg'] = df_imdb['averagerating'] - df_imdb['averagerating'].mean()\n",
    "\n",
    "\n",
    "# Create dataframe of counts of genres\n",
    "# Count genres by column\n",
    "df_gen_cnt = df_imdb[['Genre_1', 'Genre_2', 'Genre_3']].apply(pd.Series.value_counts)\n",
    "# Make NaNs 0\n",
    "df_gen_cnt = df_gen_cnt.fillna(0)\n",
    "\n",
    "# Get total count per genre and add to total counts column\n",
    "df_gen_cnt['total_gen_cnt'] = df_gen_cnt['Genre_1'] + df_gen_cnt['Genre_2'] + df_gen_cnt['Genre_3']\n",
    "\n",
    "# Create a datafram of genre combinations and their averagerating\n",
    "df_genres = df_imdb.loc[:, [\"Genre_1\",\"Genre_2\",\"Genre_3\", \"averagerating\", \"numvotes\", 'start_year']]\n",
    "\n",
    "# A dataframe of genre value counts\n",
    "df_gen_cnt = df_imdb[['Genre_1', 'Genre_2', 'Genre_3']].apply(pd.Series.value_counts)\n",
    "df_gen_cnt = df_gen_cnt.fillna(0)\n",
    "df_gen_cnt['total_gen_cnt'] = df_gen_cnt['Genre_1'] + df_gen_cnt['Genre_2'] + df_gen_cnt['Genre_3']\n",
    "df_genres = df_genres.dropna(subset=['averagerating'])\n"
   ]
  },
  {
   "cell_type": "code",
   "execution_count": null,
   "metadata": {},
   "outputs": [],
   "source": [
    "df_gen_cnt"
   ]
  },
  {
   "cell_type": "markdown",
   "metadata": {},
   "source": [
    "### TN Cleaning <a class=\"anchor\" id=\"tnclean\"></a>"
   ]
  },
  {
   "cell_type": "code",
   "execution_count": null,
   "metadata": {},
   "outputs": [],
   "source": [
    "# Remove non-numerical characters from strings that will be converted to numerics\n",
    "df_tn['production_budget'] = df_tn['production_budget'].str.replace(\",\",\"\")\n",
    "df_tn['production_budget'] = df_tn['production_budget'].str.replace(\"$\",\"\")\n",
    "\n",
    "df_tn['worldwide_gross'] = df_tn['worldwide_gross'].str.replace(\",\",\"\")\n",
    "df_tn['worldwide_gross'] = df_tn['worldwide_gross'].str.replace(\"$\",\"\")\n",
    "\n",
    "df_tn['domestic_gross'] = df_tn['worldwide_gross'].str.replace(\",\",\"\")\n",
    "df_tn['domestic_gross'] = df_tn['worldwide_gross'].str.replace(\"$\",\"\")"
   ]
  },
  {
   "cell_type": "code",
   "execution_count": null,
   "metadata": {},
   "outputs": [],
   "source": [
    "# Convert strings representing money values to numeric\n",
    "df_tn['worldwide_gross'] = df_tn['worldwide_gross'].astype('int64')\n",
    "df_tn['production_budget'] = df_tn['production_budget'].astype('int64')\n",
    "df_tn['domestic_gross'] = df_tn['domestic_gross'].astype('int64')"
   ]
  },
  {
   "cell_type": "code",
   "execution_count": null,
   "metadata": {},
   "outputs": [],
   "source": [
    "# Convert the data type of the 'release_date' column to a date\n",
    "df_tn['release_date'] = pd.to_datetime(df_tn['release_date'],format=\"%b %d, %Y\")\n",
    "\n",
    "# Add a new columns 'year'\n",
    "df_tn['release_year'] = df_tn['release_date'].dt.year\n",
    "\n",
    "# Create key column movie + year\n",
    "df_tn['release_year'] = df_tn['release_year'].astype(str)\n",
    "df_tn['mov_yr_key'] = df_tn['movie'] + \"-\" + df_tn['release_year']"
   ]
  },
  {
   "cell_type": "code",
   "execution_count": null,
   "metadata": {},
   "outputs": [],
   "source": [
    "# Create a column of wordwide profit by sibtracting production budget from worldwide gross\n",
    "df_tn_dna['worldwide_profit'] = df_tn_dna['worldwide_gross'] - df_tn_dna['production_budget']"
   ]
  },
  {
   "cell_type": "markdown",
   "metadata": {},
   "source": [
    "### BOM"
   ]
  },
  {
   "cell_type": "code",
   "execution_count": null,
   "metadata": {},
   "outputs": [],
   "source": [
    "# # Remove non-numerical characters from strings that will be converted to numerics\n",
    "df_bom['foreign_gross'] = df_bom['foreign_gross'].str.replace(\",\",\"\")\n",
    "\n",
    "# Convert strings representing money values to numeric\n",
    "df_bom['foreign_gross'] = df_bom['foreign_gross'].astype(float)\n",
    "\n",
    "# Create a column of total gross by adding together foreign gross and domesitc gross\n",
    "df_bom['total_gross'] = df_bom['foreign_gross'] + df_bom['domestic_gross']"
   ]
  },
  {
   "cell_type": "markdown",
   "metadata": {},
   "source": [
    "### Data Merging <a class=\"anchor\" id=\"merge\"></a>"
   ]
  },
  {
   "cell_type": "markdown",
   "metadata": {},
   "source": [
    "Before merging the datasets, we created new column in both the IMDB and TN datasets 'mov_yr_key' a conbination of the title and year string columns of each data set. "
   ]
  },
  {
   "cell_type": "code",
   "execution_count": null,
   "metadata": {},
   "outputs": [],
   "source": [
    "df_imdb['year_str'] = df_imdb['start_year'].astype(str)\n",
    "df_imdb['mov_yr_key'] = df_imdb['primary_title'] + \"-\" + df_imdb['year_str']"
   ]
  },
  {
   "cell_type": "code",
   "execution_count": null,
   "metadata": {},
   "outputs": [],
   "source": [
    "# Merge the imdb and tn datasets on 'mov_yr_key'\n",
    "df_tn_imdb = df_tn_dna.merge(df_imdb,how='inner',left_on='mov_yr_key', right_on='mov_yr_key',suffixes=('_tn', '_imdb'))"
   ]
  },
  {
   "cell_type": "markdown",
   "metadata": {},
   "source": [
    "To focus on recent trend and successes in the indiustry, we will focus on movies made no older than 2012."
   ]
  },
  {
   "cell_type": "code",
   "execution_count": null,
   "metadata": {},
   "outputs": [],
   "source": [
    "# Create filtered dataFrame of merged data to only include movies made since 2012\n",
    "df_tn_imdb_filt_year = df_tn_imdb[df_imdb['start_year'] >= 2012]\n",
    "\n",
    "# Create filtered dataFrame of merged data to only include movies made since 2012 \n",
    "#and made a worldwide profit of at least $50,000,000\n",
    "df_tn_imdb_filt_year_5hunthou = df_tn_imdb_filt_year[df_tn_imdb_filt_year['worldwide_profit'] > 50000000]\n",
    "\n",
    "# Create filtered dataFrame of merged data to only include movies with at leaste 100000 votes and made since 2012\n",
    "df_tn_imdb_filt = df_tn_imdb[(df_tn_imdb['numvotes'] >= 100000) & (df_imdb['start_year'] >= 2012)]\n",
    "df_bom_filt = df_bom[df_bom['year'] >= 2012]"
   ]
  },
  {
   "cell_type": "markdown",
   "metadata": {},
   "source": [
    "# Analysis <a class=\"anchor\" id=\"explore\"></a>"
   ]
  },
  {
   "cell_type": "markdown",
   "metadata": {},
   "source": [
    "### Studios to Hire From <a class=\"anchor\" id=\"stud\"></a>"
   ]
  },
  {
   "cell_type": "markdown",
   "metadata": {},
   "source": [
    "Microsoft will need to staff the new movie studio with successful and experienced persons. "
   ]
  },
  {
   "cell_type": "code",
   "execution_count": null,
   "metadata": {},
   "outputs": [],
   "source": [
    "# Group by studio and examine largest sums of total gross\n",
    "df_bom_filt.groupby('studio').sum().sort_values('total_gross', ascending=False)"
   ]
  },
  {
   "cell_type": "code",
   "execution_count": null,
   "metadata": {},
   "outputs": [],
   "source": [
    "# Select the top 10 studios by sum of total gross and save to a variable\n",
    "top10_stud_filt = df_bom_filt.groupby('studio').sum().sort_values('total_gross', ascending=False)[:10]\n",
    "top10_stud_filt"
   ]
  },
  {
   "cell_type": "code",
   "execution_count": null,
   "metadata": {},
   "outputs": [],
   "source": [
    "# Vizualize top t0 studios by sum of total gross since 2012\n",
    "fig, ax = plt.subplots()\n",
    "\n",
    "x = top10_stud_filt.index\n",
    "y = top10_stud_filt['total_gross']\n",
    "\n",
    "ax.set_xlabel(\"Studio\")\n",
    "ax.set_ylabel(\"Total Gross\")\n",
    "ax.set_title(\"Studios with Greatest Total Gross Since 2012\")\n",
    "\n",
    "plt.xticks(rotation=90)\n",
    "\n",
    "ax.bar(x,y)"
   ]
  },
  {
   "cell_type": "code",
   "execution_count": null,
   "metadata": {},
   "outputs": [],
   "source": [
    "# Select the top 10 studios by number of movies released\n",
    "stud_top_num_mov = df_bom_filt.value_counts(subset='studio')[:10]\n",
    "stud_top_num_mov"
   ]
  },
  {
   "cell_type": "code",
   "execution_count": null,
   "metadata": {},
   "outputs": [],
   "source": [
    "# Vizualize top 10 studios by number of movies released\n",
    "fig, ax = plt.subplots()\n",
    "\n",
    "x = stud_top_num_mov.index\n",
    "y = stud_top_num_mov.values\n",
    "\n",
    "ax.set_xlabel(\"Studio\")\n",
    "ax.set_ylabel(\"Number of Movies Sinse 2012\")\n",
    "ax.set_title(\"Studios with Greatest Number of Movies Made Since 2012\")\n",
    "\n",
    "plt.xticks(rotation=90)\n",
    "\n",
    "ax.bar(x,y, color=\"green\")"
   ]
  },
  {
   "cell_type": "markdown",
   "metadata": {},
   "source": [
    "## Allocation of Budget<a class=\"anchor\" id=\"bud\"></a>"
   ]
  },
  {
   "cell_type": "code",
   "execution_count": null,
   "metadata": {
    "scrolled": false
   },
   "outputs": [],
   "source": [
    "# Vizualize produciton budget vs average rating & production budget vs worldwide profit\n",
    "fig, (ax1, ax2) = plt.subplots(nrows=1, ncols=2, figsize=(15,5))\n",
    "\n",
    "plt.suptitle(\"Production Budget of Movies Since 2012\")\n",
    "\n",
    "x1 = df_tn_imdb_filt['production_budget']\n",
    "y1 = df_tn_imdb_filt['averagerating']\n",
    "\n",
    "x2 = df_tn_imdb_filt['production_budget']\n",
    "y2 = df_tn_imdb_filt['worldwide_profit']\n",
    "\n",
    "\n",
    "ax1.set_xlabel(\"Production Budget\")\n",
    "ax1.set_ylabel(\"Average Rating\")\n",
    "ax1.set_title(\"by Average Rating\")\n",
    "\n",
    "ax2.set_xlabel(\"Production Budget\")\n",
    "ax2.set_ylabel(\"Worldwide Profit\")\n",
    "ax2.set_title(\"by Worldwide Profit\")\n",
    "\n",
    "ax1.scatter(x1, y1)\n",
    "ax2.scatter(x2, y2)"
   ]
  },
  {
   "cell_type": "code",
   "execution_count": null,
   "metadata": {},
   "outputs": [],
   "source": [
    "# Get correlation of produciton budget vand average rating\n",
    "df_tn_imdb_filt['production_budget'].corr(df_tn_imdb_filt['averagerating'])"
   ]
  },
  {
   "cell_type": "code",
   "execution_count": null,
   "metadata": {},
   "outputs": [],
   "source": [
    "# Get correlation of production budget and worldwide profit\n",
    "df_tn_imdb_filt['production_budget'].corr(df_tn_imdb_filt['worldwide_profit'])"
   ]
  },
  {
   "cell_type": "code",
   "execution_count": null,
   "metadata": {},
   "outputs": [],
   "source": [
    "# Get all time correlation of produciton budget vand average rating\n",
    "df_tn_imdb['production_budget'].corr(df_tn_imdb['averagerating'])"
   ]
  },
  {
   "cell_type": "code",
   "execution_count": null,
   "metadata": {
    "scrolled": true
   },
   "outputs": [],
   "source": [
    "# Get all time correlation of production budget and worldwide profit\n",
    "df_tn_imdb['production_budget'].corr(df_tn_imdb['worldwide_profit'])"
   ]
  },
  {
   "cell_type": "code",
   "execution_count": null,
   "metadata": {},
   "outputs": [],
   "source": [
    "# Mean Budget for films since 2012 that made at least 50,000,000 in profit worldwide\n",
    "df_tn_imdb_filt_year_5hunthou['production_budget'].mean()"
   ]
  },
  {
   "cell_type": "markdown",
   "metadata": {},
   "source": [
    "## Successful Genre Combinations <a class=\"anchor\" id=\"gen\"></a>"
   ]
  },
  {
   "cell_type": "code",
   "execution_count": null,
   "metadata": {},
   "outputs": [],
   "source": [
    "# Looking at the top 10 rated genre combinations with > 100000 votes since 2012\n",
    "df_top10_gen_comb_rat = df_genres[(df_genres['numvotes'] >= 100000) & (df_genres['start_year'] >= 2012)].groupby(['Genre_1', 'Genre_2', 'Genre_3']).mean().sort_values('averagerating', ascending=False)[:10]\n",
    "df_top10_gen_comb_rat"
   ]
  },
  {
   "cell_type": "code",
   "execution_count": null,
   "metadata": {},
   "outputs": [],
   "source": [
    "#Top 50 movies by rating with at least 100,000 votes and released no later than 2012\n",
    "df_top50_rat = df_imdb[(df_imdb['numvotes'] >= 100000) & (df_imdb['start_year'] >= 2012)] .sort_values('averagerating', ascending=False)[0:50]"
   ]
  },
  {
   "cell_type": "code",
   "execution_count": null,
   "metadata": {},
   "outputs": [],
   "source": [
    "# Viz of genre counts\n",
    "top10_gen_cnt = df_gen_cnt.sort_values('total_gen_cnt', ascending=False)[0:10]\n",
    "\n",
    "fig, ax = plt.subplots()\n",
    "\n",
    "x = top10_gen_cnt.index\n",
    "y = top10_gen_cnt['total_gen_cnt']\n",
    "\n",
    "plt.xticks(rotation=90)\n",
    "\n",
    "ax.bar(x,y)"
   ]
  },
  {
   "cell_type": "code",
   "execution_count": null,
   "metadata": {},
   "outputs": [],
   "source": [
    "df_com_yr_sr_rat = df_tn_imdb_filt_year.sort_values('averagerating', ascending=False)\n",
    "top_gen_s_2012 = df_com_yr_sr_rat.loc[:,['genres', 'averagerating', 'worldwide_gross']]\n",
    "top_gen_s_2012['genres'] = top_gen_s_2012['genres'].str.replace(',', ' - ')\n",
    "top_gen_s_2012_grp = top_gen_s_2012.groupby('genres').mean()"
   ]
  },
  {
   "cell_type": "code",
   "execution_count": null,
   "metadata": {},
   "outputs": [],
   "source": [
    "top10_gen_s2012_brat = top_gen_s_2012_grp.sort_values('averagerating', ascending=False)[0:10]\n",
    "top10_gen_s2012_brat"
   ]
  },
  {
   "cell_type": "code",
   "execution_count": null,
   "metadata": {},
   "outputs": [],
   "source": [
    "top10_gen_s2012_bwrgr = top_gen_s_2012_grp.sort_values('worldwide_gross', ascending=False)[0:10]\n",
    "top10_gen_s2012_bwrgr"
   ]
  },
  {
   "cell_type": "code",
   "execution_count": null,
   "metadata": {},
   "outputs": [],
   "source": [
    "fig, ax = plt.subplots()\n",
    "\n",
    "x = top10_gen_s2012_brat.index\n",
    "y = top10_gen_s2012_brat['averagerating']\n",
    "\n",
    "ax.set_xlabel(\"Average Rating\")\n",
    "ax.set_ylabel(\"Genre Combination\")\n",
    "ax.set_title(\"Top Genre Combinations by Average Rating Since 2012\")\n",
    "\n",
    "plt.gca().invert_yaxis()\n",
    "\n",
    "ax.barh(x,y)"
   ]
  },
  {
   "cell_type": "code",
   "execution_count": null,
   "metadata": {},
   "outputs": [],
   "source": [
    "fig, ax = plt.subplots()\n",
    "\n",
    "x = top10_gen_s2012_bwrgr.index\n",
    "y = top10_gen_s2012_bwrgr['worldwide_gross']\n",
    "\n",
    "ax.set_xlabel(\"Average Worldwide Gross\")\n",
    "ax.set_ylabel(\"Genre Combination\")\n",
    "ax.set_title(\"Top Genre Combinations by Worldwide Gross Since 2012\")\n",
    "\n",
    "plt.gca().invert_yaxis()\n",
    "\n",
    "ax.barh(x,y)"
   ]
  },
  {
   "cell_type": "markdown",
   "metadata": {},
   "source": [
    "## Directors to Work With <a class=\"anchor\" id=\"dir\"></a>"
   ]
  },
  {
   "cell_type": "code",
   "execution_count": null,
   "metadata": {},
   "outputs": [],
   "source": [
    "# Viz of the directors who have more than one film in the top 50 rated movies since 2012 with more than 100000 votes\n",
    "\n",
    "# Create a series of directors who have more than one film in the top 50 rated movies since 2012 with more than 100000 votes\n",
    "dir_mul_top50 = df_top50_rat.value_counts('primary_name')[0:7]\n",
    "\n",
    "fig, ax = plt.subplots()\n",
    "\n",
    "x = dir_mul_top50.index\n",
    "y = dir_mul_top50.values\n",
    "\n",
    "plt.xticks(rotation=90)\n",
    "\n",
    "ax.set_xlabel('Movies in Top 50')\n",
    "ax.set_ylabel('Director')\n",
    "ax.set_title('Directors with More Than One Movie in Top 50\\n with at Least 100000 votes Since 2012')\n",
    "\n",
    "ax.bar(x,y)"
   ]
  },
  {
   "cell_type": "code",
   "execution_count": null,
   "metadata": {},
   "outputs": [],
   "source": [
    "# Filter data to find the top ten directors by total profit since 2012 who's movies have at least 100000 votes\n",
    "top10_dirs_profit = df_tn_imdb_filt_year.groupby('primary_name').mean().sort_values('worldwide_profit', ascending=False)[0:10]"
   ]
  },
  {
   "cell_type": "code",
   "execution_count": null,
   "metadata": {},
   "outputs": [],
   "source": [
    "# Vizualize top 10 directors by average worldwide profit per movie\n",
    "fig, ax = plt.subplots()\n",
    "\n",
    "x = top10_dirs_profit.index\n",
    "y = top10_dirs_profit['worldwide_profit']\n",
    "\n",
    "ax.set_xlabel(\"Director\")\n",
    "ax.set_ylabel(\"Avg Profit per Movie\")\n",
    "ax.set_title(\"Top 10 Directors by Avg Profit per Movie Since 2012\")\n",
    "\n",
    "plt.xticks(rotation=90)\n",
    "\n",
    "ax.bar(x,y, color=\"green\")"
   ]
  },
  {
   "cell_type": "markdown",
   "metadata": {},
   "source": [
    "## Average User Rating on IMDB <a class=\"anchor\" id=\"rat\"></a>"
   ]
  },
  {
   "cell_type": "code",
   "execution_count": null,
   "metadata": {},
   "outputs": [],
   "source": [
    "# Viz of Top 10 movies by rating with at least 100,000 votes and released no later than 2012\n",
    "df_top10_rat = df_top50_rat[0:10]\n",
    "\n",
    "fig, (ax1, ax2) = plt.subplots(nrows=1, ncols=2, figsize=(15,5))\n",
    "\n",
    "x1 = df_top10_rat['primary_title']\n",
    "y1 = df_top10_rat['averagerating']\n",
    "\n",
    "x2 = df_top10_rat['primary_title']\n",
    "y2 = df_top10_rat['rating_relative_to_avg']\n",
    "\n",
    "ax1.axhline(6.332729, c=\"black\")\n",
    "ax1.text(0,5.75,\"Overall Avg Rating\", backgroundcolor=\"White\")\n",
    "\n",
    "ax1.set_xticklabels(x1, rotation=80)\n",
    "ax2.set_xticklabels(x2, rotation=80)\n",
    "\n",
    "ax1.set_xlabel(\"Top 10 Rated Films\")\n",
    "ax1.set_ylabel(\"Avg. Rating\")\n",
    "\n",
    "ax2.set_xlabel(\"Top 10 Rated Films\")\n",
    "ax.set_ylabel(\"Avg. Rating Above Avg. Avg. Rating\")\n",
    "\n",
    "ax1.set_title(\"Average Rating\")\n",
    "ax2.set_title(\"Average Rating Above Overall Average Average Rating\")\n",
    "\n",
    "ax1.bar(x1,y1)\n",
    "ax2.bar(x2,y2)"
   ]
  },
  {
   "cell_type": "code",
   "execution_count": null,
   "metadata": {},
   "outputs": [],
   "source": [
    "# Viz of comparison of number of votes and average rating\n",
    "\n",
    "fig, (ax1, ax2) = plt.subplots(nrows=1, ncols=2, figsize=(15,5))\n",
    "\n",
    "x1 = df_imdb['averagerating']\n",
    "y1 = df_imdb['numvotes']\n",
    "\n",
    "x2 = df_top50_rat['averagerating']\n",
    "y2 = df_top50_rat['numvotes']\n",
    "\n",
    "\n",
    "ax1.set_xlabel(\"Average Rating\")\n",
    "ax1.set_ylabel(\"Number of Votes\")\n",
    "ax1.set_title(\"Average Rating by Number of Votes\")\n",
    "\n",
    "ax2.set_xlabel(\"Average Rating\")\n",
    "ax2.set_ylabel(\"Number of Votes\")\n",
    "ax2.set_title(\"Average Rating by Number of Votes for Top 50 Rated\")\n",
    "\n",
    "ax1.scatter(x1,y1)\n",
    "ax2.scatter(x2,y2)"
   ]
  },
  {
   "cell_type": "code",
   "execution_count": null,
   "metadata": {},
   "outputs": [],
   "source": [
    "# Vizualize Average Rating by Profit\n",
    "fig, ax = plt.subplots()\n",
    "\n",
    "x = df_tn_imdb_filt['averagerating']\n",
    "y = df_tn_imdb_filt['worldwide_profit']\n",
    "\n",
    "ax.set_xlabel(\"Avg Rating\")\n",
    "ax.set_ylabel(\"Profit\")\n",
    "ax.set_title(\"Avg Rating by Profit\")\n",
    "\n",
    "\n",
    "\n",
    "ax.scatter(x,y)"
   ]
  },
  {
   "cell_type": "code",
   "execution_count": null,
   "metadata": {},
   "outputs": [],
   "source": [
    "# Get correlation average rating and worldwide profit\n",
    "df_tn_imdb_filt['averagerating'].corr(df_tn_imdb_filt['worldwide_profit'])"
   ]
  },
  {
   "cell_type": "code",
   "execution_count": null,
   "metadata": {},
   "outputs": [],
   "source": [
    "# Get correlation of produciton budget and worldwide profit\n",
    "df_tn_imdb_filt['production_budget'].corr(df_tn_imdb_filt['worldwide_profit'])"
   ]
  },
  {
   "cell_type": "markdown",
   "metadata": {},
   "source": [
    "# Conclusions <a class=\"anchor\" id=\"con\"></a>"
   ]
  },
  {
   "cell_type": "markdown",
   "metadata": {},
   "source": [
    "# Nest Steps <a class=\"anchor\" id=\"steps\"></a>"
   ]
  },
  {
   "cell_type": "code",
   "execution_count": null,
   "metadata": {},
   "outputs": [],
   "source": []
  }
 ],
 "metadata": {
  "kernelspec": {
   "display_name": "Python (learn-env)",
   "language": "python",
   "name": "learn-env"
  },
  "language_info": {
   "codemirror_mode": {
    "name": "ipython",
    "version": 3
   },
   "file_extension": ".py",
   "mimetype": "text/x-python",
   "name": "python",
   "nbconvert_exporter": "python",
   "pygments_lexer": "ipython3",
   "version": "3.8.5"
  }
 },
 "nbformat": 4,
 "nbformat_minor": 4
}
